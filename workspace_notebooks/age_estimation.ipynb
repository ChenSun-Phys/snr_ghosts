{
 "cells": [
  {
   "cell_type": "markdown",
   "metadata": {},
   "source": [
    "# SNR Age Estimation"
   ]
  },
  {
   "cell_type": "code",
   "execution_count": 1,
   "metadata": {
    "execution": {
     "iopub.execute_input": "2021-10-07T06:26:20.463Z",
     "iopub.status.busy": "2021-10-07T06:26:20.445Z",
     "iopub.status.idle": "2021-10-07T06:26:20.700Z",
     "shell.execute_reply": "2021-10-07T06:26:20.763Z"
    }
   },
   "outputs": [],
   "source": [
    "# %load firstcell.py\n",
    "# autoreloading for imported modules\n",
    "%load_ext autoreload\n",
    "%autoreload 2\n",
    "\n",
    "# getting future division\n",
    "from __future__ import division\n",
    "\n",
    "# numpy\n",
    "import numpy as np\n",
    "from numpy import pi, sqrt, log, log10, power, exp\n",
    "\n",
    "#scipy\n",
    "from scipy.interpolate import interp1d\n",
    "\n",
    "# matplotlib\n",
    "import matplotlib.pyplot as plt\n",
    "from matplotlib import rcParams\n",
    "from matplotlib import rc\n",
    "from matplotlib.lines import Line2D\n",
    "\n",
    "# other\n",
    "import os\n",
    "from tqdm import tqdm\n",
    "\n",
    "# matplotlib style\n",
    "%matplotlib inline\n",
    "\n",
    "%config InlineBackend.figure_format = \"retina\"\n",
    "rcParams['figure.figsize'] = (13, 8)\n",
    "rcParams['font.family'] = 'serif'\n",
    "rcParams['font.serif'] = ['New Times Roman']\n",
    "rc('text', usetex=True)\n",
    "\n",
    "# current directory\n",
    "current_dir = os.getcwd()"
   ]
  },
  {
   "cell_type": "code",
   "execution_count": 2,
   "metadata": {
    "execution": {
     "iopub.execute_input": "2021-10-07T06:26:20.744Z",
     "iopub.status.busy": "2021-10-07T06:26:20.725Z",
     "iopub.status.idle": "2021-10-07T06:26:23.058Z",
     "shell.execute_reply": "2021-10-07T06:26:23.342Z"
    }
   },
   "outputs": [
    {
     "name": "stderr",
     "output_type": "stream",
     "text": [
      "/home/buenabad/anaconda2/lib/python2.7/site-packages/healpy/fitsfunc.py:352: UserWarning: If you are not specifying the input dtype and using the default np.float64 dtype of read_map(), please consider that it will change in a future version to None as to keep the same dtype of the input file: please explicitly set the dtype if it is important to you.\n",
      "  \"If you are not specifying the input dtype and using the default \"\n",
      "/home/buenabad/anaconda2/lib/python2.7/site-packages/healpy/fitsfunc.py:403: UserWarning: No INDXSCHM keyword in header file : assume IMPLICIT\n",
      "  warnings.warn(\"No INDXSCHM keyword in header file : \" \"assume {}\".format(schm))\n"
     ]
    },
    {
     "name": "stdout",
     "output_type": "stream",
     "text": [
      "NSIDE = 512\n",
      "ORDERING = NESTED in fits file\n",
      "INDXSCHM = IMPLICIT\n",
      "Ordering converted to RING\n",
      "G4.5+6.8 is suggested to be related to SN explosion at AD:1604\n",
      "it is about 417 years old.\n",
      "G7.7-3.7 is suggested to be related to SN explosion at AD:386\n",
      "it is about 1635 years old.\n",
      "G11.2-0.3 is suggested to be related to SN explosion at AD:386\n",
      "it is about 1635 years old.\n",
      "G69.0+2.7 is suggested to be related to SN explosion at AD:1408\n",
      "it is about 613 years old.\n",
      "G111.7-2.1 could be related to  a late 17th century SN.\n",
      "it is about 321 years old.\n",
      "G120.1+1.4 is suggested to be related to SN explosion at AD:1572\n",
      "it is about 449 years old.\n",
      "G130.7+3.1 is suggested to be related to SN explosion at AD:1181\n",
      "it is about 840 years old.\n",
      "G184.6-5.8 is suggested to be related to SN explosion at AD:1054\n",
      "it is about 967 years old.\n",
      "G315.4-2.3 is suggested to be related to SN explosion at AD:185\n",
      "it is about 1836 years old.\n",
      "G320.4-1.2 is suggested to be related to SN explosion at AD:185\n",
      "it is about 1836 years old.\n",
      "G327.6+14.6 is suggested to be related to SN explosion at AD:1006\n",
      "it is about 1015 years old.\n"
     ]
    }
   ],
   "source": [
    "from random import random\n",
    "\n",
    "import sys\n",
    "sys.path.insert(0, '../')\n",
    "\n",
    "import constants as ct\n",
    "import particle as pt\n",
    "import astro as ap\n",
    "import echo as ec\n",
    "import routines as rt\n",
    "import data as dt"
   ]
  },
  {
   "cell_type": "code",
   "execution_count": 3,
   "metadata": {
    "execution": {
     "iopub.execute_input": "2021-10-07T06:26:23.084Z",
     "iopub.status.busy": "2021-10-07T06:26:23.073Z",
     "iopub.status.idle": "2021-10-07T06:26:23.116Z",
     "shell.execute_reply": "2021-10-07T06:26:23.350Z"
    }
   },
   "outputs": [
    {
     "data": {
      "text/plain": [
       "['ED_fn',\n",
       " 'Rb_fn',\n",
       " 'ST_fn',\n",
       " 'Simbad',\n",
       " 'SkyCoord',\n",
       " 'SuperNova',\n",
       " 'SuperNovaRemnant',\n",
       " '__builtins__',\n",
       " '__doc__',\n",
       " '__file__',\n",
       " '__name__',\n",
       " '__package__',\n",
       " 'clean_white_spaces',\n",
       " 'ct',\n",
       " 'data_path',\n",
       " 'datetime',\n",
       " 'division',\n",
       " 'exp',\n",
       " 'gen_SN_with_table2',\n",
       " 'load_Bietenholz',\n",
       " 'load_Green_catalogue',\n",
       " 'load_Green_catalogue_names',\n",
       " 'load_table2',\n",
       " 'log',\n",
       " 'log10',\n",
       " 'model_age',\n",
       " 'name',\n",
       " 'np',\n",
       " 'os',\n",
       " 'pi',\n",
       " 'power',\n",
       " 're',\n",
       " 'simbad_to_galactic',\n",
       " 'snr',\n",
       " 'snr_name_arr',\n",
       " 'snrs_age',\n",
       " 'snrs_age_only',\n",
       " 'snrs_cut',\n",
       " 'snrs_dct',\n",
       " 'sqrt',\n",
       " 'test2',\n",
       " 'update_Bietenholz_with_coord',\n",
       " 'update_Bietenholz_with_table2',\n",
       " 'zeros']"
      ]
     },
     "execution_count": 3,
     "metadata": {},
     "output_type": "execute_result"
    }
   ],
   "source": [
    "# The contents of data.py\n",
    "dir(dt)"
   ]
  },
  {
   "cell_type": "code",
   "execution_count": 5,
   "metadata": {
    "execution": {
     "iopub.execute_input": "2021-10-07T06:26:23.160Z",
     "iopub.status.busy": "2021-10-07T06:26:23.142Z",
     "iopub.status.idle": "2021-10-07T06:26:23.190Z",
     "shell.execute_reply": "2021-10-07T06:26:23.357Z"
    }
   },
   "outputs": [
    {
     "name": "stdout",
     "output_type": "stream",
     "text": [
      "294\n",
      "72\n",
      "7\n",
      "11\n"
     ]
    }
   ],
   "source": [
    "print(len(dt.snrs_dct))\n",
    "print(len(dt.snrs_cut))\n",
    "print(len(dt.snrs_age))\n",
    "print(len(dt.snrs_age_only))"
   ]
  },
  {
   "cell_type": "code",
   "execution_count": 6,
   "metadata": {
    "execution": {
     "iopub.execute_input": "2021-10-07T06:26:23.214Z",
     "iopub.status.busy": "2021-10-07T06:26:23.205Z",
     "iopub.status.idle": "2021-10-07T06:26:23.238Z",
     "shell.execute_reply": "2021-10-07T06:26:23.362Z"
    }
   },
   "outputs": [
    {
     "data": {
      "text/plain": [
       "{'age': 321.0,\n",
       " 'alpha': 0.77,\n",
       " 'ang_size': 5.0,\n",
       " 'b': -2.1,\n",
       " 'distance': 3.3,\n",
       " 'is_complete': False,\n",
       " 'is_flux_certain': True,\n",
       " 'is_spectral_certain': True,\n",
       " 'is_type_certain': True,\n",
       " 'l': 111.7,\n",
       " 'name': 'G111.7-2.1',\n",
       " 'no_dist': False,\n",
       " 'no_flux': False,\n",
       " 'snu_at_1GHz': 2300.0,\n",
       " 'sr': 1.6614302187698022e-06,\n",
       " 'type': 'S'}"
      ]
     },
     "execution_count": 6,
     "metadata": {},
     "output_type": "execute_result"
    }
   ],
   "source": [
    "# Also called Cassiopeia A\n",
    "CasA = 'G111.7-2.1'\n",
    "dt.snrs_cut[CasA].__dict__"
   ]
  },
  {
   "cell_type": "code",
   "execution_count": 7,
   "metadata": {
    "execution": {
     "iopub.execute_input": "2021-10-07T06:26:23.262Z",
     "iopub.status.busy": "2021-10-07T06:26:23.252Z",
     "iopub.status.idle": "2021-10-07T06:26:23.281Z",
     "shell.execute_reply": "2021-10-07T06:26:23.367Z"
    }
   },
   "outputs": [
    {
     "data": {
      "text/plain": [
       "{'alpha': 0.7,\n",
       " 'ang_size': 84.8528137423857,\n",
       " 'b': -2.0,\n",
       " 'distance': 4.9,\n",
       " 'is_complete': False,\n",
       " 'is_flux_certain': False,\n",
       " 'is_spectral_certain': False,\n",
       " 'is_type_certain': False,\n",
       " 'l': 39.7,\n",
       " 'name': 'G39.7-2.0',\n",
       " 'no_dist': False,\n",
       " 'no_flux': False,\n",
       " 'snu_at_1GHz': 85.0,\n",
       " 'sr': 0.0004784858509023251}"
      ]
     },
     "execution_count": 7,
     "metadata": {},
     "output_type": "execute_result"
    }
   ],
   "source": [
    "# Also called W50\n",
    "W50 = 'G39.7-2.0'\n",
    "dt.snrs_cut[W50].__dict__"
   ]
  },
  {
   "cell_type": "code",
   "execution_count": 8,
   "metadata": {
    "execution": {
     "iopub.execute_input": "2021-10-07T06:26:23.309Z",
     "iopub.status.busy": "2021-10-07T06:26:23.299Z",
     "iopub.status.idle": "2021-10-07T06:26:23.333Z",
     "shell.execute_reply": "2021-10-07T06:26:23.372Z"
    }
   },
   "outputs": [
    {
     "data": {
      "text/plain": [
       "{'ang_size': 48.0,\n",
       " 'b': -0.1,\n",
       " 'distance': 1.9,\n",
       " 'is_complete': False,\n",
       " 'is_flux_certain': True,\n",
       " 'is_spectral_certain': False,\n",
       " 'is_type_certain': True,\n",
       " 'l': 6.4,\n",
       " 'name': 'G6.4-0.1',\n",
       " 'no_dist': False,\n",
       " 'no_flux': False,\n",
       " 'snu_at_1GHz': 310.0,\n",
       " 'sr': 0.00015311679381005744,\n",
       " 'type': 'C'}"
      ]
     },
     "execution_count": 8,
     "metadata": {},
     "output_type": "execute_result"
    }
   ],
   "source": [
    "# Also called W28\n",
    "W28 = 'G6.4-0.1'\n",
    "dt.snrs_dct[W28].__dict__"
   ]
  },
  {
   "cell_type": "code",
   "execution_count": 4,
   "metadata": {
    "execution": {
     "iopub.execute_input": "2021-10-07T06:26:23.637Z",
     "iopub.status.busy": "2021-10-07T06:26:23.627Z",
     "iopub.status.idle": "2021-10-07T06:26:23.665Z",
     "shell.execute_reply": "2021-10-07T06:26:23.689Z"
    }
   },
   "outputs": [
    {
     "name": "stdout",
     "output_type": "stream",
     "text": [
      "G120.1+1.4 2.7343491614577826 449.0\n",
      "G11.2-0.3 2.55981623625835 1635.0\n",
      "G315.4-2.3 14.04990047855435 1836.0\n",
      "G69.0+2.7 35.48836145721803 613.0\n",
      "G111.7-2.1 2.3998277214922035 321.0\n",
      "G327.6+14.6 8.072147790473773 1015.0\n",
      "G4.5+6.8 1.3744467859455345 417.0\n",
      "G320.4-1.2 26.47082698858066 1836.0\n"
     ]
    }
   ],
   "source": [
    "# Computing age and radius for those SNR for which we know both:\n",
    "\n",
    "TR_arr = []\n",
    "\n",
    "for name, snr in dt.snrs_age_only.items():\n",
    "    if snr.no_dist:\n",
    "        continue\n",
    "    try:\n",
    "        R = snr.get_radius()\n",
    "        print name, R, snr.age\n",
    "        TR_arr.append([snr.age, R])\n",
    "    except:\n",
    "        continue\n",
    "\n",
    "TR_arr = np.array(TR_arr)\n",
    "TR_arr = np.sort(TR_arr, axis=0)\n",
    "# print TR_arr\n",
    "TR_arr = TR_arr[:-1]"
   ]
  },
  {
   "cell_type": "markdown",
   "metadata": {},
   "source": [
    "### 4.1 Linear Regression"
   ]
  },
  {
   "cell_type": "code",
   "execution_count": 5,
   "metadata": {
    "execution": {
     "iopub.execute_input": "2021-10-07T06:26:24.847Z",
     "iopub.status.busy": "2021-10-07T06:26:24.837Z",
     "iopub.status.idle": "2021-10-07T06:26:25.134Z",
     "shell.execute_reply": "2021-10-07T06:26:25.123Z"
    }
   },
   "outputs": [],
   "source": [
    "from sklearn.linear_model import LinearRegression as LR"
   ]
  },
  {
   "cell_type": "code",
   "execution_count": 6,
   "metadata": {
    "execution": {
     "iopub.execute_input": "2021-10-07T06:26:25.346Z",
     "iopub.status.busy": "2021-10-07T06:26:25.338Z",
     "iopub.status.idle": "2021-10-07T06:26:25.363Z",
     "shell.execute_reply": "2021-10-07T06:26:25.372Z"
    }
   },
   "outputs": [],
   "source": [
    "X = TR_arr[:,1].reshape((-1, 1)) # training sample, of shape (n_samples, n_features)\n",
    "y = TR_arr[:,0] # target values, of shape (, n_samples)"
   ]
  },
  {
   "cell_type": "code",
   "execution_count": 7,
   "metadata": {
    "execution": {
     "iopub.execute_input": "2021-10-07T06:26:25.878Z",
     "iopub.status.busy": "2021-10-07T06:26:25.867Z",
     "iopub.status.idle": "2021-10-07T06:26:25.956Z",
     "shell.execute_reply": "2021-10-07T06:26:25.977Z"
    }
   },
   "outputs": [
    {
     "name": "stdout",
     "output_type": "stream",
     "text": [
      "0.8931673594675373\n",
      "0.9665558969771819\n"
     ]
    }
   ],
   "source": [
    "reg_lin = LR().fit(X, y)\n",
    "reg_log = LR().fit(log10(X), log10(y))\n",
    "\n",
    "print reg_lin.score(X, y)\n",
    "print reg_log.score(log10(X), log10(y))\n",
    "\n",
    "def lin_reg_pred(R, method='lin'):\n",
    "    \n",
    "    R_arr = np.array(R).reshape(-1, 1)\n",
    "    \n",
    "    if method == 'lin':\n",
    "        return reg_lin.predict(R_arr)\n",
    "    elif method == 'log':\n",
    "        return 10.**reg_log.predict(log10(R_arr))\n",
    "    else:\n",
    "        raise ValueError(\"method={} cannot be used. Use 'lin' or 'log'\".format(method))"
   ]
  },
  {
   "cell_type": "markdown",
   "metadata": {},
   "source": [
    "### 4.2 Physical model"
   ]
  },
  {
   "cell_type": "code",
   "execution_count": 13,
   "metadata": {
    "execution": {
     "iopub.execute_input": "2021-10-07T06:26:26.596Z",
     "iopub.status.busy": "2021-10-07T06:26:26.588Z",
     "iopub.status.idle": "2021-10-07T06:26:26.614Z",
     "shell.execute_reply": "2021-10-07T06:26:26.623Z"
    }
   },
   "outputs": [
    {
     "name": "stdout",
     "output_type": "stream",
     "text": [
      "Help on function ED_fn in module data:\n",
      "\n",
      "ED_fn(t, t_bench, R_bench, model)\n",
      "    Blast radius [pc] as a function of time for the Ejecta-Dominated era. Based on Truelove & McKee 1999 (TM99).\n",
      "    \n",
      "    Parameters\n",
      "    ----------\n",
      "    t : time [years]\n",
      "    t_bench : benchmark time [years]\n",
      "    R_bench : benchmark radius [pc]\n",
      "    model : model of the expansion ('TM99-simple'/'TM99-0' for a simplified version of TM99 or for the case with n=0 ejecta.)\n",
      "\n"
     ]
    }
   ],
   "source": [
    "help(dt.ED_fn)"
   ]
  },
  {
   "cell_type": "code",
   "execution_count": 14,
   "metadata": {
    "execution": {
     "iopub.execute_input": "2021-10-07T06:26:26.837Z",
     "iopub.status.busy": "2021-10-07T06:26:26.829Z",
     "iopub.status.idle": "2021-10-07T06:26:26.855Z",
     "shell.execute_reply": "2021-10-07T06:26:26.864Z"
    }
   },
   "outputs": [
    {
     "name": "stdout",
     "output_type": "stream",
     "text": [
      "Help on function ST_fn in module data:\n",
      "\n",
      "ST_fn(t, t_bench, R_bench, model)\n",
      "    Blast radius [pc] as a function of time for the Sedov-Taylor era. Based on Truelove & McKee 1999 (TM99).\n",
      "    \n",
      "    Parameters\n",
      "    ----------\n",
      "    t : time [years]\n",
      "    t_bench : benchmark time [years]\n",
      "    R_bench : benchmark radius [pc]\n",
      "    model : model of the expansion ('TM99-simple'/'TM99-0' for a simplified version of TM99 or for the case with n=0 ejecta.)\n",
      "\n"
     ]
    }
   ],
   "source": [
    "help(dt.ST_fn)"
   ]
  },
  {
   "cell_type": "code",
   "execution_count": 15,
   "metadata": {
    "execution": {
     "iopub.execute_input": "2021-10-07T06:26:27.262Z",
     "iopub.status.busy": "2021-10-07T06:26:27.249Z",
     "iopub.status.idle": "2021-10-07T06:26:27.283Z",
     "shell.execute_reply": "2021-10-07T06:26:27.291Z"
    }
   },
   "outputs": [
    {
     "name": "stdout",
     "output_type": "stream",
     "text": [
      "Help on function Rb_fn in module data:\n",
      "\n",
      "Rb_fn(t, t_bench, R_bench, model)\n",
      "    Blast radius [pc] as a function of time. Based on Truelove & McKee 1999 (TM99).\n",
      "    \n",
      "    Parameters\n",
      "    ----------\n",
      "    t : time [years]\n",
      "    t_bench : benchmark time [years]\n",
      "    R_bench : benchmark radius [pc]\n",
      "    model : model of the expansion ('TM99-simple'/'TM99-0' for a simplified version of TM99 or for the case with n=0 ejecta.)\n",
      "\n"
     ]
    }
   ],
   "source": [
    "help(dt.Rb_fn)"
   ]
  },
  {
   "cell_type": "code",
   "execution_count": 16,
   "metadata": {
    "execution": {
     "iopub.execute_input": "2021-10-07T06:26:27.435Z",
     "iopub.status.busy": "2021-10-07T06:26:27.421Z",
     "iopub.status.idle": "2021-10-07T06:26:27.463Z",
     "shell.execute_reply": "2021-10-07T06:26:27.472Z"
    }
   },
   "outputs": [
    {
     "name": "stdout",
     "output_type": "stream",
     "text": [
      "Help on function model_age in module data:\n",
      "\n",
      "model_age(R, model='estimate', M_ej=1.0, E_sn=1.0, rho0=1.0)\n",
      "    R : SNR radius today [pc]\n",
      "    model : 'estimate'/'TM99-simple'/TM99-0'': whether the simple one-phase 'estimate' model is used, or instead the two-phase Truelove-McKee model (ED-ST, or Ejecta-Dominated -- Sedov-Taylor), either in a simplified form, or for n=0 (uniform) ejecta profile.\n",
      "    M_ej : Mass of the ejecta [M_sun] (default: 1.)\n",
      "    E_sn : Energy of the SNR [1.e51 ergs] (default: 1.)\n",
      "    rho0 : Mass density of surrounding medium [m_proton/cm^3] (default: 1.)\n",
      "\n"
     ]
    }
   ],
   "source": [
    "help(dt.model_age)"
   ]
  },
  {
   "cell_type": "code",
   "execution_count": 17,
   "metadata": {
    "execution": {
     "iopub.execute_input": "2021-10-07T06:26:27.631Z",
     "iopub.status.busy": "2021-10-07T06:26:27.620Z",
     "iopub.status.idle": "2021-10-07T06:26:29.439Z",
     "shell.execute_reply": "2021-10-07T06:26:29.532Z"
    }
   },
   "outputs": [
    {
     "name": "stderr",
     "output_type": "stream",
     "text": [
      "/home/buenabad/.local/lib/python2.7/site-packages/matplotlib/font_manager.py:1331: UserWarning: findfont: Font family [u'serif'] not found. Falling back to DejaVu Sans\n",
      "  (prop.get_family(), self.defaultFamily[fontext]))\n"
     ]
    },
    {
     "data": {
      "image/png": "[encoded data removed]",
      "text/plain": [
       "<Figure size 432x288 with 1 Axes>"
      ]
     },
     "metadata": {
      "image/png": {
       "height": 250,
       "width": 378
      },
      "needs_background": "light"
     },
     "output_type": "display_data"
    }
   ],
   "source": [
    "R_arr = np.logspace(-1, 2)\n",
    "\n",
    "tarr = np.array([dt.model_age(R, model='TM99-0') for R in R_arr])\n",
    "tarr2 = np.array([dt.model_age(R, model='TM99-simple') for R in R_arr])\n",
    "\n",
    "plt.loglog(tarr, R_arr, label=\"TM99-0\")\n",
    "plt.loglog(tarr2, R_arr, label=\"TM99-simple\")\n",
    "plt.legend();"
   ]
  },
  {
   "cell_type": "markdown",
   "metadata": {},
   "source": [
    "### 4.3 Results"
   ]
  },
  {
   "cell_type": "code",
   "execution_count": 18,
   "metadata": {
    "execution": {
     "iopub.execute_input": "2021-10-07T06:26:29.461Z",
     "iopub.status.busy": "2021-10-07T06:26:29.452Z",
     "iopub.status.idle": "2021-10-07T06:26:29.483Z",
     "shell.execute_reply": "2021-10-07T06:26:29.543Z"
    }
   },
   "outputs": [
    {
     "name": "stdout",
     "output_type": "stream",
     "text": [
      "CasA: R=2.39982772149 pc, age=321.0 years\n",
      "lin. reg., linear data: [528.80690033]\n",
      "lin. reg., log data: [467.46896533]\n",
      "estimate 1001.2986332109173\n",
      "TM99-simple [398.87284747]\n",
      "TM99-0 [414.87886573]\n"
     ]
    }
   ],
   "source": [
    "snr = dt.snrs_cut[CasA]\n",
    "\n",
    "RCasA = snr.get_radius()\n",
    "print 'CasA: R={} pc, age={} years'.format(RCasA, snr.age)\n",
    "\n",
    "# rho0 and M_ej values from TM99 Table 1\n",
    "print 'lin. reg., linear data:', lin_reg_pred(RCasA, method='lin')\n",
    "print 'lin. reg., log data:', lin_reg_pred(RCasA, method='log')\n",
    "print 'estimate', dt.model_age(RCasA, model='estimate', rho0=3.2, M_ej=3.)\n",
    "print 'TM99-simple', dt.model_age(RCasA, model='TM99-simple', rho0=3.2, M_ej=3.)\n",
    "print 'TM99-0', dt.model_age(RCasA, model='TM99-0', rho0=3.2, M_ej=3.)\n",
    "\n",
    "del snr"
   ]
  },
  {
   "cell_type": "code",
   "execution_count": 19,
   "metadata": {
    "execution": {
     "iopub.execute_input": "2021-10-07T06:26:29.507Z",
     "iopub.status.busy": "2021-10-07T06:26:29.497Z",
     "iopub.status.idle": "2021-10-07T06:26:29.602Z",
     "shell.execute_reply": "2021-10-07T06:26:29.649Z"
    }
   },
   "outputs": [
    {
     "name": "stdout",
     "output_type": "stream",
     "text": [
      "SNR G120.1+1.4:\n",
      "\tR=2.73434916146 pc, age=449.0 years\n",
      "\n",
      "\tlin. reg., linear: [549.96372149]\n",
      "\tlin. reg., log: [507.18541181]\n",
      "\testimate 775.6635736901013\n",
      "\tTM99-simple [308.98987381]\n",
      "\tTM99-0 [298.68194234]\n",
      "\n",
      "\n",
      "SNR G11.2-0.3:\n",
      "\tR=2.55981623626 pc, age=1635.0 years\n",
      "\n",
      "\tlin. reg., linear: [538.92538001]\n",
      "\tlin. reg., log: [486.70652078]\n",
      "\testimate 657.7493736374353\n",
      "\tTM99-simple [262.01810018]\n",
      "\tTM99-0 [264.47327769]\n",
      "\n",
      "\n",
      "SNR G315.4-2.3:\n",
      "\tR=14.0499004786 pc, age=1836.0 years\n",
      "\n",
      "\tlin. reg., linear: [1265.61619375]\n",
      "\tlin. reg., log: [1410.38679236]\n",
      "\testimate 46421.758689682545\n",
      "\tTM99-simple [18492.36427486]\n",
      "\tTM99-0 [13422.83375456]\n",
      "\n",
      "\n",
      "SNR G69.0+2.7:\n",
      "\tR=35.4883614572 pc, age=613.0 years\n",
      "\n",
      "\tlin. reg., linear: [2621.49247153]\n",
      "\tlin. reg., log: [2516.48818796]\n",
      "\testimate 470709.9075733714\n",
      "\tTM99-simple [187509.89459103]\n",
      "\tTM99-0 [135414.03725022]\n",
      "\n",
      "\n",
      "SNR G111.7-2.1:\n",
      "\tR=2.39982772149 pc, age=321.0 years\n",
      "\n",
      "\tlin. reg., linear: [528.80690033]\n",
      "\tlin. reg., log: [467.46896533]\n",
      "\testimate 559.7429524093099\n",
      "\tTM99-simple [222.97670033]\n",
      "\tTM99-0 [235.76736203]\n",
      "\n",
      "\n",
      "SNR G327.6+14.6:\n",
      "\tR=8.07214779047 pc, age=1015.0 years\n",
      "\n",
      "\tlin. reg., linear: [887.55299825]\n",
      "\tlin. reg., log: [997.56524421]\n",
      "\testimate 11614.786509034484\n",
      "\tTM99-simple [4626.81443277]\n",
      "\tTM99-0 [3415.14337356]\n",
      "\n",
      "\n",
      "SNR G4.5+6.8:\n",
      "\tR=1.37444678595 pc, age=417.0 years\n",
      "\n",
      "\tlin. reg., linear: [463.95664417]\n",
      "\tlin. reg., log: [329.99019833]\n",
      "\testimate 138.94991803407217\n",
      "\tTM99-simple [108.21609874]\n",
      "\tTM99-0 [107.61600953]\n",
      "\n",
      "\n",
      "SNR G320.4-1.2:\n",
      "\tR=26.4708269886 pc, age=1836.0 years\n",
      "\n",
      "\tlin. reg., linear: [2051.17816201]\n",
      "\tlin. reg., log: [2095.25600771]\n",
      "\testimate 226181.5852549789\n",
      "\tTM99-simple [90100.68521445]\n",
      "\tTM99-0 [65107.32609913]\n",
      "\n",
      "\n"
     ]
    }
   ],
   "source": [
    "M_ej_bench = 1.\n",
    "rho0_bench = 1.\n",
    "E_sn_bench = 1.\n",
    "\n",
    "for name, snr in dt.snrs_age_only.items():\n",
    "    try:\n",
    "        snr.get_distance()\n",
    "    except:\n",
    "        continue\n",
    "    \n",
    "    Rsnr = snr.get_radius()\n",
    "    print 'SNR {}:\\n\\tR={} pc, age={} years\\n'.format(name, Rsnr, snr.age)\n",
    "    print '\\tlin. reg., linear:', lin_reg_pred(Rsnr, method='lin')\n",
    "    print '\\tlin. reg., log:', lin_reg_pred(Rsnr, method='log')\n",
    "    print '\\testimate', dt.model_age(Rsnr, model='estimate', M_ej=M_ej_bench, rho0=rho0_bench, E_sn=E_sn_bench)\n",
    "    print '\\tTM99-simple', dt.model_age(Rsnr, model='TM99-simple', M_ej=M_ej_bench, rho0=rho0_bench, E_sn=E_sn_bench)\n",
    "    print '\\tTM99-0', dt.model_age(Rsnr, model='TM99-0', M_ej=M_ej_bench, rho0=rho0_bench, E_sn=E_sn_bench)\n",
    "    print '\\n'"
   ]
  },
  {
   "cell_type": "code",
   "execution_count": 19,
   "metadata": {
    "execution": {
     "iopub.execute_input": "2021-10-07T06:26:29.628Z",
     "iopub.status.busy": "2021-10-07T06:26:29.619Z",
     "iopub.status.idle": "2021-10-07T06:26:32.828Z",
     "shell.execute_reply": "2021-10-07T06:26:33.025Z"
    }
   },
   "outputs": [
    {
     "data": {
      "image/png": "[encoded data removed]",
      "text/plain": [
       "<Figure size 432x288 with 1 Axes>"
      ]
     },
     "metadata": {
      "image/png": {
       "height": 277,
       "width": 392
      },
      "needs_background": "light"
     },
     "output_type": "display_data"
    }
   ],
   "source": [
    "M_ej_bench = 1.\n",
    "E_sn_bench = 1.\n",
    "rho0_bench = 1.\n",
    "\n",
    "R_arr = np.linspace(0.1, 100)\n",
    "\n",
    "lin_t_arr = lin_reg_pred(R_arr, method='lin')\n",
    "log_t_arr = lin_reg_pred(R_arr, method='log')\n",
    "\n",
    "est_t_arr = np.array([dt.model_age(R,\n",
    "                                model='estimate',\n",
    "                                M_ej=M_ej_bench,\n",
    "                                E_sn=E_sn_bench,\n",
    "                                rho0=rho0_bench)\n",
    "                      for R in R_arr])\n",
    "TMs_t_arr = np.array([dt.model_age(R,\n",
    "                                model='TM99-simple',\n",
    "                                M_ej=M_ej_bench,\n",
    "                                E_sn=E_sn_bench,\n",
    "                                rho0=rho0_bench)\n",
    "                      for R in R_arr])\n",
    "TM0_t_arr = np.array([dt.model_age(R,\n",
    "                                model='TM99-0',\n",
    "                                M_ej=M_ej_bench,\n",
    "                                E_sn=E_sn_bench,\n",
    "                                rho0=rho0_bench)\n",
    "                      for R in R_arr])\n",
    "\n",
    "\n",
    "plt.scatter(TR_arr[:,0], TR_arr[:,1], color=\"k\")\n",
    "plt.plot(lin_t_arr, R_arr, label=\"lin. reg.; lin\")\n",
    "plt.plot(log_t_arr, R_arr, label=\"lin. reg.; log10\")\n",
    "plt.plot(est_t_arr, R_arr, label=\"simple estimate\")\n",
    "plt.plot(TMs_t_arr, R_arr, label=\"TM99-simple\")\n",
    "plt.plot(TM0_t_arr, R_arr, label=\"TM99-0\")\n",
    "\n",
    "plt.title(\"M={} Msun, E = {}e51 ergs, rho0 = {} GeV/cm3\".format(int(M_ej_bench), int(E_sn_bench), round(rho0_bench, 1)))\n",
    "\n",
    "\n",
    "plt.xlim(100, 50000);\n",
    "plt.xscale(\"log\");\n",
    "plt.xlabel(\"t [years]\")\n",
    "\n",
    "# plt.ylim(-.01, 0.1);\n",
    "plt.ylim(0.1, 100);\n",
    "plt.yscale(\"log\");\n",
    "plt.ylabel(\"R [pc]\")\n",
    "\n",
    "plt.legend();"
   ]
  },
  {
   "cell_type": "code",
   "execution_count": 21,
   "metadata": {
    "execution": {
     "iopub.execute_input": "2021-10-07T06:26:32.861Z",
     "iopub.status.busy": "2021-10-07T06:26:32.848Z",
     "iopub.status.idle": "2021-10-07T06:26:32.876Z",
     "shell.execute_reply": "2021-10-07T06:26:33.033Z"
    }
   },
   "outputs": [],
   "source": [
    "all_Rs = {}\n",
    "\n",
    "for name, snr in dt.snrs_dct.items():\n",
    "# for name, snr in dt.snrs_cut.items():\n",
    "    if snr.no_dist:\n",
    "        continue\n",
    "    try:\n",
    "        R = snr.get_radius()\n",
    "    except:\n",
    "        continue\n",
    "    \n",
    "    all_Rs[name] = R\n",
    "\n",
    "del R"
   ]
  },
  {
   "cell_type": "code",
   "execution_count": 22,
   "metadata": {
    "execution": {
     "iopub.execute_input": "2021-10-07T06:26:32.900Z",
     "iopub.status.busy": "2021-10-07T06:26:32.891Z",
     "iopub.status.idle": "2021-10-07T06:26:32.923Z",
     "shell.execute_reply": "2021-10-07T06:26:33.038Z"
    }
   },
   "outputs": [
    {
     "name": "stdout",
     "output_type": "stream",
     "text": [
      "True\n",
      "True\n",
      "G6.4-0.1 13.264502315156903 [11635.01525015] [16015.36052696] [1215.94365711] [1360.5906602]\n",
      "G39.7-2.0 60.47257332493333 [513057.76062227] [710731.30428896] [4201.61989878] [3511.0395109]\n"
     ]
    }
   ],
   "source": [
    "# are Schutz's special SNRs here?\n",
    "print W28 in all_Rs.keys()\n",
    "print W50 in all_Rs.keys()\n",
    "\n",
    "RW28, RW50 = all_Rs[W28], all_Rs[W50]\n",
    "\n",
    "print W28, RW28, dt.model_age(RW28, model=\"TM99-0\"), dt.model_age(RW28, model=\"TM99-simple\"), lin_reg_pred(RW28, method=\"lin\"), lin_reg_pred(RW28, method=\"log\")\n",
    "\n",
    "print W50, RW50, dt.model_age(RW50, model=\"TM99-0\"), dt.model_age(RW50, model=\"TM99-simple\"), lin_reg_pred(RW50, method=\"lin\"), lin_reg_pred(RW50, method=\"log\")"
   ]
  },
  {
   "cell_type": "code",
   "execution_count": 23,
   "metadata": {
    "execution": {
     "iopub.execute_input": "2021-10-07T06:26:32.945Z",
     "iopub.status.busy": "2021-10-07T06:26:32.937Z",
     "iopub.status.idle": "2021-10-07T06:26:32.964Z",
     "shell.execute_reply": "2021-10-07T06:26:33.043Z"
    }
   },
   "outputs": [
    {
     "name": "stdout",
     "output_type": "stream",
     "text": [
      "G4.5+6.8 1.3744467859455345\n",
      "G39.7-2.0 60.47257332493333\n"
     ]
    }
   ],
   "source": [
    "min_R, max_R = min(all_Rs.values()), max(all_Rs.values())\n",
    "min_R_name, max_R_name = min(all_Rs, key=all_Rs.__getitem__), max(all_Rs, key=all_Rs.__getitem__)\n",
    "\n",
    "print min_R_name, all_Rs[min_R_name]\n",
    "print max_R_name, all_Rs[max_R_name]"
   ]
  },
  {
   "cell_type": "code",
   "execution_count": 32,
   "metadata": {
    "execution": {
     "iopub.execute_input": "2021-10-07T06:29:12.828Z",
     "iopub.status.busy": "2021-10-07T06:29:12.820Z",
     "iopub.status.idle": "2021-10-07T06:29:12.852Z",
     "shell.execute_reply": "2021-10-07T06:29:12.866Z"
    }
   },
   "outputs": [
    {
     "name": "stdout",
     "output_type": "stream",
     "text": [
      "[303.13318703] [342.2093515] [463.95664417] [329.99019833]\n",
      "[230294.04125694] [317848.70202544] [4201.61989878] [3511.0395109]\n"
     ]
    }
   ],
   "source": [
    "M_ej_bench = 10.\n",
    "E_sn_bench = 1.\n",
    "rho0_bench = 0.2\n",
    "\n",
    "print dt.model_age(min_R, model=\"TM99-0\", \n",
    "                   M_ej=M_ej_bench,\n",
    "                   E_sn=E_sn_bench,\n",
    "                   rho0=rho0_bench), dt.model_age(min_R, model=\"TM99-simple\", \n",
    "                   M_ej=M_ej_bench,\n",
    "                   E_sn=E_sn_bench,\n",
    "                   rho0=rho0_bench), lin_reg_pred(min_R, method=\"lin\"), lin_reg_pred(min_R, method=\"log\")\n",
    "\n",
    "print dt.model_age(max_R, model=\"TM99-0\", \n",
    "                   M_ej=M_ej_bench,\n",
    "                   E_sn=E_sn_bench,\n",
    "                   rho0=rho0_bench), dt.model_age(max_R, model=\"TM99-simple\", \n",
    "                   M_ej=M_ej_bench,\n",
    "                   E_sn=E_sn_bench,\n",
    "                   rho0=rho0_bench), lin_reg_pred(max_R, method=\"lin\"), lin_reg_pred(max_R, method=\"log\")"
   ]
  },
  {
   "cell_type": "code",
   "execution_count": null,
   "metadata": {},
   "outputs": [],
   "source": []
  }
 ],
 "metadata": {
  "kernelspec": {
   "display_name": "Python 2",
   "language": "python",
   "name": "python2"
  },
  "language_info": {
   "codemirror_mode": {
    "name": "ipython",
    "version": 2
   },
   "file_extension": ".py",
   "mimetype": "text/x-python",
   "name": "python",
   "nbconvert_exporter": "python",
   "pygments_lexer": "ipython2",
   "version": "2.7.16"
  },
  "nteract": {
   "version": "0.28.0"
  }
 },
 "nbformat": 4,
 "nbformat_minor": 4
}
