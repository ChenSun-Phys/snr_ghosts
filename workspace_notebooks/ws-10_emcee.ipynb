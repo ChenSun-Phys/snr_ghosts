{
 "cells": [
  {
   "cell_type": "markdown",
   "metadata": {},
   "source": [
    "# Workspace \\#9: ``emcee``"
   ]
  },
  {
   "cell_type": "code",
   "execution_count": 1,
   "metadata": {},
   "outputs": [],
   "source": [
    "# %load firstcell.py\n",
    "# autoreloading for imported modules\n",
    "%load_ext autoreload\n",
    "%autoreload 2\n",
    "\n",
    "# getting future division\n",
    "from __future__ import division\n",
    "\n",
    "# numpy\n",
    "import numpy as np\n",
    "from numpy import pi, sqrt, log, log10, power, exp\n",
    "\n",
    "#scipy\n",
    "from scipy.interpolate import interp1d\n",
    "\n",
    "# matplotlib\n",
    "import matplotlib.pyplot as plt\n",
    "from matplotlib import rcParams\n",
    "from matplotlib import rc\n",
    "from matplotlib.lines import Line2D\n",
    "\n",
    "# other\n",
    "import os\n",
    "from tqdm import tqdm\n",
    "\n",
    "# matplotlib style\n",
    "%matplotlib inline\n",
    "\n",
    "%config InlineBackend.figure_format = \"retina\"\n",
    "rcParams['figure.figsize'] = (13, 8)\n",
    "rcParams['font.family'] = 'serif'\n",
    "rcParams['font.serif'] = ['New Times Roman']\n",
    "rc('text', usetex=True)\n",
    "\n",
    "# current directory\n",
    "current_dir = os.getcwd()"
   ]
  },
  {
   "cell_type": "code",
   "execution_count": 2,
   "metadata": {},
   "outputs": [
    {
     "name": "stderr",
     "output_type": "stream",
     "text": [
      "/home/buenabad/anaconda2/lib/python2.7/site-packages/healpy/fitsfunc.py:352: UserWarning: If you are not specifying the input dtype and using the default np.float64 dtype of read_map(), please consider that it will change in a future version to None as to keep the same dtype of the input file: please explicitly set the dtype if it is important to you.\n",
      "  \"If you are not specifying the input dtype and using the default \"\n",
      "/home/buenabad/anaconda2/lib/python2.7/site-packages/healpy/fitsfunc.py:403: UserWarning: No INDXSCHM keyword in header file : assume IMPLICIT\n",
      "  warnings.warn(\"No INDXSCHM keyword in header file : \" \"assume {}\".format(schm))\n"
     ]
    },
    {
     "name": "stdout",
     "output_type": "stream",
     "text": [
      "NSIDE = 512\n",
      "ORDERING = NESTED in fits file\n",
      "INDXSCHM = IMPLICIT\n",
      "Ordering converted to RING\n"
     ]
    }
   ],
   "source": [
    "from random import random, choice\n",
    "\n",
    "import sys\n",
    "sys.path.insert(0, '../')\n",
    "\n",
    "import constants as ct\n",
    "import particle as pt\n",
    "import astro as ap\n",
    "import echo as ec\n",
    "import routines as rt\n",
    "import data as dt\n",
    "import model as md"
   ]
  },
  {
   "cell_type": "code",
   "execution_count": 3,
   "metadata": {},
   "outputs": [],
   "source": [
    "# Important quantities for aberration estimate\n",
    "solar_period = 2.4e8 # [years]\n",
    "solar_mw_radius = ct._Sun_to_gal_center_ # [kpc]"
   ]
  },
  {
   "cell_type": "markdown",
   "metadata": {},
   "source": [
    "## 1. Preparing Green's Catalog"
   ]
  },
  {
   "cell_type": "code",
   "execution_count": 4,
   "metadata": {},
   "outputs": [
    {
     "name": "stdout",
     "output_type": "stream",
     "text": [
      "G4.5+6.8 is suggested to be related to SN explosion at AD:1604\n",
      "it is about 417 years old.\n",
      "G7.7-3.7 is suggested to be related to SN explosion at AD:386\n",
      "it is about 1635 years old.\n",
      "G11.2-0.3 is suggested to be related to SN explosion at AD:386\n",
      "it is about 1635 years old.\n",
      "G69.0+2.7 is suggested to be related to SN explosion at AD:1408\n",
      "it is about 613 years old.\n",
      "G111.7-2.1 could be related to  a late 17th century SN.\n",
      "it is about 321 years old.\n",
      "G120.1+1.4 is suggested to be related to SN explosion at AD:1572\n",
      "it is about 449 years old.\n",
      "G130.7+3.1 is suggested to be related to SN explosion at AD:1181\n",
      "it is about 840 years old.\n",
      "G184.6-5.8 is suggested to be related to SN explosion at AD:1054\n",
      "it is about 967 years old.\n",
      "G315.4-2.3 is suggested to be related to SN explosion at AD:185\n",
      "it is about 1836 years old.\n",
      "G320.4-1.2 is suggested to be related to SN explosion at AD:185\n",
      "it is about 1836 years old.\n",
      "G327.6+14.6 is suggested to be related to SN explosion at AD:1006\n",
      "it is about 1015 years old.\n"
     ]
    }
   ],
   "source": [
    "# first let's parse snrs.list.html\n",
    "# names:\n",
    "snr_name_arr = dt.load_Green_catalogue_names()\n",
    "\n",
    "# catalogue:\n",
    "snrs_dct = dt.load_Green_catalogue(snr_name_arr, verbose=0)"
   ]
  },
  {
   "cell_type": "code",
   "execution_count": 5,
   "metadata": {},
   "outputs": [
    {
     "name": "stdout",
     "output_type": "stream",
     "text": [
      "uncertain flux: G49.2-0.7\n",
      "uncertain flux: G39.7-2.0\n",
      "no flux density: G85.9-0.6\n",
      "no flux density: G181.1+9.5\n",
      "uncertain flux: G344.7-0.1\n",
      "uncertain flux: G32.8-0.1\n",
      "uncertain flux: G327.4+0.4\n",
      "uncertain flux: G330.2+1.0\n",
      "uncertain flux: G82.2+5.3\n",
      "uncertain flux: G316.3-0.0\n",
      "uncertain flux: G350.1-0.3\n",
      "uncertain flux: G320.4-1.2\n",
      "uncertain flux: G5.4-1.2\n",
      "no flux density: G85.4+0.7\n",
      "61\n"
     ]
    }
   ],
   "source": [
    "snrs_cut = {}\n",
    "for name, snr in snrs_dct.items():\n",
    "    \n",
    "    try:\n",
    "        snr.distance\n",
    "    except:\n",
    "#         print \"no distance:\", name\n",
    "        continue\n",
    "    \n",
    "    try:\n",
    "        snr.alpha\n",
    "    except:\n",
    "        continue\n",
    "    \n",
    "    if snr.get_flux_density() == -1:\n",
    "        print \"no flux density:\", name\n",
    "        continue\n",
    "    \n",
    "    if not snr.is_flux_certain:\n",
    "        print \"uncertain flux:\", name\n",
    "        continue\n",
    "    \n",
    "    snrs_cut[name] = snr\n",
    "    \n",
    "print len(snrs_cut)"
   ]
  },
  {
   "cell_type": "code",
   "execution_count": 6,
   "metadata": {},
   "outputs": [],
   "source": [
    "from scipy.interpolate import RectBivariateSpline as RBS\n",
    "from scipy.interpolate import interp2d\n",
    "\n",
    "# TODO: edit accordingly to read everything from the correct path.\n",
    "# green path\n",
    "green_path = \"/home/buenabad/Documents/Physics/Projects/P11 - 2021 - snr_ghosts/green_snr/\"\n",
    "\n",
    "# loading pre-computed arrays\n",
    "pre_Lpk_arr = np.loadtxt(green_path+\"Lpk_arr.txt\", delimiter=\",\")\n",
    "pre_tpk_arr = np.loadtxt(green_path+\"tpk_arr.txt\", delimiter=\",\")\n",
    "\n",
    "# peak luminosity and time grids\n",
    "pre_Lpk_Gr, pre_tpk_Gr = np.meshgrid(pre_Lpk_arr, pre_tpk_arr, indexing='xy')\n",
    "\n",
    "# normal (0, 1) variables from pre-computed arrays:\n",
    "normal_Lpk_arr = (log10(pre_Lpk_arr)-ct._mu_log10_Lpk_)/ct._sig_log10_Lpk_\n",
    "normal_tpk_arr = (log10(pre_tpk_arr)-ct._mu_log10_tpk_)/ct._sig_log10_tpk_\n",
    "\n",
    "# sigmas contours on pre-computed grids\n",
    "sigs_Gr = np.sqrt(((log10(pre_Lpk_Gr)-ct._mu_log10_Lpk_)/ct._sig_log10_Lpk_)**2 + ((log10(pre_tpk_Gr)-ct._mu_log10_tpk_)/ct._sig_log10_tpk_)**2)\n",
    "\n",
    "\n",
    "def load_green_results(name, tt=(None, None), t_extra=0., nuB=1.):\n",
    "    \"\"\"\n",
    "    Function that loads the CCV numerical results for the SNRs from Green's Catalog.\n",
    "    \n",
    "    TODO: edit accordingly to read them from the correct path.\n",
    "    \"\"\"\n",
    "    \n",
    "    if not name in snrs_cut.keys():\n",
    "        raise ValueError(\"name={} not available in results.\".format(name))\n",
    "    \n",
    "    if type(tt) != tuple:\n",
    "        raise ValueError(\"Argument 'tt', of how to deal with the transition time 't_trans' must be a 2-tuple, of the form ('method', #), 'method' being either 'fixed'/'ratio'.\")\n",
    "    \n",
    "    if not tt[0] in [\"fixed\", \"ratio\"]:\n",
    "        raise ValueError(\"tt[0] can only be 'fixed' or 'ratio'\")\n",
    "    \n",
    "    if t_extra == 0.:\n",
    "        tex_str = \"\"\n",
    "    else:\n",
    "        tex_str = \"_tex-\"+str(int(t_extra))\n",
    "    \n",
    "    if nuB == 1.:\n",
    "        nuB_str = \"\"\n",
    "    else:\n",
    "        nuB_str = \"_nuB-{}\".format(int(nuB))\n",
    "    \n",
    "    folder = green_path+name+\"/\"\n",
    "    file = \"{}_Lpk-tpk_{}-{}{}{}.txt\".format(name, tt[0], int(tt[1]), tex_str, nuB_str)\n",
    "    \n",
    "    sn = np.loadtxt(folder+\"sn_\"+file, delimiter=\",\")\n",
    "    echo = np.loadtxt(folder+\"echo_\"+file, delimiter=\",\")\n",
    "    tage = np.loadtxt(folder+\"tage_\"+file, delimiter=\",\")\n",
    "    \n",
    "    return sn, echo, tage"
   ]
  },
  {
   "cell_type": "markdown",
   "metadata": {},
   "source": [
    "## 2. Reach function"
   ]
  },
  {
   "cell_type": "code",
   "execution_count": 36,
   "metadata": {},
   "outputs": [
    {
     "data": {
      "text/plain": [
       "8.27133561166016e-06"
      ]
     },
     "execution_count": 36,
     "metadata": {},
     "output_type": "execute_result"
    }
   ],
   "source": [
    "ma_ref"
   ]
  },
  {
   "cell_type": "code",
   "execution_count": 7,
   "metadata": {},
   "outputs": [],
   "source": [
    "# energetics and axion parameters\n",
    "nu_pivot = 1. # [GHz]\n",
    "ma_ref = pt.ma_from_nu(nu_pivot)\n",
    "ga_ref = 1.e-10\n",
    "\n",
    "def snr_reach(name, tt=(None, None), nuB=1., t_extra=0., sn_ratio_threshold=1., variables='normal', full_output=True):\n",
    "    \"\"\"\n",
    "    Returns an interpolated function of the discovery reach of the axion-photon coupling ga [GeV^-1] as a function of the Bietenholz parameters (be that in terms of normalized (0, 1) variables (variables='normal'), or in terms of the raw parameters t_peak and L_peak themselves) for a certain signal-to-noise ratio and SNR name. If full_output == True, it also returns other important quantities.\n",
    "    \"\"\"\n",
    "    \n",
    "    if tt[0] == \"ratio\":\n",
    "        tt_ratio = tt[1]\n",
    "    elif tt[0] == \"fixed\":\n",
    "        t_trans = tt[1]\n",
    "    \n",
    "    snr = snrs_cut[name]\n",
    "    \n",
    "    # SNR properties:\n",
    "    alpha = snr.alpha\n",
    "    gamma = ap.gamma_from_alpha(alpha)\n",
    "    S0 = snr.get_flux_density() # [Jy] spectral irrad. today\n",
    "    distance = snr.distance # [kpc]\n",
    "    area = 4.*pi*(distance*ct._kpc_over_cm_)**2. # [cm^2]\n",
    "    L0 = (S0*ct._Jy_over_cgs_irrad_)*area # [cgs]\n",
    "    size = snr.sr\n",
    "    \n",
    "    # SNR results\n",
    "    sn_Gr, _, _ = load_green_results(name, tt=tt, t_extra=t_extra, nuB=nuB)\n",
    "\n",
    "    # going from Bietenholz peak Luminosities to pivot luminosities (at 1 GHz):\n",
    "    # conversion factor:\n",
    "    from_Bieten_to_pivot = (nu_pivot/nuB)**-alpha\n",
    "    # copying arrays and grids:\n",
    "    Lpk_arr, tpk_arr = np.copy(pre_Lpk_arr), np.copy(pre_tpk_arr)\n",
    "    Lpk_Gr, tpk_Gr = np.copy(pre_Lpk_Gr), np.copy(pre_tpk_Gr)\n",
    "    # correcting with conversion factor:\n",
    "    Lpk_arr *= from_Bieten_to_pivot\n",
    "    Lpk_Gr *= from_Bieten_to_pivot\n",
    "    \n",
    "    # limiting parameter space:\n",
    "    # non-sensical lightcurve suppression:\n",
    "    sup_arr = L0/Lpk_arr\n",
    "    sup_Gr = L0/Lpk_Gr\n",
    "    normal_Lpk_cut = (log10(L0/from_Bieten_to_pivot)-ct._mu_log10_Lpk_)/ct._sig_log10_Lpk_\n",
    "    # masking nonsensical suppression parameters\n",
    "    masked_normal_Lpk_arr = normal_Lpk_arr[sup_arr < 1.]\n",
    "    masked_Lpk_arr = Lpk_arr[sup_arr < 1.]\n",
    "    masked_sn_Gr = sn_Gr[sup_Gr < 1.]\n",
    "    \n",
    "    masked_sn_Gr = masked_sn_Gr.reshape(len(normal_tpk_arr), len(masked_normal_Lpk_arr))\n",
    "    \n",
    "    ga_Gr = ec.ga_reach(sn_ratio_threshold, masked_sn_Gr, ga_ref)\n",
    "    ga_Gr = np.nan_to_num(ga_Gr)\n",
    "    \n",
    "    if variables == 'normal':\n",
    "        \n",
    "        def ga_fn(nL, nt): return 10.**interp2d(masked_normal_Lpk_arr, normal_tpk_arr, log10(ga_Gr))(nL, nt)\n",
    "    \n",
    "    elif variables == 'raw':\n",
    "        \n",
    "        def ga_fn(Lpk, tpk): return 10.**interp2d(log10(masked_Lpk_arr), log10(tpk_arr), log10(ga_Gr))(log10(Lpk), log10(tpk))\n",
    "    \n",
    "    if full_output:\n",
    "        if variables == 'normal':\n",
    "            return ga_fn, ga_Gr, masked_normal_Lpk_arr, normal_tpk_arr, normal_Lpk_cut\n",
    "        elif variables == 'raw':\n",
    "            return ga_fn, ga_Gr, masked_Lpk_arr, tpk_arr, L0\n",
    "    else:\n",
    "        return ga_fn"
   ]
  },
  {
   "cell_type": "code",
   "execution_count": 8,
   "metadata": {},
   "outputs": [
    {
     "name": "stdout",
     "output_type": "stream",
     "text": [
      "(101, 102) (102,) (101,)\n",
      "-2.9620459726215196\n",
      "[1.34360648e-09] [4.26405932e-11]\n"
     ]
    },
    {
     "name": "stderr",
     "output_type": "stream",
     "text": [
      "../echo.py:1019: RuntimeWarning: divide by zero encountered in true_divide\n",
      "  return ga_ref * sqrt(sn_val/sn_ref)\n"
     ]
    }
   ],
   "source": [
    "# name = choice(snrs_cut.keys())\n",
    "name = 'G114.3+0.3'\n",
    "\n",
    "ga_fn, ga_Gr, nL_arr, nt_arr, nL_cut = snr_reach(name, tt=(\"ratio\", 30.), nuB=8., t_extra=0., sn_ratio_threshold=2., variables='normal', full_output=True)\n",
    "\n",
    "print ga_Gr.shape, nL_arr.shape, nt_arr.shape\n",
    "print nL_cut\n",
    "\n",
    "print ga_fn(sqrt(0),sqrt(0)), ga_fn(sqrt(2),sqrt(2))\n",
    "\n",
    "# del name, ga_fn, ga_Gr, nL_arr, nt_arr, nL_cut"
   ]
  },
  {
   "cell_type": "markdown",
   "metadata": {},
   "source": [
    "## 3. SNR ``emcee`` analysis"
   ]
  },
  {
   "cell_type": "code",
   "execution_count": 10,
   "metadata": {},
   "outputs": [],
   "source": [
    "import emcee"
   ]
  },
  {
   "cell_type": "code",
   "execution_count": 11,
   "metadata": {},
   "outputs": [],
   "source": [
    "def normal_prior(x, limits):\n",
    "    \n",
    "    return np.nan_to_num((-np.inf)*np.logical_not(np.heaviside(x-limits[0], 1.)*np.heaviside(limits[1]-x, 1.)))\n",
    "\n",
    "def log_likelihood(nL, nt):\n",
    "    return -0.5*(nL**2. + nt**2.)\n",
    "\n",
    "def log_posterior(nL, nt, nL_limits, nt_limits, blob_fn):\n",
    "    \n",
    "    nL_prior = normal_prior(nL, nL_limits)\n",
    "    nt_prior = normal_prior(nt, nt_limits)\n",
    "    loglkl = log_likelihood(nL, nt)\n",
    "    \n",
    "    posterior = nL_prior + nt_prior + loglkl\n",
    "    \n",
    "    blob = blob_fn(nL, nt)[0]\n",
    "    \n",
    "    return posterior, blob"
   ]
  },
  {
   "cell_type": "code",
   "execution_count": 12,
   "metadata": {},
   "outputs": [
    {
     "name": "stderr",
     "output_type": "stream",
     "text": [
      "/home/buenabad/anaconda2/lib/python2.7/site-packages/ipykernel_launcher.py:3: RuntimeWarning: invalid value encountered in multiply\n",
      "  This is separate from the ipykernel package so we can avoid doing imports until\n"
     ]
    },
    {
     "data": {
      "text/plain": [
       "(-2.0, 3.928314755992905e-11)"
      ]
     },
     "execution_count": 12,
     "metadata": {},
     "output_type": "execute_result"
    }
   ],
   "source": [
    "log_posterior(2., 0., (-2, 2), (-2, 2), ga_fn)"
   ]
  },
  {
   "cell_type": "code",
   "execution_count": 23,
   "metadata": {},
   "outputs": [],
   "source": [
    "output_dir = {}\n",
    "\n",
    "def snr_emcee_routine(name, tt=(None, None), nuB=1., t_extra=0., sn_ratio_threshold=1.,\n",
    "                     nL_limits=(None, None), nt_limits=(None, None),\n",
    "                     nwalkers=50, nburn=200, nsteps=2000, output_dir={}):\n",
    "    \n",
    "    ga_fn, _, _, _, nL_cut = snr_reach(name, tt=tt, nuB=nuB, t_extra=t_extra,\n",
    "                                       sn_ratio_threshold=sn_ratio_threshold,\n",
    "                                       variables='normal', full_output=True)\n",
    "    # updating nL prior\n",
    "    new_nL_limits = (max(nL_limits[0], nL_cut), nL_limits[1])\n",
    "    \n",
    "    # limits of the priors\n",
    "    nL_center, nL_size = np.mean(new_nL_limits), new_nL_limits[1] - new_nL_limits[0]\n",
    "    nt_center, nt_size = np.mean(nt_limits), nt_limits[1] - nt_limits[0]\n",
    "    \n",
    "    # two dimensions\n",
    "    ndim = 2\n",
    "    \n",
    "    # starting guesses\n",
    "    p0 = np.random.rand(nwalkers, ndim)-0.5\n",
    "    # for normalized Lpk:\n",
    "    p0[:,0] *= nL_size # with correct size...\n",
    "    p0[:,0] += nL_center # ... and center\n",
    "    # for normalized tpk:\n",
    "    p0[:,1] *= nt_size # with correct size...\n",
    "    p0[:,1] += nt_center # ... and center\n",
    "    \n",
    "    # preparing the data type of the blobs\n",
    "    dtype = [(\"ga_reach\", float)]\n",
    "    \n",
    "    # defining the posterior probability\n",
    "    def log_post(x):\n",
    "        return log_posterior(x[0], x[1], new_nL_limits, nt_limits, ga_fn)\n",
    "    \n",
    "    sampler = emcee.EnsembleSampler(nwalkers, ndim, log_post,\n",
    "                                    blobs_dtype=dtype)\n",
    "    sampler.run_mcmc(p0, nsteps)\n",
    "    \n",
    "    sample = sampler.chain # shape = (nwalkers, nsteps, ndim)\n",
    "    sample = sampler.chain[:, nburn:, :] # discard burn-in points\n",
    "    sample = sample.reshape(-1, ndim)\n",
    "    \n",
    "    blobs = sampler.get_blobs()\n",
    "    ga_reach = blobs[\"ga_reach\"]\n",
    "    \n",
    "    ga_reach = ga_reach[nburn:,:].ravel()\n",
    "    \n",
    "    output_dir[name] = sample, ga_reach\n",
    "    \n",
    "    return sample, ga_reach"
   ]
  },
  {
   "cell_type": "code",
   "execution_count": 24,
   "metadata": {},
   "outputs": [
    {
     "name": "stderr",
     "output_type": "stream",
     "text": [
      "/home/buenabad/anaconda2/lib/python2.7/site-packages/ipykernel_launcher.py:3: RuntimeWarning: invalid value encountered in multiply\n",
      "  This is separate from the ipykernel package so we can avoid doing imports until\n",
      "/home/buenabad/anaconda2/lib/python2.7/site-packages/ipykernel_launcher.py:57: RuntimeWarning: overflow encountered in power\n",
      "/home/buenabad/anaconda2/lib/python2.7/site-packages/ipykernel_launcher.py:14: RuntimeWarning: overflow encountered in double_scalars\n",
      "  \n"
     ]
    }
   ],
   "source": [
    "name = 'G114.3+0.3'\n",
    "# name = choice(snrs_cut.keys())\n",
    "tt = (\"ratio\", 30.)\n",
    "nuB = 8.\n",
    "t_extra = 0.\n",
    "sn_th = 2.\n",
    "nL_lim = (-2., 2.)\n",
    "nt_lim = (-2., 2.)\n",
    "\n",
    "# np.random.seed(1)  # for repeatability\n",
    "\n",
    "sample, ga_reach = snr_emcee_routine(name,\n",
    "                                     tt=tt, nuB=nuB, t_extra=t_extra,\n",
    "                                     sn_ratio_threshold=sn_th,\n",
    "                                     nL_limits=nL_lim,\n",
    "                                     nt_limits=nt_lim,\n",
    "                                     nwalkers=50,\n",
    "                                     nburn=1000,\n",
    "                                     nsteps=5000,\n",
    "                                     output_dir=output_dir)"
   ]
  },
  {
   "cell_type": "code",
   "execution_count": 27,
   "metadata": {},
   "outputs": [
    {
     "name": "stderr",
     "output_type": "stream",
     "text": [
      "/home/buenabad/.local/lib/python2.7/site-packages/matplotlib/axes/_axes.py:6571: UserWarning: The 'normed' kwarg is deprecated, and has been replaced by the 'density' kwarg.\n",
      "  warnings.warn(\"The 'normed' kwarg is deprecated, and has been \"\n",
      "/home/buenabad/.local/lib/python2.7/site-packages/matplotlib/font_manager.py:1331: UserWarning: findfont: Font family [u'serif'] not found. Falling back to DejaVu Sans\n",
      "  (prop.get_family(), self.defaultFamily[fontext]))\n"
     ]
    },
    {
     "data": {
      "image/png": "[encoded data removed]",
      "text/plain": [
       "<Figure size 432x288 with 1 Axes>"
      ]
     },
     "metadata": {
      "image/png": {
       "height": 250,
       "width": 375
      },
      "needs_background": "light"
     },
     "output_type": "display_data"
    }
   ],
   "source": [
    "name = 'G114.3+0.3'\n",
    "sample, ga_reach = output_dir[name]\n",
    "\n",
    "plt.hist(sample[:,0], bins=100, histtype=\"stepfilled\", alpha=0.3, normed=True)\n",
    "plt.hist(sample[:,1], bins=100, histtype=\"stepfilled\", alpha=0.3, normed=True)\n",
    "\n",
    "plt.xlim(-2., 2.);"
   ]
  },
  {
   "cell_type": "code",
   "execution_count": 37,
   "metadata": {},
   "outputs": [
    {
     "name": "stdout",
     "output_type": "stream",
     "text": [
      "6.57484714401426e-11 1.285443246436635e-09 2.4123649391015345e-08\n"
     ]
    },
    {
     "data": {
      "image/png": "[encoded data removed]",
      "text/plain": [
       "<Figure size 432x288 with 1 Axes>"
      ]
     },
     "metadata": {
      "image/png": {
       "height": 250,
       "width": 375
      },
      "needs_background": "light"
     },
     "output_type": "display_data"
    }
   ],
   "source": [
    "simple_ga = np.nan_to_num(ga_reach)\n",
    "simple_ga = simple_ga[simple_ga < 1.e-2]\n",
    "\n",
    "plt.hist(log10(simple_ga), bins=100, histtype=\"stepfilled\", alpha=0.3, normed=True)\n",
    "# plt.xscale(\"log\")\n",
    "plt.xlim(-12, -6);\n",
    "\n",
    "# ga_m1s, ga_0s, ga_p1s = np.quantile(simple_ga, 0.159), np.quantile(simple_ga, 0.5), np.quantile(simple_ga, 0.841)\n",
    "ga_m1s, ga_0s, ga_p1s = np.quantile(simple_ga, 0.05), np.quantile(simple_ga, 0.5), np.quantile(simple_ga, 0.95)\n",
    "\n",
    "print ga_m1s, ga_0s, ga_p1s\n",
    "\n",
    "plt.axvline(log10(ga_m1s), ls=\":\", color=\"r\");\n",
    "plt.axvline(log10(ga_0s), ls=\":\", color=\"k\");\n",
    "plt.axvline(log10(ga_p1s), ls=\":\", color=\"g\");"
   ]
  },
  {
   "cell_type": "markdown",
   "metadata": {},
   "source": [
    "## **TO DO:**\n",
    "### 1. ``emcee`` exercise\n",
    "### 2. routine for transforming S/N to ga_reach for a given SNR; interpolate ga_reach fit function\n",
    "### 3. ``emcee`` to extract ga_reach PDF from Bietenholz dist. for a given SNR grid:\n",
    "a) make sure priors on parameters make physical sense\n",
    "\n",
    "b) do not fall outside the interpolation grid\n",
    "\n",
    "c) scanned over log10 rather than linear (?)"
   ]
  },
  {
   "cell_type": "code",
   "execution_count": 10,
   "metadata": {},
   "outputs": [],
   "source": [
    "import emcee"
   ]
  },
  {
   "cell_type": "code",
   "execution_count": 19,
   "metadata": {},
   "outputs": [],
   "source": [
    "from scipy import stats\n",
    "np.random.seed(1)  # for repeatability\n",
    "\n",
    "F_true = 1000  # true flux, say number of photons measured in 1 second\n",
    "N = 50 # number of measurements\n",
    "F = stats.poisson(F_true).rvs(N)  # N measurements of the flux\n",
    "e = np.sqrt(F)  # errors on Poisson counts estimated via square root"
   ]
  },
  {
   "cell_type": "code",
   "execution_count": 36,
   "metadata": {},
   "outputs": [],
   "source": [
    "def log_prior(theta):\n",
    "    return 1  # flat prior\n",
    "\n",
    "def log_likelihood(theta, F, e):\n",
    "    return -0.5 * np.sum(log(2 * pi * e ** 2)\n",
    "                         + (F - theta[0]) ** 2 / e ** 2)\n",
    "\n",
    "def log_posterior(theta, F, e):\n",
    "    \n",
    "    l_post = log_prior(theta) + log_likelihood(theta, F, e)\n",
    "    th = theta\n",
    "    th2 = theta**2.\n",
    "    \n",
    "    return l_post, th, th2"
   ]
  },
  {
   "cell_type": "code",
   "execution_count": 37,
   "metadata": {},
   "outputs": [],
   "source": [
    "ndim = 1  # number of parameters in the model\n",
    "nwalkers = 50  # number of MCMC walkers\n",
    "nburn = 1000  # \"burn-in\" period to let chains stabilize\n",
    "nsteps = 2000  # number of MCMC steps to take\n",
    "\n",
    "# we'll start at random locations between 0 and 2000\n",
    "starting_guesses = 2000 * np.random.rand(nwalkers, ndim)\n",
    "\n",
    "dtype = [(\"theta\", float), (\"theta2\", float)]\n",
    "sampler = emcee.EnsembleSampler(nwalkers, ndim, log_posterior, args=[F, e], blobs_dtype=dtype)\n",
    "sampler.run_mcmc(starting_guesses, nsteps)\n",
    "\n",
    "sample = sampler.chain  # shape = (nwalkers, nsteps, ndim)\n",
    "sample = sampler.chain[:, nburn:, :].ravel()  # discard burn-in points"
   ]
  },
  {
   "cell_type": "code",
   "execution_count": 66,
   "metadata": {},
   "outputs": [
    {
     "name": "stdout",
     "output_type": "stream",
     "text": [
      "(50000,) (50000,)\n"
     ]
    }
   ],
   "source": [
    "blobs = sampler.get_blobs()\n",
    "theta_samps = blobs[\"theta\"]\n",
    "theta2_samps = blobs[\"theta2\"]\n",
    "\n",
    "theta_samps = theta_samps[nburn:,:].ravel()\n",
    "theta2_samps = theta2_samps[nburn:,:].ravel()\n",
    "\n",
    "print theta_samps.shape, theta2_samps.shape"
   ]
  },
  {
   "cell_type": "code",
   "execution_count": 73,
   "metadata": {},
   "outputs": [
    {
     "data": {
      "image/png": "[encoded data removed]",
      "text/plain": [
       "<Figure size 432x288 with 1 Axes>"
      ]
     },
     "metadata": {
      "image/png": {
       "height": 263,
       "width": 389
      },
      "needs_background": "light"
     },
     "output_type": "display_data"
    }
   ],
   "source": [
    "# plot a histogram of the sample\n",
    "plt.hist(sample, bins=50, histtype=\"stepfilled\", alpha=0.5, normed=True)\n",
    "plt.hist(theta_samps, bins=50, histtype=\"stepfilled\", alpha=0.3, normed=True)\n",
    "\n",
    "# plot a best-fit Gaussian\n",
    "F_fit = np.linspace(975, 1025)\n",
    "pdf = stats.norm(np.mean(sample), np.std(sample)).pdf(F_fit)\n",
    "\n",
    "plt.plot(F_fit, pdf, '-k')\n",
    "plt.xlabel(\"F\"); plt.ylabel(\"P(F)\");"
   ]
  },
  {
   "cell_type": "code",
   "execution_count": null,
   "metadata": {},
   "outputs": [],
   "source": []
  }
 ],
 "metadata": {
  "kernelspec": {
   "display_name": "Python 2",
   "language": "python",
   "name": "python2"
  },
  "language_info": {
   "codemirror_mode": {
    "name": "ipython",
    "version": 2
   },
   "file_extension": ".py",
   "mimetype": "text/x-python",
   "name": "python",
   "nbconvert_exporter": "python",
   "pygments_lexer": "ipython2",
   "version": "2.7.16"
  },
  "nteract": {
   "version": "0.28.0"
  }
 },
 "nbformat": 4,
 "nbformat_minor": 2
}
