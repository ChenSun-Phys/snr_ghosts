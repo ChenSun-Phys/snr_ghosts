{
 "cells": [
  {
   "cell_type": "markdown",
   "metadata": {},
   "source": [
    "# Workspace \\#1: ``constants.py``"
   ]
  },
  {
   "cell_type": "code",
   "execution_count": 3,
   "metadata": {},
   "outputs": [],
   "source": [
    "import sys\n",
    "sys.path.insert(0, '../')\n",
    "import constants as ct"
   ]
  },
  {
   "cell_type": "code",
   "execution_count": 4,
   "metadata": {},
   "outputs": [
    {
     "data": {
      "text/plain": [
       "['NaturalUnit',\n",
       " '_GHz_over_eV_',\n",
       " '_Jy_over_SFU_',\n",
       " '_Jy_over_SI_',\n",
       " '_Jy_over_cgs_irrad_',\n",
       " '_Jy_over_eV3_',\n",
       " '_K_over_eV_',\n",
       " '_SFU_over_eV3_',\n",
       " '_Sun_to_gal_center_',\n",
       " '__builtins__',\n",
       " '__doc__',\n",
       " '__file__',\n",
       " '__name__',\n",
       " '__package__',\n",
       " '_arcmin_over_radian_',\n",
       " '_area_ska_low_',\n",
       " '_area_ska_mid_',\n",
       " '_au_over_kpc_',\n",
       " '_band_width_ska_low_',\n",
       " '_band_width_ska_mid_',\n",
       " '_casA_angle_',\n",
       " '_casA_solid_angle_',\n",
       " '_cm_eV_',\n",
       " '_cygA_angle_',\n",
       " '_cygA_bg_T_at_408Hz_',\n",
       " '_cygA_solid_angle_',\n",
       " '_cygA_theta_',\n",
       " '_eV_over_GeV_',\n",
       " '_eta_ska_',\n",
       " '_hour_eV_',\n",
       " '_kpc_eV_',\n",
       " '_kpc_over_cm_',\n",
       " '_kpc_over_lightyear_',\n",
       " '_kpc_over_m_',\n",
       " '_kpc_over_pc_',\n",
       " '_light_speed_',\n",
       " '_m_eV_',\n",
       " '_mu_log10_Lpk_',\n",
       " '_mu_log10_Lpk_50_',\n",
       " '_mu_log10_Lpk_IIb_',\n",
       " '_mu_log10_tpk_',\n",
       " '_mu_log10_tpk_50_',\n",
       " '_mu_log10_tpk_IIb_',\n",
       " '_nu_max_ska_low_',\n",
       " '_nu_max_ska_mid_',\n",
       " '_nu_min_ska_low_',\n",
       " '_nu_min_ska_mid_',\n",
       " '_r_H_',\n",
       " '_rho_H_',\n",
       " '_rho_local_DM_',\n",
       " '_rs_of_MW_',\n",
       " '_sig_log10_Lpk_',\n",
       " '_sig_log10_Lpk_50_',\n",
       " '_sig_log10_Lpk_IIb_',\n",
       " '_sig_log10_tpk_',\n",
       " '_sig_log10_tpk_50_',\n",
       " '_sig_log10_tpk_IIb_',\n",
       " '_solar_solid_angle_',\n",
       " '_solar_solid_angle_G_',\n",
       " '_time_of_phase_two_',\n",
       " 'angle_to_solid_angle',\n",
       " 'division',\n",
       " 'np',\n",
       " 'solid_angle_to_angle']"
      ]
     },
     "execution_count": 4,
     "metadata": {},
     "output_type": "execute_result"
    }
   ],
   "source": [
    "# The content of constants.py\n",
    "dir(ct)"
   ]
  },
  {
   "cell_type": "markdown",
   "metadata": {},
   "source": [
    "E.g.: some SKA parameters:"
   ]
  },
  {
   "cell_type": "code",
   "execution_count": 5,
   "metadata": {},
   "outputs": [
    {
     "name": "stdout",
     "output_type": "stream",
     "text": [
      "SKA low frequencies [GHz]: 0.05 0.35\n",
      "SKA mid frequencies [GHz]: 0.35 15.4\n"
     ]
    }
   ],
   "source": [
    "print('SKA low frequencies [GHz]: %s %s' %(ct._nu_min_ska_low_, ct._nu_max_ska_low_))\n",
    "print('SKA mid frequencies [GHz]: %s %s' %(ct._nu_min_ska_mid_, ct._nu_max_ska_mid_))"
   ]
  },
  {
   "cell_type": "markdown",
   "metadata": {},
   "source": [
    "E.g.: some peak lightcurve quantities $(t_{\\rm peak}, L_{\\rm peak})$ distribution parameters\n",
    "\n",
    "Taken from Table 4 in Bietenholz et al. ([arXiv:2011.11737](https://arxiv.org/abs/2011.11737)), for log-normal distributions."
   ]
  },
  {
   "cell_type": "code",
   "execution_count": 6,
   "metadata": {},
   "outputs": [
    {
     "name": "stdout",
     "output_type": "stream",
     "text": [
      "All SNe (D < 100 Mpc):\n",
      "('\\t\\t\\tmu [mean]', '\\t sigma [standard deviation]\\n...................................................................')\n",
      "log_10(t_pk/days)\t 1.7 \t\t\t 0.9\n",
      "log_10(L_pk/cgs)\t 25.5 \t\t\t 1.5\n"
     ]
    }
   ],
   "source": [
    "print('All SNe (D < 100 Mpc):')\n",
    "print('\\t\\t\\tmu [mean]', '\\t sigma [standard deviation]\\n...................................................................')\n",
    "print('log_10(t_pk/days)\\t %s \\t\\t\\t %s' %(ct._mu_log10_tpk_, ct._sig_log10_tpk_))\n",
    "print('log_10(L_pk/cgs)\\t %s \\t\\t\\t %s' %(ct._mu_log10_Lpk_, ct._sig_log10_Lpk_))"
   ]
  }
 ],
 "metadata": {
  "kernelspec": {
   "display_name": "Python 2",
   "language": "python",
   "name": "python2"
  },
  "language_info": {
   "codemirror_mode": {
    "name": "ipython",
    "version": 2
   },
   "file_extension": ".py",
   "mimetype": "text/x-python",
   "name": "python",
   "nbconvert_exporter": "python",
   "pygments_lexer": "ipython2",
   "version": "2.7.16"
  },
  "nteract": {
   "version": "0.28.0"
  }
 },
 "nbformat": 4,
 "nbformat_minor": 4
}
