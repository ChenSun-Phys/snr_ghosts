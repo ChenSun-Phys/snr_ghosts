{
 "cells": [
  {
   "cell_type": "markdown",
   "metadata": {},
   "source": [
    "# Workspace \\#1: ``tools.py``"
   ]
  },
  {
   "cell_type": "code",
   "execution_count": 1,
   "metadata": {},
   "outputs": [],
   "source": [
    "import sys\n",
    "sys.path.insert(0, '../')\n",
    "import tools as tl"
   ]
  },
  {
   "cell_type": "code",
   "execution_count": 2,
   "metadata": {},
   "outputs": [
    {
     "data": {
      "text/plain": [
       "['__builtins__',\n",
       " '__cached__',\n",
       " '__doc__',\n",
       " '__file__',\n",
       " '__loader__',\n",
       " '__name__',\n",
       " '__package__',\n",
       " '__spec__',\n",
       " 'brentq',\n",
       " 'division',\n",
       " 'erf',\n",
       " 'exp',\n",
       " 'interp1d',\n",
       " 'interp_fn',\n",
       " 'lambertw',\n",
       " 'load_dct',\n",
       " 'log',\n",
       " 'log10',\n",
       " 'np',\n",
       " 'pi',\n",
       " 'power',\n",
       " 'sqrt',\n",
       " 'treat_as_arr',\n",
       " 'zeros']"
      ]
     },
     "execution_count": 2,
     "metadata": {},
     "output_type": "execute_result"
    }
   ],
   "source": [
    "# The content of tools.py\n",
    "dir(tl)"
   ]
  },
  {
   "cell_type": "code",
   "execution_count": 3,
   "metadata": {},
   "outputs": [
    {
     "name": "stdout",
     "output_type": "stream",
     "text": [
      "Help on function interp_fn in module tools:\n",
      "\n",
      "interp_fn(array)\n",
      "    An interpolator for log-arrays spanning many orders of magnitude.\n",
      "    \n",
      "    Parameters\n",
      "    ----------\n",
      "    array : An array of shape (N, 2) from which to interpolate.\n",
      "\n"
     ]
    }
   ],
   "source": [
    "help(tl.interp_fn)"
   ]
  },
  {
   "cell_type": "code",
   "execution_count": 4,
   "metadata": {},
   "outputs": [
    {
     "name": "stdout",
     "output_type": "stream",
     "text": [
      "Help on function zeros in module tools:\n",
      "\n",
      "zeros(fn, arr, *args)\n",
      "    Find where a function crosses 0. Returns the zeroes of the function.\n",
      "    \n",
      "    Parameters\n",
      "    ----------\n",
      "    fn : function\n",
      "    arr : array of arguments for function\n",
      "    *args : any other arguments the function may have\n",
      "\n"
     ]
    }
   ],
   "source": [
    "help(tl.zeros)"
   ]
  }
 ],
 "metadata": {
  "kernelspec": {
   "display_name": "Python 3",
   "language": "python",
   "name": "python3"
  },
  "language_info": {
   "codemirror_mode": {
    "name": "ipython",
    "version": 3
   },
   "file_extension": ".py",
   "mimetype": "text/x-python",
   "name": "python",
   "nbconvert_exporter": "python",
   "pygments_lexer": "ipython3",
   "version": "3.7.5"
  },
  "nteract": {
   "version": "0.28.0"
  }
 },
 "nbformat": 4,
 "nbformat_minor": 4
}
