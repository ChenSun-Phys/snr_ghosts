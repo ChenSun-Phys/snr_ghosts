{
 "cells": [
  {
   "cell_type": "markdown",
   "metadata": {},
   "source": [
    "# Workspace \\#3: ``particle.py``"
   ]
  },
  {
   "cell_type": "code",
   "execution_count": 1,
   "metadata": {},
   "outputs": [],
   "source": [
    "import sys\n",
    "sys.path.insert(0, '../')\n",
    "\n",
    "import tools as tl\n",
    "import constants as ct\n",
    "import particle as pt"
   ]
  },
  {
   "cell_type": "code",
   "execution_count": 2,
   "metadata": {},
   "outputs": [
    {
     "data": {
      "text/plain": [
       "['Gamma',\n",
       " '__builtins__',\n",
       " '__cached__',\n",
       " '__doc__',\n",
       " '__file__',\n",
       " '__loader__',\n",
       " '__name__',\n",
       " '__package__',\n",
       " '__spec__',\n",
       " 'ct',\n",
       " 'division',\n",
       " 'lambda_from_nu',\n",
       " 'ma_from_nu',\n",
       " 'np',\n",
       " 'nu_from_ma']"
      ]
     },
     "execution_count": 2,
     "metadata": {},
     "output_type": "execute_result"
    }
   ],
   "source": [
    "# The contents of particle.py\n",
    "dir(pt)"
   ]
  },
  {
   "cell_type": "code",
   "execution_count": 3,
   "metadata": {},
   "outputs": [
    {
     "name": "stdout",
     "output_type": "stream",
     "text": [
      "Help on function Gamma in module particle:\n",
      "\n",
      "Gamma(ma, ga)\n",
      "    The decay width [eV] of axions to two photons.\n",
      "    \n",
      "    Parameters\n",
      "    ----------\n",
      "    ma : axion mass [eV]\n",
      "    ga : axion-photon coupling [GeV^-1]\n",
      "\n"
     ]
    }
   ],
   "source": [
    "# computes the (spontaneous) decay rate [eV] of an axion into two photons\n",
    "help(pt.Gamma)"
   ]
  },
  {
   "cell_type": "code",
   "execution_count": 4,
   "metadata": {},
   "outputs": [
    {
     "name": "stdout",
     "output_type": "stream",
     "text": [
      "Help on function nu_from_ma in module particle:\n",
      "\n",
      "nu_from_ma(ma)\n",
      "    Frequency of light [GHz] from axion of mass ma [eV].\n",
      "    \n",
      "    Parameters\n",
      "    ----------\n",
      "    ma : axion mass [eV]\n",
      "\n",
      "\n",
      "\n",
      "E.g.: an axion of mass 1e-06 eV yields two photons, each with a frequency of 0.12089945892055123 GHz\n"
     ]
    }
   ],
   "source": [
    "# frequency [GHz] of each individual photon into which an axion of a given mass [eV] decays...\n",
    "help(pt.nu_from_ma)\n",
    "\n",
    "print('\\n')\n",
    "print('E.g.: an axion of mass {} eV yields two photons, each with a frequency of {} GHz'.format(1.e-6, pt.nu_from_ma(1.e-6)))"
   ]
  },
  {
   "cell_type": "code",
   "execution_count": 5,
   "metadata": {},
   "outputs": [
    {
     "name": "stdout",
     "output_type": "stream",
     "text": [
      "Help on function ma_from_nu in module particle:\n",
      "\n",
      "ma_from_nu(nu)\n",
      "    Axion mass ma [eV] from frequency of light [GHz].\n",
      "    \n",
      "    Parameters\n",
      "    ----------\n",
      "    nu : photon frequency [GHz]\n",
      "\n",
      "\n",
      "\n",
      "E.g.: photons of 1.0 GHz come from the decay of an axion with a mass of 8.27133561166016e-06 eV\n"
     ]
    }
   ],
   "source": [
    "# ... and the mass [eV] of an axion that gave rise two two photons, each of a certain given frequency [GHz]\n",
    "help(pt.ma_from_nu)\n",
    "\n",
    "print('\\n')\n",
    "print('E.g.: photons of {} GHz come from the decay of an axion with a mass of {} eV'.format(1., pt.ma_from_nu(1.)))"
   ]
  },
  {
   "cell_type": "code",
   "execution_count": 6,
   "metadata": {},
   "outputs": [
    {
     "name": "stdout",
     "output_type": "stream",
     "text": [
      "Help on function lambda_from_nu in module particle:\n",
      "\n",
      "lambda_from_nu(nu)\n",
      "    Wavelength [cm] from frequency [GHz].\n",
      "    \n",
      "    Parameters\n",
      "    ----------\n",
      "    nu: photon frequency [GHz]\n",
      "\n",
      "\n",
      "\n",
      "E.g.: photons of 1.0 GHz have a wavelength of 29.9792458 cm\n"
     ]
    }
   ],
   "source": [
    "help(pt.lambda_from_nu)\n",
    "\n",
    "print('\\n')\n",
    "print('E.g.: photons of {} GHz have a wavelength of {} cm'.format(1., pt.lambda_from_nu(1.)))"
   ]
  }
 ],
 "metadata": {
  "kernelspec": {
   "display_name": "Python 3",
   "language": "python",
   "name": "python3"
  },
  "language_info": {
   "codemirror_mode": {
    "name": "ipython",
    "version": 3
   },
   "file_extension": ".py",
   "mimetype": "text/x-python",
   "name": "python",
   "nbconvert_exporter": "python",
   "pygments_lexer": "ipython3",
   "version": "3.7.5"
  },
  "nteract": {
   "version": "0.28.0"
  }
 },
 "nbformat": 4,
 "nbformat_minor": 4
}
