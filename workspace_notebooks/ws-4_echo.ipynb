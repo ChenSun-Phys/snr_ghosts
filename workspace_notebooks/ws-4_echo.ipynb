{
 "cells": [
  {
   "cell_type": "markdown",
   "metadata": {},
   "source": [
    "# Workspace \\#4: ``echo.py``"
   ]
  },
  {
   "cell_type": "code",
   "execution_count": 1,
   "metadata": {},
   "outputs": [],
   "source": [
    "# %load firstcell.py\n",
    "# autoreloading for imported modules\n",
    "%load_ext autoreload\n",
    "%autoreload 2\n",
    "\n",
    "# getting future division\n",
    "from __future__ import division\n",
    "\n",
    "# numpy\n",
    "import numpy as np\n",
    "from numpy import pi, sqrt, log, log10, power, exp\n",
    "\n",
    "#scipy\n",
    "from scipy.interpolate import interp1d\n",
    "\n",
    "# matplotlib\n",
    "import matplotlib.pyplot as plt\n",
    "from matplotlib import rcParams\n",
    "from matplotlib import rc\n",
    "from matplotlib.lines import Line2D\n",
    "\n",
    "# other\n",
    "import os\n",
    "from tqdm import tqdm\n",
    "\n",
    "# matplotlib style\n",
    "%matplotlib inline\n",
    "\n",
    "%config InlineBackend.figure_format = \"retina\"\n",
    "rcParams['figure.figsize'] = (13, 8)\n",
    "rcParams['font.family'] = 'serif'\n",
    "rcParams['font.serif'] = ['New Times Roman']\n",
    "rc('text', usetex=True)\n",
    "\n",
    "# current directory\n",
    "current_dir = os.getcwd()"
   ]
  },
  {
   "cell_type": "code",
   "execution_count": 2,
   "metadata": {},
   "outputs": [
    {
     "name": "stderr",
     "output_type": "stream",
     "text": [
      "/home/buenabad/anaconda2/lib/python2.7/site-packages/healpy/fitsfunc.py:352: UserWarning: If you are not specifying the input dtype and using the default np.float64 dtype of read_map(), please consider that it will change in a future version to None as to keep the same dtype of the input file: please explicitly set the dtype if it is important to you.\n",
      "  \"If you are not specifying the input dtype and using the default \"\n",
      "/home/buenabad/anaconda2/lib/python2.7/site-packages/healpy/fitsfunc.py:403: UserWarning: No INDXSCHM keyword in header file : assume IMPLICIT\n",
      "  warnings.warn(\"No INDXSCHM keyword in header file : \" \"assume {}\".format(schm))\n"
     ]
    }
   ],
   "source": [
    "from random import random\n",
    "\n",
    "import sys\n",
    "sys.path.insert(0, '../')\n",
    "\n",
    "import constants as ct\n",
    "import particle as pt\n",
    "import astro as ap\n",
    "import echo as ec"
   ]
  },
  {
   "cell_type": "code",
   "execution_count": 3,
   "metadata": {},
   "outputs": [
    {
     "data": {
      "text/plain": [
       "['Snu_echo',\n",
       " 'Snu_source',\n",
       " 'Tbg_408_antipodal',\n",
       " 'Tbg_408_avg',\n",
       " '__builtins__',\n",
       " '__doc__',\n",
       " '__file__',\n",
       " '__name__',\n",
       " '__package__',\n",
       " 'ap',\n",
       " 'axion_pref',\n",
       " 'check_axion',\n",
       " 'check_data',\n",
       " 'check_source',\n",
       " 'ct',\n",
       " 'dSnu_echo',\n",
       " 'division',\n",
       " 'echo_ad_fn',\n",
       " 'echo_an',\n",
       " 'echo_an_sup',\n",
       " 'echo_free_fn',\n",
       " 'echo_tot_fn',\n",
       " 'erf',\n",
       " 'exp',\n",
       " 'ga_reach',\n",
       " 'interp1d',\n",
       " 'interp_fn',\n",
       " 'lambertw',\n",
       " 'log',\n",
       " 'log10',\n",
       " 'ma_ga_bound',\n",
       " 'noise',\n",
       " 'np',\n",
       " 'nu_array_default',\n",
       " 'os',\n",
       " 'pi',\n",
       " 'power',\n",
       " 'pref',\n",
       " 'pt',\n",
       " 'quad',\n",
       " 'signal',\n",
       " 'sn_ratio',\n",
       " 'snr_fn',\n",
       " 'sqrt',\n",
       " 'trapz']"
      ]
     },
     "execution_count": 3,
     "metadata": {},
     "output_type": "execute_result"
    }
   ],
   "source": [
    "# The contents of echo.py\n",
    "dir(ec)"
   ]
  },
  {
   "cell_type": "markdown",
   "metadata": {},
   "source": [
    "Checking the line of sight integrand"
   ]
  },
  {
   "cell_type": "code",
   "execution_count": 4,
   "metadata": {},
   "outputs": [
    {
     "data": {
      "text/plain": [
       "<matplotlib.lines.Line2D at 0x7f2eb283e1d0>"
      ]
     },
     "execution_count": 4,
     "metadata": {},
     "output_type": "execute_result"
    },
    {
     "name": "stderr",
     "output_type": "stream",
     "text": [
      "/home/buenabad/.local/lib/python2.7/site-packages/matplotlib/font_manager.py:1331: UserWarning: findfont: Font family [u'serif'] not found. Falling back to DejaVu Sans\n",
      "  (prop.get_family(), self.defaultFamily[fontext]))\n"
     ]
    },
    {
     "data": {
      "image/png": "[encoded data removed]",
      "text/plain": [
       "<Figure size 432x288 with 1 Axes>"
      ]
     },
     "metadata": {
      "image/png": {
       "height": 252,
       "width": 378
      },
      "needs_background": "light"
     },
     "output_type": "display_data"
    }
   ],
   "source": [
    "output = {}\n",
    "\n",
    "D = 3.4 # [kpc] Cas A\n",
    "A = 4.*pi*(D*ct._kpc_over_cm_)**2. # [cm^2] area\n",
    "SnuCasA = 2723 # [Jy] Cas A\n",
    "\n",
    "LumCasA = (SnuCasA*ct._Jy_over_cgs_irrad_)*A\n",
    "\n",
    "source_input = {'longitude':111.734745, # Cas A\n",
    "                'latitude':-02.129570, # Cas A\n",
    "                'distance':D, # Cas A\n",
    "                'size':1.e-6,\n",
    "                't_age':300., # Cas A\n",
    "                'alpha':0.77,\n",
    "                'nu_pivot':1.,\n",
    "                'gamma':2.03, # Cas A experiment\n",
    "                'model':'eff', 'L_today':LumCasA, 'L_peak':1.e30,\n",
    "                't_peak':100.\n",
    "               }\n",
    "\n",
    "axion_input = {'ma':pt.ma_from_nu(1.),\n",
    "               'ga':1.e-10\n",
    "              }\n",
    "axion_prefactor = ec.axion_pref(axion_input['ma'], axion_input['ga'])\n",
    "\n",
    "data = {'deltaE_over_E':1.e-3\n",
    "       }\n",
    "\n",
    "t_arr = np.logspace(log10(1./365), log10(source_input['t_age']), 1001)\n",
    "\n",
    "# computing source\n",
    "ec.Snu_source(t_arr, 1., source_input, output=output)\n",
    "tArr, nu, SnuArr = output['source_t-nu-Snu']\n",
    "Snu_fn = ec.interp_fn(np.vstack((tArr, SnuArr)).T)\n",
    "\n",
    "theta_echo = pi - ap.theta_gal_ctr(source_input['longitude'], source_input['latitude'], output_radians=True)\n",
    "\n",
    "t_age = source_input['t_age']\n",
    "tmin = (source_input['t_peak']/365.)\n",
    "xmax = min([100., (t_age - tmin)/(2.*ct._kpc_over_lightyear_)])\n",
    "xmin = ct._au_over_kpc_\n",
    "\n",
    "# adding extra years\n",
    "t_extra_old = 100.\n",
    "x_offset = t_extra_old/(2.*ct._kpc_over_lightyear_)\n",
    "\n",
    "tage_extended = t_age + t_extra_old\n",
    "xmax += x_offset\n",
    "xmin += x_offset\n",
    "\n",
    "t_lo = tage_extended - 2.*(xmax*ct._kpc_over_lightyear_) # lowest time probed by l.o.s.\n",
    "t_hi = tage_extended - 2.*(xmin*ct._kpc_over_lightyear_) # highest time probed by l.o.s.\n",
    "t_arr2 = np.logspace(log10(t_lo), log10(t_hi), 5001) # array of times\n",
    "xArr = ((t_age - t_arr2)/(2.*ct._kpc_over_lightyear_))[::-1]\n",
    "xArr += x_offset\n",
    "\n",
    "dSArr = ec.dSnu_echo(x=xArr,\n",
    "                     theta=theta_echo,\n",
    "                     tobs=tage_extended,\n",
    "                     axion_prefactor=axion_prefactor,\n",
    "                     Snu_fn=Snu_fn,\n",
    "                     rho=ap.rho_MW,\n",
    "                     delE_over_E=data['deltaE_over_E'])\n",
    "\n",
    "fig_num = int(random()*100)\n",
    "plt.figure(fig_num)\n",
    "plt.loglog(xArr, dSArr)\n",
    "plt.xlim(xmin/2., xmax*2.);\n",
    "plt.ylim(1.e-7, 10.);\n",
    "# plt.axvline(ct._au_over_kpc_, c='k', ls=':')\n",
    "plt.axvline(xmin, c='r', ls=':')"
   ]
  },
  {
   "cell_type": "code",
   "execution_count": 5,
   "metadata": {},
   "outputs": [
    {
     "name": "stdout",
     "output_type": "stream",
     "text": [
      "Help on function Snu_echo in module echo:\n",
      "\n",
      "Snu_echo(source_input, axion_input, data, recycle_output=(False, None), tmin_default=None, Nt=1001, xmin=4.84810158797031e-09, xmax_default=100.0, use_quad=False, lin_space=False, Nint=50001, t_extra_old=0.0)\n",
      "    Computes the spectral irradiance (flux density) [Jy] of the echo. Saves to output.\n",
      "    \n",
      "    Parameters\n",
      "    ----------\n",
      "    source_input : dictionary with source input parameters\n",
      "    axion_input : dictionary with axion parameters\n",
      "    data : dictionary with environmental, experimental, and observational data\n",
      "    recycle_output : whether we recycle a previous computation; and the location where it is stored (default: (False, None))\n",
      "    tmin_default : the default cutoff minimum time [years] (i.e. the youngest age) of the SNR we will consider (default: None)\n",
      "    Nt : number of time points over which we interpolate the source's Snu\n",
      "    xmin : the closest integration distance [kpc] we will consider (default: 1 AU)\n",
      "    xmax_default : the default maximum value of the integration variable x [kpc] (default: 100.)\n",
      "    use_quad : whether the integration routine used is quad; if False use trapz (default: False)\n",
      "    lin_space : whether a linear space array is used for trapz routine; if False use logspace (Default: False).\n",
      "    Nint : number of integration steps for integration routine (default: 50001).\n",
      "    t_extra_old : extra time [years] added to the SNR source to make it older; they do not contribute to the lightcurve but merely displace the limits of the l.o.s. integral (default: 0.)\n",
      "\n"
     ]
    }
   ],
   "source": [
    "help(ec.Snu_echo)"
   ]
  },
  {
   "cell_type": "markdown",
   "metadata": {},
   "source": [
    "Computing spectal irradiance echo, comparing different methods"
   ]
  },
  {
   "cell_type": "code",
   "execution_count": 6,
   "metadata": {},
   "outputs": [
    {
     "name": "stdout",
     "output_type": "stream",
     "text": [
      "Snu_echo = 7.62e-06, error=5.79e-09\n",
      "\n",
      "next\n",
      "Snu_echo = 7.62e-06, error=6.86e-09\n",
      "\n"
     ]
    },
    {
     "data": {
      "text/plain": [
       "7.619949297664744e-06"
      ]
     },
     "execution_count": 6,
     "metadata": {},
     "output_type": "execute_result"
    }
   ],
   "source": [
    "data.update({'verbose':3})\n",
    "ec.Snu_echo(source_input, axion_input, data,\n",
    "            recycle_output=(True, output),\n",
    "            use_quad=True)\n",
    "\n",
    "print 'next'\n",
    "ec.Snu_echo(source_input, axion_input, data,\n",
    "            recycle_output=(False, None),\n",
    "            use_quad=True)"
   ]
  },
  {
   "cell_type": "code",
   "execution_count": 7,
   "metadata": {},
   "outputs": [
    {
     "data": {
      "text/plain": [
       "{'echo_Snu': 7.619924347511481e-06,\n",
       " 'source_t-nu-Snu': (array([2.73972603e-03, 2.77170209e-03, 2.80405136e-03, ...,\n",
       "         2.93117958e+02, 2.96539015e+02, 3.00000000e+02]),\n",
       "  1.0,\n",
       "  array([2.32484679e-54, 1.28937299e-53, 7.00958861e-53, ...,\n",
       "         2.85435288e+03, 2.78790295e+03, 2.72300000e+03]))}"
      ]
     },
     "execution_count": 7,
     "metadata": {},
     "output_type": "execute_result"
    }
   ],
   "source": [
    "output"
   ]
  },
  {
   "cell_type": "code",
   "execution_count": 8,
   "metadata": {},
   "outputs": [
    {
     "name": "stdout",
     "output_type": "stream",
     "text": [
      "default: 7.6199155830297766e-06\n",
      "no recylcing: 7.619937487458246e-06\n",
      "coarser grid: 7.6199452692853886e-06\n",
      "smaller tmin: 8.370711664831015e-06\n"
     ]
    }
   ],
   "source": [
    "# varying the various parameters of the ec.Snu_echo function:\n",
    "\n",
    "print 'default:', ec.Snu_echo(source_input, axion_input, data,\n",
    "                              recycle_output=(True, output),\n",
    "                              tmin_default=None, use_quad=False,\n",
    "                              lin_space=True, Nint=50001)\n",
    "\n",
    "# no recylcing:\n",
    "print 'no recylcing:', ec.Snu_echo(source_input, axion_input, data,\n",
    "                                   recycle_output=(False, None),\n",
    "                                   tmin_default=None, use_quad=False,\n",
    "                                   lin_space=True, Nint=50001)\n",
    "\n",
    "# less fine grid\n",
    "print 'coarser grid:', ec.Snu_echo(source_input, axion_input, data,\n",
    "                                   recycle_output=(True, output),\n",
    "                                   tmin_default=None, use_quad=False,\n",
    "                                   lin_space=True, Nint=5001)\n",
    "\n",
    "# smaller tmin (looking deeper into the history of the SN)\n",
    "print 'smaller tmin:', ec.Snu_echo(source_input, axion_input, data,\n",
    "                                   recycle_output=(True, output),\n",
    "                                   tmin_default=(1./365.), use_quad=False,\n",
    "                                   lin_space=True, Nint=50001)\n",
    "\n",
    "ec.Snu_echo(source_input, axion_input, data,\n",
    "            recycle_output=(True, output),\n",
    "            tmin_default=None, use_quad=False,\n",
    "            lin_space=True, Nint=50001)\n",
    "\n",
    "pass"
   ]
  },
  {
   "cell_type": "markdown",
   "metadata": {},
   "source": [
    "### Example: full echo computation"
   ]
  },
  {
   "cell_type": "code",
   "execution_count": 9,
   "metadata": {},
   "outputs": [
    {
     "name": "stdout",
     "output_type": "stream",
     "text": [
      "Snu of source: [1.57860975e+08 1.57860743e+08 1.57860048e+08 ... 5.97950901e+03\n",
      " 5.96254298e+03 5.94562508e+03]\n",
      "Snu_echo 4.587291965631942e-05\n",
      "signal computation result (nu, delnu, snu_echo, s_echo, power):  (0.36269837676165373, 0.0003626983767616537, 4.587291965631942e-05, 2.6615238451504673e-35, 3.9425993844195355e-16)\n",
      "signal power 3.9425993844195355e-16\n"
     ]
    }
   ],
   "source": [
    "D = 3.4 # [kpc] Cas A\n",
    "# D = 0.5\n",
    "A = 4.*pi*(D*ct._kpc_over_cm_)**2. # [cm^2] area\n",
    "SnuCasA = 2723 # [Jy] Cas A\n",
    "\n",
    "LumCasA = (SnuCasA*ct._Jy_over_cgs_irrad_)*A\n",
    "\n",
    "source_input = {'longitude':111.734745, # Cas A\n",
    "                'latitude':-02.129570, # Cas A\n",
    "                'distance':D, # Cas A\n",
    "                'size':1.e-6,\n",
    "                't_age':300., # Cas A\n",
    "                'alpha':0.77,\n",
    "                'nu_pivot':1.,\n",
    "                'gamma':2.03, # Cas A experiment\n",
    "                'model':'eff', 'L_today':LumCasA, 'L_peak':1.e30,\n",
    "                't_peak':100.\n",
    "               }\n",
    "\n",
    "ma_ref, ga_ref = 3.e-6, 1.e-10\n",
    "axion_input = {'ma':ma_ref,\n",
    "               'ga':ga_ref\n",
    "              }\n",
    "nu_ma = pt.nu_from_ma(ma_ref)\n",
    "\n",
    "data = {'deltaE_over_E':1.e-3,\n",
    "        'f_Delta':0.721,\n",
    "        'exper':'SKA',\n",
    "        'total_observing_time':100.,\n",
    "        'average':False,\n",
    "        'verbose':0\n",
    "       }\n",
    "\n",
    "t_peak = source_input['t_peak']\n",
    "t_age = source_input['t_age']\n",
    "\n",
    "Snu_echo_kwargs = {'tmin_default':None,\n",
    "                   'Nt':10001,\n",
    "                   'xmin':ct._au_over_kpc_,\n",
    "                   'xmax_default':100.,\n",
    "                   'use_quad':False,\n",
    "                   'lin_space':False,\n",
    "                   'Nint':int(30*(t_age)+1),\n",
    "                   't_extra_old':0.}\n",
    "t_arr = np.logspace(log10(t_peak/365.), log10(t_age), 5001)\n",
    "\n",
    "output = {}\n",
    "print 'Snu of source:', ec.Snu_source(t_arr, nu_ma, source_input,\n",
    "                  output=output)\n",
    "\n",
    "Snu_echo = ec.Snu_echo(source_input, axion_input, data,\n",
    "                  recycle_output=(True, output),\n",
    "                  **Snu_echo_kwargs)\n",
    "\n",
    "print 'Snu_echo', Snu_echo\n",
    "\n",
    "result = ec.signal(source_input, axion_input, data,\n",
    "                recycle_output=(True, output),\n",
    "                **Snu_echo_kwargs)\n",
    "_, _, _, _, Psignal = result\n",
    "print 'signal computation result (nu, delnu, snu_echo, s_echo, power): ', result\n",
    "print 'signal power', Psignal"
   ]
  },
  {
   "cell_type": "code",
   "execution_count": 10,
   "metadata": {},
   "outputs": [
    {
     "name": "stdout",
     "output_type": "stream",
     "text": [
      "(nu, delnu, tbg_408, t_noise, noise power): (0.36269837676165373, 0.0003626983767616537, 69.87706756591797, 120.06135212563396, 3.426757033845086e-17)\n"
     ]
    }
   ],
   "source": [
    "print '(nu, delnu, tbg_408, t_noise, noise power):', ec.noise(source_input, axion_input, data, recycle_output=(True, output))"
   ]
  },
  {
   "cell_type": "code",
   "execution_count": 11,
   "metadata": {},
   "outputs": [
    {
     "name": "stdout",
     "output_type": "stream",
     "text": [
      "Help on function sn_ratio in module echo:\n",
      "\n",
      "sn_ratio(signal_power, noise_power, output=None, verbose=0)\n",
      "    Returns the signal-to-noise ratio.\n",
      "    \n",
      "    Parameters\n",
      "    ----------\n",
      "    signal_power : power of signal [eV^2]\n",
      "    noise_power : power of noise [eV^2]\n",
      "    output : output dictionary (default: None)\n",
      "    verbose : verbosity (default: 0)\n",
      "\n"
     ]
    }
   ],
   "source": [
    "help(ec.sn_ratio)"
   ]
  },
  {
   "cell_type": "code",
   "execution_count": 12,
   "metadata": {},
   "outputs": [
    {
     "name": "stdout",
     "output_type": "stream",
     "text": [
      "S/N: 11.505336811100477\n"
     ]
    }
   ],
   "source": [
    "signal_power = output['signal_power']\n",
    "noise_power = output['noise_power']\n",
    "\n",
    "print 'S/N:', ec.sn_ratio(signal_power, noise_power, output=output)"
   ]
  },
  {
   "cell_type": "code",
   "execution_count": 13,
   "metadata": {},
   "outputs": [
    {
     "name": "stdout",
     "output_type": "stream",
     "text": [
      "3.9425993844195355e-16 3.9425993844195355e-16 3.426757033845086e-17\n",
      "11.505336811100477\n"
     ]
    }
   ],
   "source": [
    "print signal_power, Psignal, noise_power\n",
    "print output['S/N']"
   ]
  },
  {
   "cell_type": "code",
   "execution_count": 14,
   "metadata": {},
   "outputs": [
    {
     "name": "stdout",
     "output_type": "stream",
     "text": [
      "Help on function SKA_specs in module astro:\n",
      "\n",
      "SKA_specs(nu, exper_mode)\n",
      "    Returns the specifications (area [m^2], window, receiver noise brightness temperature [K]) of the SKA experiment mode, for the given frequency [GHz].\n",
      "    \n",
      "    Parameters\n",
      "    ----------\n",
      "    nu : frequency [GHz]\n",
      "    exper_mode : mode in which the experiment is working\n",
      "\n"
     ]
    }
   ],
   "source": [
    "help(ap.SKA_specs)"
   ]
  },
  {
   "cell_type": "code",
   "execution_count": 15,
   "metadata": {},
   "outputs": [
    {
     "name": "stdout",
     "output_type": "stream",
     "text": [
      "69.87706756591797 120.06135212563396 3.426757033845086e-17\n",
      "11.505336811100477\n"
     ]
    }
   ],
   "source": [
    "# yet another way to compute S/N ratio:\n",
    "\n",
    "delnu = nu_ma * data['deltaE_over_E']\n",
    "\n",
    "exper_mode = ap.SKA_exper_nu(nu)\n",
    "_, _, Tr = ap.SKA_specs(nu_ma, exper_mode)\n",
    "\n",
    "Tbg_408 = ap.bg_408_temp(l=(180.+source_input['longitude']), b=-source_input['latitude'], size=source_input['size'], average=False)\n",
    "Tnoise = ap.T_noise(nu_ma, Tbg_at_408=Tbg_408, Tr=Tr)\n",
    "Pnoise = ap.P_noise(Tnoise, delnu, 100.)\n",
    "\n",
    "print Tbg_408, Tnoise, Pnoise\n",
    "print Psignal/Pnoise"
   ]
  },
  {
   "cell_type": "code",
   "execution_count": 16,
   "metadata": {},
   "outputs": [
    {
     "name": "stdout",
     "output_type": "stream",
     "text": [
      "Help on function snr_fn in module echo:\n",
      "\n",
      "snr_fn(Secho, nu, delta_nu, Tbg_408=34.3979975598877, fDelta=0.721, tobs=100.0)\n",
      "    Simpler signal-to-noise ratio formula.\n",
      "    \n",
      "    Parameters\n",
      "    ----------\n",
      "    Secho : echo flux density (spectral irradiance) [Jy]\n",
      "    nu : signal frequency [GHz]\n",
      "    delta_nu : the bandwidth of the detector [GHz]\n",
      "    Tbg_408 : the MW background at 408 MHz [K] (default: full sky average)\n",
      "    fDelta : the fraction of signal falling withing the bandwidth (default: 0.721)\n",
      "    tobs : the total observation time [hours] (default: 100)\n",
      "\n"
     ]
    }
   ],
   "source": [
    "help(ec.snr_fn)"
   ]
  },
  {
   "cell_type": "markdown",
   "metadata": {},
   "source": [
    "Comparing with analytic computation:"
   ]
  },
  {
   "cell_type": "code",
   "execution_count": 17,
   "metadata": {},
   "outputs": [
    {
     "name": "stdout",
     "output_type": "stream",
     "text": [
      "ftpk: 0.000913242009132 \n",
      "ftt: 0.10864171928242404\n",
      "numeric: 11.505336811100477\n",
      "analytic: 11.468656688826005\n"
     ]
    }
   ],
   "source": [
    "Lpk, tpk, dist, L0, tage, gam = source_input['L_peak'], source_input['t_peak'], source_input['distance'], source_input['L_today'], source_input['t_age'], source_input['gamma']\n",
    "\n",
    "# frequency factor\n",
    "fac = (nu_ma/source_input['nu_pivot'])**(-source_input['alpha'])\n",
    "# frequency correction\n",
    "Lpk *= fac\n",
    "L0 *= fac\n",
    "# spectral irradiance today\n",
    "S0 = (L0/ct._Jy_over_cgs_irrad_)/(4.*pi*(dist*ct._kpc_over_cm_)**2.)\n",
    "\n",
    "ftpk = (tpk/365.)/tage # fractional peak time\n",
    "sup = L0/Lpk # fractional suppression\n",
    "ftt = ap.ftt(gam, ftpk, L0/Lpk) # fractional transition time\n",
    "\n",
    "print 'ftpk:', ftpk, '\\n', 'ftt:', ftt\n",
    "\n",
    "# def echo_an_sup(ma, ga, Lpk, dist, S0, t_age, gamma, tpk, deltaE_over_E=1.e-3)\n",
    "\n",
    "Snu_echo_an = ec.echo_an_sup(ma_ref, ga_ref,\n",
    "                             Lpk, dist, S0,\n",
    "                             tage, gam, tpk,\n",
    "                             deltaE_over_E=data['deltaE_over_E'])\n",
    "\n",
    "print 'numeric:', ec.snr_fn(Snu_echo, nu_ma, nu_ma*data['deltaE_over_E'], Tbg_408)\n",
    "print 'analytic:', ec.snr_fn(Snu_echo_an, nu_ma, nu_ma*data['deltaE_over_E'], Tbg_408)"
   ]
  }
 ],
 "metadata": {
  "kernelspec": {
   "display_name": "Python 2",
   "language": "python",
   "name": "python2"
  },
  "language_info": {
   "codemirror_mode": {
    "name": "ipython",
    "version": 2
   },
   "file_extension": ".py",
   "mimetype": "text/x-python",
   "name": "python",
   "nbconvert_exporter": "python",
   "pygments_lexer": "ipython2",
   "version": "2.7.16"
  },
  "nteract": {
   "version": "0.28.0"
  }
 },
 "nbformat": 4,
 "nbformat_minor": 2
}
