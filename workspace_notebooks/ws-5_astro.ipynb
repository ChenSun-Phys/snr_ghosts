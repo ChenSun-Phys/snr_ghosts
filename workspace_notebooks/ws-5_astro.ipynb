{
 "cells": [
  {
   "cell_type": "markdown",
   "metadata": {},
   "source": [
    "# Workspace \\#5: ``astro.py``"
   ]
  },
  {
   "cell_type": "code",
   "execution_count": 1,
   "metadata": {},
   "outputs": [],
   "source": [
    "# %load firstcell.py\n",
    "# autoreloading for imported modules\n",
    "%load_ext autoreload\n",
    "%autoreload 2\n",
    "\n",
    "# getting future division\n",
    "from __future__ import division\n",
    "\n",
    "# numpy\n",
    "import numpy as np\n",
    "from numpy import pi, sqrt, log, log10, power, exp\n",
    "\n",
    "#scipy\n",
    "from scipy.interpolate import interp1d\n",
    "\n",
    "# matplotlib\n",
    "import matplotlib.pyplot as plt\n",
    "from matplotlib import rcParams\n",
    "from matplotlib import rc\n",
    "from matplotlib.lines import Line2D\n",
    "\n",
    "# other\n",
    "import os\n",
    "from tqdm import tqdm\n",
    "\n",
    "# matplotlib style\n",
    "%matplotlib inline\n",
    "# %matplotlib notebook\n",
    "\n",
    "%config InlineBackend.figure_format = \"retina\"\n",
    "#rcParams['figure.figsize'] = (13, 8)\n",
    "rcParams['font.family'] = 'serif'\n",
    "rcParams['font.serif'] = ['New Times Roman']\n",
    "rc('text', usetex=True)\n",
    "\n",
    "# current directory\n",
    "current_dir = os.getcwd()"
   ]
  },
  {
   "cell_type": "code",
   "execution_count": 2,
   "metadata": {},
   "outputs": [
    {
     "name": "stdout",
     "output_type": "stream",
     "text": [
      "NSIDE = 512\n",
      "ORDERING = NESTED in fits file\n",
      "INDXSCHM = IMPLICIT\n",
      "Ordering converted to RING\n"
     ]
    },
    {
     "name": "stderr",
     "output_type": "stream",
     "text": [
      "/home/buenabad/anaconda2/lib/python2.7/site-packages/healpy/fitsfunc.py:352: UserWarning: If you are not specifying the input dtype and using the default np.float64 dtype of read_map(), please consider that it will change in a future version to None as to keep the same dtype of the input file: please explicitly set the dtype if it is important to you.\n",
      "  \"If you are not specifying the input dtype and using the default \"\n",
      "/home/buenabad/anaconda2/lib/python2.7/site-packages/healpy/fitsfunc.py:403: UserWarning: No INDXSCHM keyword in header file : assume IMPLICIT\n",
      "  warnings.warn(\"No INDXSCHM keyword in header file : \" \"assume {}\".format(schm))\n"
     ]
    }
   ],
   "source": [
    "from random import random\n",
    "\n",
    "import sys\n",
    "sys.path.insert(0, '../')\n",
    "\n",
    "import tools as tl\n",
    "import constants as ct\n",
    "import particle as pt\n",
    "import ska as sk\n",
    "import astro as ap"
   ]
  },
  {
   "cell_type": "code",
   "execution_count": 3,
   "metadata": {},
   "outputs": [
    {
     "data": {
      "text/plain": [
       "['AdiabaticErrorMssg',\n",
       " 'ED_fn',\n",
       " 'FreeErrorMssg',\n",
       " 'Galactic',\n",
       " 'HEALPix',\n",
       " 'L_adiab',\n",
       " 'L_arr_default',\n",
       " 'L_eff',\n",
       " 'L_free',\n",
       " 'L_source',\n",
       " 'L_thy',\n",
       " 'P_noise',\n",
       " 'P_signal',\n",
       " 'Rb_TM99',\n",
       " 'ST_fn',\n",
       " 'S_cygA',\n",
       " 'SkyCoord',\n",
       " 'Snu_supp',\n",
       " 'T_noise',\n",
       " '__builtins__',\n",
       " '__doc__',\n",
       " '__file__',\n",
       " '__name__',\n",
       " '__package__',\n",
       " 'alpha_from_gamma',\n",
       " 'bg_408_temp',\n",
       " 'ct',\n",
       " 'dimless_adiab',\n",
       " 'dimless_free',\n",
       " 'dimless_lum',\n",
       " 'division',\n",
       " 'erf',\n",
       " 'exp',\n",
       " 'flux',\n",
       " 'flux_density_to_psd',\n",
       " 'fsolve',\n",
       " 'ftt',\n",
       " 'gamma_from_alpha',\n",
       " 'getargspec',\n",
       " 'hp',\n",
       " 'irrad',\n",
       " 'lambertw',\n",
       " 'log',\n",
       " 'log10',\n",
       " 'lumin',\n",
       " 'map_allsky_408',\n",
       " 'model_age',\n",
       " 'np',\n",
       " 'nu_factor',\n",
       " 'os',\n",
       " 'pars_always',\n",
       " 'pars_early',\n",
       " 'pars_late',\n",
       " 'pars_lightcurve',\n",
       " 'pars_required',\n",
       " 'path',\n",
       " 'pi',\n",
       " 'power',\n",
       " 'psd_to_flux_density',\n",
       " 'pt',\n",
       " 'r_to_gal',\n",
       " 'rho_MW',\n",
       " 'rho_NFW',\n",
       " 'sandwich_logeqn',\n",
       " 'sk',\n",
       " 'source_id',\n",
       " 'source_input',\n",
       " 'sqrt',\n",
       " 't_arr_default',\n",
       " 'tage_compute',\n",
       " 'theta_gal_ctr',\n",
       " 'tl',\n",
       " 'trapz']"
      ]
     },
     "execution_count": 3,
     "metadata": {},
     "output_type": "execute_result"
    }
   ],
   "source": [
    "# The contents of astro.py\n",
    "dir(ap)"
   ]
  },
  {
   "cell_type": "code",
   "execution_count": 4,
   "metadata": {},
   "outputs": [
    {
     "data": {
      "text/plain": [
       "{('eff', 'L_peak'): ['t_peak', 'gamma', 't_trans', 't_age', 'L_today'],\n",
       " ('eff', 'L_today'): ['L_peak', 't_peak', 'gamma', 't_trans', 't_age'],\n",
       " ('eff', 't_age'): ['L_peak', 't_peak', 'gamma', 't_trans', 'L_today'],\n",
       " ('eff', 't_trans'): ['L_peak', 't_peak', 'gamma', 'L_today', 't_age'],\n",
       " ('thy', 'L_norm'): ['K2',\n",
       "  'beta',\n",
       "  'delta',\n",
       "  't_trans',\n",
       "  'gamma',\n",
       "  't_age',\n",
       "  'L_today'],\n",
       " ('thy', 'L_today'): ['L_norm',\n",
       "  'K2',\n",
       "  'beta',\n",
       "  'delta',\n",
       "  't_trans',\n",
       "  'gamma',\n",
       "  't_age']}"
      ]
     },
     "execution_count": 4,
     "metadata": {},
     "output_type": "execute_result"
    }
   ],
   "source": [
    "# parameters required for each astro model. The keys are of the form (model, missing_parameter), for a fixed lightcurve model ('eff'/'thy') and a given missing parameter. The values are then the parameters that need to be known and passed in order to compute the lightcurve. Essentially, the missing parameter is computed based on all the others.\n",
    "\n",
    "ap.pars_required"
   ]
  },
  {
   "cell_type": "markdown",
   "metadata": {},
   "source": [
    "## **NOTA BENE:**\n",
    "\n",
    "### When using either of the spectral luminosities (at peak day, $L_{\\rm peak, \\, \\nu}$; and today, $L_{\\rm today, \\, \\nu}$) to compute the lightcurve, make sure they are evaluated **at the same frequency $\\nu$, which _must_ be the pivot frequency $\\nu_{\\rm pivot}$**. Otherwise, the lighcturve is inconsistent."
   ]
  },
  {
   "cell_type": "markdown",
   "metadata": {},
   "source": [
    "Testing that different approaches to the lightcurve models give the same results:"
   ]
  },
  {
   "cell_type": "markdown",
   "metadata": {},
   "source": [
    "## 1. Lightcurve"
   ]
  },
  {
   "cell_type": "markdown",
   "metadata": {},
   "source": [
    "### 1.1 Exact (numeric)"
   ]
  },
  {
   "cell_type": "code",
   "execution_count": 5,
   "metadata": {},
   "outputs": [
    {
     "name": "stdout",
     "output_type": "stream",
     "text": [
      "------------------\n",
      "MODEL: 'eff'\n",
      "------------------\n",
      "\n",
      "missing L_today:\n",
      "('eff', {'t_trans': 1.0, 't_peak': 100.0, 'L_peak': 1e+28, 't_age': 300.0, 'gamma': 1.0})\n",
      "\n",
      "(time, Lum): [(0.273972602739726, 1e+28), (1.0, 4.261134491959295e+27), (300.0, 1.4203781639864318e+25)]\n",
      "pars: {'L_peak': 1e+28, 'L_ref': 4.261134491959295e+27, 't_trans': 1.0, 'L_today': 1.4203781639864318e+25, 't_peak': 100.0, 't_age': 300.0, 'gamma': 1.0, 't_ref': 1.0}\n",
      "..................\n",
      "\n",
      "missing L_peak:\n",
      "('eff', {'t_trans': 1.0, 'L_today': 1.4203781639864318e+25, 't_peak': 100.0, 't_age': 300.0, 'gamma': 1.0})\n",
      "\n",
      "(time, Lum): [(0.273972602739726, 1e+28), (1.0, 4.261134491959295e+27), (300.0, 1.4203781639864318e+25)]\n",
      "pars: {'L_peak': array(1.e+28), 'L_ref': 1.4203781639864318e+25, 't_trans': 1.0, 'L_today': 1.4203781639864318e+25, 't_peak': 100.0, 't_age': 300.0, 'gamma': 1.0, 't_ref': 300.0}\n",
      "..................\n",
      "\n",
      "missing t_trans:\n",
      "('eff', {'t_peak': 100.0, 'L_today': 1.4203781639864318e+25, 'L_peak': 1e+28, 't_age': 300.0, 'gamma': 1.0})\n",
      "\n",
      "(time, Lum): [(0.273972602739726, 1e+28), (1.0, 4.261134491959295e+27), (300.0, 1.4203781639864318e+25)]\n",
      "pars: {'L_peak': 1e+28, 'L_ref': 1.4203781639864318e+25, 't_trans': 1.0000000000002902, 'L_today': 1.4203781639864318e+25, 't_peak': 100.0, 't_age': 300.0, 'gamma': 1.0, 't_ref': 300.0}\n",
      "..................\n",
      "\n",
      "missing t_age:\n",
      "('eff', {'t_trans': 1.0, 'L_today': 1.4203781639864318e+25, 't_peak': 100.0, 'L_peak': 1e+28, 'gamma': 1.0})\n",
      "\n",
      "(time, Lum): [(0.273972602739726, 1e+28), (1.0, 4.261134491959295e+27), (300.0, 1.4203781639864318e+25)]\n",
      "pars: {'L_peak': 1e+28, 'L_ref': 4.261134491959295e+27, 't_trans': 1.0, 'L_today': 1.4203781639864318e+25, 't_peak': 100.0, 't_age': 300.0, 'gamma': 1.0, 't_ref': 1.0}\n",
      "..................\n",
      "\n",
      "\n",
      "------------------\n",
      "MODEL: 'thy'\n",
      "------------------\n",
      "\n",
      "missing L_norm:\n",
      "('thy', {'K2': 2400.0, 'beta': 0.64, 'tau_factor': 29.365473577200476, 'delta': 2.82, 't_trans': 1.0, 'L_today': 1.4203781639864318e+25, 't_age': 300.0, 'gamma': 1.0})\n",
      "\n",
      "(time, Lum):[(0.273972602739726, 8.338627686251397e+27), (1.0, 4.261134491959312e+27), (300.0, 1.4203781639864318e+25)]\n",
      "pars: {'L_norm': array(1.8672956e+29), 'L_ref': 1.4203781639864318e+25, 'K2': 2400.0, 'beta': 0.64, 'tau_factor': 29.365473577200476, 'delta': 2.82, 't_trans': 1.0, 'L_today': 1.4203781639864318e+25, 't_age': 300.0, 'gamma': 1.0, 't_ref': 300.0}\n",
      "..................\n",
      "\n",
      "missing L_today:\n",
      "('thy', {'K2': 2400.0, 'beta': 0.64, 'tau_factor': 29.365473577200476, 'L_norm': 1.8672956e+29, 't_trans': 1.0, 'delta': 2.82, 't_age': 300.0, 'gamma': 1.0})\n",
      "\n",
      "(time, Lum):[(0.273972602739726, 8.33862767433617e+27), (1.0, 4.2611344858704936e+27), (300.0, 1.4203781619568313e+25)]\n",
      "pars: {'L_norm': 1.8672956e+29, 'L_ref': 4.2611344858704936e+27, 'K2': 2400.0, 'beta': 0.64, 'tau_factor': 29.365473577200476, 'delta': 2.82, 't_trans': 1.0, 'L_today': 1.4203781619568313e+25, 't_age': 300.0, 'gamma': 1.0, 't_ref': 1.0}\n",
      "..................\n",
      "\n"
     ]
    }
   ],
   "source": [
    "# compute lightcurve for different models and approaches\n",
    "t_peak = 100. # [days] # DO NOT CHANGE IN ORDER TO COMPARE\n",
    "t_age = 300. # [years]\n",
    "t_trans = 1. # [years] # DO NOT CHANGE IN ORDER TO COMPARE\n",
    "t_arr = np.array([t_peak/365., t_trans, t_age]) # [years]\n",
    "\n",
    "# doing 'eff'\n",
    "\n",
    "L_peak = 1.e28\n",
    "\n",
    "source_input = []\n",
    "approach = []\n",
    "\n",
    "approach.append('missing L_today')\n",
    "source_input.append(('eff', {'L_peak':L_peak, 't_peak':t_peak, 'gamma':1., 't_trans':t_trans, 't_age':t_age}))\n",
    "\n",
    "L_today = ap.L_source(t=t_age,\n",
    "                      model=source_input[0][0],\n",
    "                      output_pars=False,\n",
    "                      **source_input[0][1])\n",
    "\n",
    "approach.append('missing L_peak')\n",
    "source_input.append(('eff', {'L_today':L_today, 't_age':t_age, 't_peak':t_peak, 'gamma':1., 't_trans':t_trans, 't_age':t_age}))\n",
    "\n",
    "approach.append('missing t_trans')\n",
    "source_input.append(('eff', {'L_today':L_today, 'L_peak':L_peak, 't_age':t_age, 't_peak':t_peak, 'gamma':1.}))\n",
    "\n",
    "approach.append('missing t_age')\n",
    "source_input.append(('eff', {'L_today':L_today, 'L_peak':L_peak, 't_trans':t_trans, 't_peak':t_peak, 'gamma':1.}))\n",
    "\n",
    "print(\"------------------\\nMODEL: 'eff'\\n------------------\\n\")\n",
    "\n",
    "L_fns = {}\n",
    "for i, val in enumerate(source_input):\n",
    "    \n",
    "    model = val[0]\n",
    "    pars = val[1]\n",
    "    \n",
    "    print(approach[i]+':')\n",
    "    print(val)\n",
    "    print('\\n(time, Lum): %s' %([(t, ap.L_source(t=t,\n",
    "                                           model=model,\n",
    "                                           output_pars=False,\n",
    "                                           **pars)) for t in t_arr]))\n",
    "    print('pars: %s\\n..................\\n' %(ap.L_source(t=t_age,\n",
    "                                model=model,\n",
    "                                output_pars=True, **pars)[-1]))\n",
    "\n",
    "\n",
    "# doing 'thy'\n",
    "t_check = t_peak # [days]\n",
    "t_arr = np.array([t_check/365., t_trans, t_age]) # [years]\n",
    "\n",
    "K2 = 2.4e3 # DO NOT CHANGE IN ORDER TO COMPARE\n",
    "\n",
    "print(\"\\n------------------\\nMODEL: 'thy'\\n------------------\\n\")\n",
    "\n",
    "approach.append('missing L_norm')\n",
    "source_input.append(('thy', {'L_today':L_today, 't_age':t_age, 'beta':0.64, 'K2':K2, 'delta':2.82, 'gamma':1., 't_trans':t_trans, 'tau_factor':((1./5.)**-2.1)}))\n",
    "\n",
    "L_norm = 1.8672956e+29 * (L_today/1.4203781639864318e+25) # DO NOT CHANGE IN ORDER TO COMPARE\n",
    "\n",
    "approach.append('missing L_today')\n",
    "source_input.append(('thy', {'L_norm':L_norm, 'beta':0.64, 'K2':K2, 'delta':2.82, 'gamma':1., 't_trans':t_trans, 't_age':t_age, 'tau_factor':((1./5.)**-2.1)}))\n",
    "\n",
    "for i, val in enumerate(source_input):\n",
    "    \n",
    "    model = val[0]\n",
    "    pars = val[1]\n",
    "    \n",
    "    if model != 'thy':\n",
    "        continue\n",
    "    \n",
    "    print(approach[i]+':')\n",
    "    print(val)\n",
    "    print('\\n(time, Lum):%s' %([(t, ap.L_source(t=t,\n",
    "                                           model=model,\n",
    "                                           output_pars=False,\n",
    "                                           **pars)) for t in t_arr]))\n",
    "    print('pars: %s\\n..................\\n' %(ap.L_source(t=t_age,\n",
    "                                model=model,\n",
    "                                output_pars=True,\n",
    "                                **pars)[-1]))"
   ]
  },
  {
   "cell_type": "markdown",
   "metadata": {},
   "source": [
    "Comparing the lightcuarves from different approaches:"
   ]
  },
  {
   "cell_type": "code",
   "execution_count": 6,
   "metadata": {},
   "outputs": [
    {
     "name": "stderr",
     "output_type": "stream",
     "text": [
      "/home/buenabad/.local/lib/python2.7/site-packages/matplotlib/font_manager.py:1331: UserWarning: findfont: Font family [u'serif'] not found. Falling back to DejaVu Sans\n",
      "  (prop.get_family(), self.defaultFamily[fontext]))\n"
     ]
    },
    {
     "data": {
      "image/png": "[encoded data removed]",
      "text/plain": [
       "<Figure size 432x288 with 1 Axes>"
      ]
     },
     "metadata": {
      "image/png": {
       "height": 250,
       "width": 375
      },
      "needs_background": "light"
     },
     "output_type": "display_data"
    }
   ],
   "source": [
    "t_arr = np.logspace(log10(1./365), log10(t_age)+0.5, 1001)\n",
    "\n",
    "max_w = len(source_input)*.5\n",
    "for i, mod_pars in enumerate(source_input):\n",
    "    \n",
    "    model, params = mod_pars\n",
    "    \n",
    "    Lfn = lambda tt: ap.L_source(t=tt, model=model, output_pars=False, **params)\n",
    "    \n",
    "    plt.loglog(t_arr, Lfn(t_arr), label=\"{}, i={}\".format(model, i), lw=max_w-0.5*i)\n",
    "\n",
    "plt.axvline(t_age, ls='-', color='k')\n",
    "plt.axvline(t_trans, ls='-.', color='m')\n",
    "plt.axvline(t_peak/365, ls=':', color='c')\n",
    "\n",
    "plt.xlim(0.1, 2.);plt.ylim(1.e27, 3.e28);\n",
    "# plt.ylim(1.e20, 1.e30);\n",
    "plt.legend();"
   ]
  },
  {
   "cell_type": "markdown",
   "metadata": {},
   "source": [
    "Yet another example of lightcurve comparison: Cassiopeia A"
   ]
  },
  {
   "cell_type": "code",
   "execution_count": 7,
   "metadata": {},
   "outputs": [
    {
     "name": "stdout",
     "output_type": "stream",
     "text": [
      "{'L_peak': 1e+30, 'L_ref': 3.410747597976396e+27, 't_trans': 32.59251578472727, 'L_today': 3.7663679059949214e+25, 't_peak': 100.0, 't_age': 300.0, 'gamma': 2.03, 't_ref': 32.59251578472727}\n",
      "(1001,) (1001,)\n"
     ]
    },
    {
     "data": {
      "text/plain": [
       "True"
      ]
     },
     "execution_count": 7,
     "metadata": {},
     "output_type": "execute_result"
    },
    {
     "data": {
      "image/png": "[encoded data removed]",
      "text/plain": [
       "<Figure size 432x288 with 1 Axes>"
      ]
     },
     "metadata": {
      "image/png": {
       "height": 252,
       "width": 375
      },
      "needs_background": "light"
     },
     "output_type": "display_data"
    },
    {
     "data": {
      "image/png": "[encoded data removed]",
      "text/plain": [
       "<Figure size 432x288 with 1 Axes>"
      ]
     },
     "metadata": {
      "image/png": {
       "height": 250,
       "width": 378
      },
      "needs_background": "light"
     },
     "output_type": "display_data"
    }
   ],
   "source": [
    "# Cassiopeia A lightcurve\n",
    "\n",
    "output={}\n",
    "\n",
    "D = 3.4 # [kpc] Cas A\n",
    "A = 4.*pi*(D*ct._kpc_over_cm_)**2. # [cm^2] area\n",
    "SnuCasA = 2723 # [Jy] Cas A\n",
    "\n",
    "LumCasA = (SnuCasA*ct._Jy_over_cgs_irrad_)*A\n",
    "\n",
    "source_input = {'longitude':111.734745, # Cas A\n",
    "                'latitude':-02.129570, # Cas A\n",
    "                'distance':D, # Cas A\n",
    "                'size':1.e-6,\n",
    "                't_age':300., # Cas A\n",
    "                'alpha':0.77,\n",
    "                'nu_pivot':1.,\n",
    "                'gamma':2.03, # Cas A experiment\n",
    "                'model':'eff', 'L_today':LumCasA, 'L_peak':1.e30,\n",
    "                't_peak':100.\n",
    "               }\n",
    "\n",
    "import echo as ec # temporarily, just to check with the spectral irradiance function in that module\n",
    "ec.check_source(source_input)\n",
    "\n",
    "t_arr = np.logspace(log10(1./365), log10(source_input['t_age']), 1001)\n",
    "t_ref = 1.\n",
    "nu_arr = np.logspace(-4, 1, 1001)\n",
    "\n",
    "_, pars = ap.L_source(t_ref,\n",
    "                      output_pars=True,\n",
    "                      **source_input)\n",
    "print(pars)\n",
    "\n",
    "t, nu = t_arr, 1.\n",
    "fac = ap.nu_factor(nu, source_input['nu_pivot'], source_input['alpha'])\n",
    "\n",
    "Lnu = ap.L_source(t, output_pars=False, **source_input)**fac\n",
    "\n",
    "Snu = ec.Snu_source(t, nu, source_input, output=output)\n",
    "\n",
    "print('%s %s' %(Snu.shape, Lnu.shape))\n",
    "\n",
    "fig_num = int(random()*100)\n",
    "Area = 4.*pi*(source_input['distance']*ct._kpc_over_cm_)**2.\n",
    "\n",
    "plt.figure(fig_num)\n",
    "plt.loglog(t_arr, (Snu*ct._Jy_over_cgs_irrad_)*Area)\n",
    "plt.loglog(t_arr, Lnu, ls='--')\n",
    "plt.ylim(1.e16, 1.e32);\n",
    "plt.axhline(1.e28, c='k', ls=':')\n",
    "\n",
    "fig_num += 1\n",
    "plt.figure(fig_num)\n",
    "plt.loglog(t_arr, Snu)\n",
    "plt.ylim(1.e16 /(Area*ct._Jy_over_cgs_irrad_), 1.e30 /(Area*ct._Jy_over_cgs_irrad_));\n",
    "plt.axhline(1.e28 /(Area*ct._Jy_over_cgs_irrad_), c='k', ls=':')\n",
    "\n",
    "# updating data\n",
    "ec.Snu_source(t_arr, nu_arr, source_input, output=output)\n",
    "'source_t-nu-Snu' in output.keys()"
   ]
  },
  {
   "cell_type": "code",
   "execution_count": 8,
   "metadata": {},
   "outputs": [
    {
     "data": {
      "image/png": "[encoded data removed]",
      "text/plain": [
       "<Figure size 432x288 with 1 Axes>"
      ]
     },
     "metadata": {
      "image/png": {
       "height": 266,
       "width": 384
      },
      "needs_background": "light"
     },
     "output_type": "display_data"
    }
   ],
   "source": [
    "tArr, nuArr, SnuGr = output['source_t-nu-Snu']\n",
    "\n",
    "plt.contourf(log10(tArr), log10(nuArr), log10(SnuGr))\n",
    "plt.xlabel(r'$\\log_{10}(t/year)$');plt.ylabel(r'$\\log_{10}(\\nu/GHz)$');"
   ]
  },
  {
   "cell_type": "code",
   "execution_count": 9,
   "metadata": {},
   "outputs": [],
   "source": [
    "# more tests"
   ]
  },
  {
   "cell_type": "code",
   "execution_count": 10,
   "metadata": {},
   "outputs": [
    {
     "data": {
      "text/plain": [
       "<matplotlib.legend.Legend at 0x7f4f8e946890>"
      ]
     },
     "execution_count": 10,
     "metadata": {},
     "output_type": "execute_result"
    },
    {
     "data": {
      "image/png": "[encoded data removed]",
      "text/plain": [
       "<Figure size 432x288 with 1 Axes>"
      ]
     },
     "metadata": {
      "image/png": {
       "height": 264,
       "width": 389
      },
      "needs_background": "light"
     },
     "output_type": "display_data"
    }
   ],
   "source": [
    "plt.subplots()\n",
    "plt.yscale('log')\n",
    "plt.xscale('log')\n",
    "plt.ylim(1e15, 1e39)\n",
    "plt.xlabel('t [year]')\n",
    "plt.ylabel('L [erg/s/Hz]')\n",
    "\n",
    "\n",
    "longitude = 6.4 #175 #175 #178 #10 #179 # 111.734745\n",
    "latitude = -0.1 # -02.129570\n",
    "D = 1.8 #0.5 #[kpc]\n",
    "alpha = 0.7\n",
    "gamma = ap.gamma_from_alpha(alpha)\n",
    "t_peak = 100.*365  #100 * 365\n",
    "t_trans = t_peak /365\n",
    "t_age = 35000\n",
    "S0 = 310 #Jy\n",
    "L_today = S0 * ct._Jy_over_cgs_irrad_ * 4.*np.pi * (D*ct._kpc_over_cm_)**2\n",
    "ang_size = 1.5e-4 #None #1.5e-4#None #snr_ang_size(D) #1.7e-4 #1e-6 #1e-5 #1e-4 #\n",
    "\n",
    "source_input = {'longitude':longitude,\n",
    "                'latitude':latitude, \n",
    "                'distance':D, \n",
    "                'size':ang_size,\n",
    "                't_age':t_age, \n",
    "                'alpha':alpha,\n",
    "                'nu_pivot':1.,\n",
    "                'gamma':gamma, # Cas A experiment\n",
    "                'model': \"eff\", 'L_today': L_today, 't_peak': t_peak, 't_trans': t_trans,\n",
    "                'force_Omega_disp_compute': True\n",
    "               }\n",
    "\n",
    "t_arr = np.logspace(np.log10(1./365), np.log10(source_input['t_age']))\n",
    "L_arr = ap.L_source(t_arr, **source_input)\n",
    "plt.plot(t_arr, L_arr, label='tpk=trans=100 years')\n",
    "\n",
    "t_peak = 1. \n",
    "t_trans = t_peak /365\n",
    "t_age = 35000-100\n",
    "source_input['t_peak'] = t_peak\n",
    "source_input['t_trans'] = t_trans\n",
    "source_input['t_age'] = t_age\n",
    "t_arr = np.logspace(np.log10(t_peak/365), np.log10(source_input['t_age']))\n",
    "L_arr = ap.L_source(t_arr, **source_input)\n",
    "plt.plot(t_arr, L_arr, 'k--', label='tpk=trans=1 day')\n",
    "\n",
    "\n",
    "# t_peak = 1. \n",
    "# t_trans = t_peak /365\n",
    "# t_age = 35000*(1./(100.*365))\n",
    "# source_input['t_peak'] = t_peak\n",
    "# source_input['t_trans'] = t_trans\n",
    "# source_input['t_age'] = t_age\n",
    "# t_arr = np.logspace(np.log10(t_peak/365), np.log10(source_input['t_age']))\n",
    "# L_arr = ap.L_source(t_arr, **source_input)\n",
    "# plt.plot(t_arr, L_arr, 'r:', label='tpk=trans=1 day, shifted')\n",
    "\n",
    "plt.legend(loc='best')"
   ]
  },
  {
   "cell_type": "markdown",
   "metadata": {},
   "source": [
    "### 1.2 Analytic"
   ]
  },
  {
   "cell_type": "markdown",
   "metadata": {},
   "source": [
    "``astro.py`` also containts analytic formulas for the lightcurve."
   ]
  },
  {
   "cell_type": "code",
   "execution_count": 11,
   "metadata": {},
   "outputs": [
    {
     "name": "stdout",
     "output_type": "stream",
     "text": [
      "Help on function Snu_supp in module astro:\n",
      "\n",
      "Snu_supp(gamma, frac_tpk, frac_tt)\n",
      "    Fractional suppression of spectral irradiance (i.e. S0/S_peak = L0/L_peak).\n",
      "    \n",
      "    Parameters\n",
      "    ----------\n",
      "    gamma : adiabatic index\n",
      "    frac_tpk : ratio of peak day to SNR age\n",
      "    frac_tt : ratio of transition time to SNR age\n",
      "\n"
     ]
    }
   ],
   "source": [
    "help(ap.Snu_supp)"
   ]
  },
  {
   "cell_type": "code",
   "execution_count": 12,
   "metadata": {},
   "outputs": [
    {
     "name": "stdout",
     "output_type": "stream",
     "text": [
      "Help on function ftt in module astro:\n",
      "\n",
      "ftt(gamma, frac_tpk, sup)\n",
      "    Fractional transition time (i.e. t_trans/t_age).\n",
      "    \n",
      "    Parameters\n",
      "    ----------\n",
      "    gamma : adiabatic index\n",
      "    frac_tpk : ratio of peak day to SNR age\n",
      "    sup : spectral irradiance suppression\n",
      "\n"
     ]
    }
   ],
   "source": [
    "help(ap.ftt)"
   ]
  },
  {
   "cell_type": "code",
   "execution_count": 13,
   "metadata": {},
   "outputs": [
    {
     "name": "stdout",
     "output_type": "stream",
     "text": [
      "Help on function dimless_free in module astro:\n",
      "\n",
      "dimless_free(frac_tpk, tau)\n",
      "    Dimensionless free expansion lightcurve.\n",
      "    \n",
      "    Parameters\n",
      "    ----------\n",
      "    frac_tpk : ratio of peak day to SNR age\n",
      "    tau : ratio of time to SNR age\n",
      "\n"
     ]
    }
   ],
   "source": [
    "help(ap.dimless_free)"
   ]
  },
  {
   "cell_type": "code",
   "execution_count": 14,
   "metadata": {},
   "outputs": [
    {
     "name": "stdout",
     "output_type": "stream",
     "text": [
      "Help on function dimless_adiab in module astro:\n",
      "\n",
      "dimless_adiab(gamma, sup, tau)\n",
      "    Dimensionless adiabatic expansion lightcurve.\n",
      "    \n",
      "    Parameters\n",
      "    ----------\n",
      "    gamma : adiabatic index\n",
      "    sup : spectral irradiance suppression\n",
      "    tau : ratio of time to SNR age\n",
      "\n"
     ]
    }
   ],
   "source": [
    "help(ap.dimless_adiab)"
   ]
  },
  {
   "cell_type": "code",
   "execution_count": 15,
   "metadata": {},
   "outputs": [
    {
     "name": "stdout",
     "output_type": "stream",
     "text": [
      "Help on function dimless_lum in module astro:\n",
      "\n",
      "dimless_lum(gamma, frac_tpk, sup, tau)\n",
      "    Dimensionless full lightcurve.\n",
      "    \n",
      "    Parameters\n",
      "    ----------\n",
      "    gamma : adiabatic index\n",
      "    frac_tpk : ratio of peak day to SNR age\n",
      "    sup : spectral irradiance suppression\n",
      "    tau : ratio of time to SNR age\n",
      "\n"
     ]
    }
   ],
   "source": [
    "help(ap.dimless_lum)"
   ]
  },
  {
   "cell_type": "markdown",
   "metadata": {},
   "source": [
    "## 2. Observation"
   ]
  },
  {
   "cell_type": "code",
   "execution_count": 16,
   "metadata": {},
   "outputs": [
    {
     "data": {
      "text/plain": [
       "725.2261352539062"
      ]
     },
     "execution_count": 16,
     "metadata": {},
     "output_type": "execute_result"
    }
   ],
   "source": [
    "# background brightness temperature at 408 MHz\n",
    "ap.bg_408_temp(0., 0.)"
   ]
  },
  {
   "cell_type": "code",
   "execution_count": 17,
   "metadata": {},
   "outputs": [
    {
     "name": "stdout",
     "output_type": "stream",
     "text": [
      "8.47053053656\n",
      "[18.47053054 18.47053054 18.47053054 18.47053054 18.47053054]\n"
     ]
    }
   ],
   "source": [
    "print(ap.T_noise(1., Tr=0.))\n",
    "print(ap.T_noise(1., Tr=10.*np.ones(5)))"
   ]
  },
  {
   "cell_type": "code",
   "execution_count": 18,
   "metadata": {},
   "outputs": [
    {
     "name": "stdout",
     "output_type": "stream",
     "text": [
      "Help on function P_noise in module astro:\n",
      "\n",
      "P_noise(T_noise, delnu, tobs, Omega_obs, Omega_res, nu, correlation_mode)\n",
      "    The power of the noise [eV^2].\n",
      "    \n",
      "    Parameters\n",
      "    ----------\n",
      "    T_noise: the temperature of the noise [K]\n",
      "    delnu: the bandwidth of the detector [GHz]\n",
      "    tobs: the total observation time [hour]\n",
      "    Omega_obs: the observation solid angle [sr]\n",
      "    Omega_res: the resolution solid angle [sr]\n",
      "    correlation_mode: the correlation mode, \"single dish\" or \"interferometry\".\n",
      "\n"
     ]
    }
   ],
   "source": [
    "help(ap.P_noise)"
   ]
  },
  {
   "cell_type": "code",
   "execution_count": 19,
   "metadata": {},
   "outputs": [
    {
     "name": "stdout",
     "output_type": "stream",
     "text": [
      "Help on function P_signal in module astro:\n",
      "\n",
      "P_signal(S, A, eta=0.8, f_Delta=1.0)\n",
      "    The signal power, assuming given bandwidth [eV^2].\n",
      "    \n",
      "    Parameters\n",
      "    ----------\n",
      "    S: the (integrated) flux (irradiance) [eV^4]\n",
      "    A: the area of the detector [m^2]\n",
      "    eta: the detector efficiency (default: 0.8)\n",
      "    f_Delta: the fraction of signal falling withing the bandwidth\n",
      "\n"
     ]
    }
   ],
   "source": [
    "help(ap.P_signal)"
   ]
  },
  {
   "cell_type": "markdown",
   "metadata": {},
   "source": [
    "## 3. Background"
   ]
  },
  {
   "cell_type": "code",
   "execution_count": 20,
   "metadata": {},
   "outputs": [
    {
     "data": {
      "text/plain": [
       "array(74.21290849)"
      ]
     },
     "execution_count": 20,
     "metadata": {},
     "output_type": "execute_result"
    }
   ],
   "source": [
    "ap.bg_408_temp(10, 10, size=1e-2, average=True)"
   ]
  },
  {
   "cell_type": "code",
   "execution_count": 21,
   "metadata": {},
   "outputs": [
    {
     "data": {
      "text/plain": [
       "array([74.21290849])"
      ]
     },
     "execution_count": 21,
     "metadata": {},
     "output_type": "execute_result"
    }
   ],
   "source": [
    "ap.bg_408_temp(10, 10, size=[1e-2], average=True)"
   ]
  },
  {
   "cell_type": "code",
   "execution_count": 22,
   "metadata": {},
   "outputs": [
    {
     "data": {
      "text/plain": [
       "array([74.21290849, 68.2874723 , 67.52623749])"
      ]
     },
     "execution_count": 22,
     "metadata": {},
     "output_type": "execute_result"
    }
   ],
   "source": [
    "ap.bg_408_temp(10, 10, size=[1e-2, 1e-3, 1e-4], average=True)"
   ]
  },
  {
   "cell_type": "code",
   "execution_count": 23,
   "metadata": {},
   "outputs": [
    {
     "name": "stdout",
     "output_type": "stream",
     "text": [
      "Warning: you are setting average flag to False\n"
     ]
    },
    {
     "data": {
      "text/plain": [
       "array([67.48343658, 67.48343658, 67.48343658])"
      ]
     },
     "execution_count": 23,
     "metadata": {},
     "output_type": "execute_result"
    }
   ],
   "source": [
    "ap.bg_408_temp(10, 10, size=[1e-2, 1e-3, 1e-4], average=False)"
   ]
  },
  {
   "cell_type": "markdown",
   "metadata": {},
   "source": [
    "## 4. Optimizing background loading"
   ]
  },
  {
   "cell_type": "code",
   "execution_count": 24,
   "metadata": {},
   "outputs": [
    {
     "name": "stdout",
     "output_type": "stream",
     "text": [
      "NSIDE = 512\n",
      "ORDERING = NESTED in fits file\n",
      "INDXSCHM = IMPLICIT\n",
      "Ordering converted to RING\n",
      "NSIDE = 512\n",
      "ORDERING = NESTED in fits file\n",
      "INDXSCHM = IMPLICIT\n",
      "Ordering converted to RING\n",
      "NSIDE = 512\n",
      "ORDERING = NESTED in fits file\n",
      "INDXSCHM = IMPLICIT\n",
      "Ordering converted to RING\n",
      "NSIDE = 512\n",
      "ORDERING = NESTED in fits file\n",
      "INDXSCHM = IMPLICIT\n",
      "Ordering converted to RING\n",
      "NSIDE = 512\n",
      "ORDERING = NESTED in fits file\n",
      "INDXSCHM = IMPLICIT\n",
      "Ordering converted to RING\n",
      "NSIDE = 512\n",
      "ORDERING = NESTED in fits file\n",
      "INDXSCHM = IMPLICIT\n",
      "Ordering converted to RING\n",
      "NSIDE = 512\n",
      "ORDERING = NESTED in fits file\n",
      "INDXSCHM = IMPLICIT\n",
      "Ordering converted to RING\n",
      "NSIDE = 512\n",
      "ORDERING = NESTED in fits file\n",
      "INDXSCHM = IMPLICIT\n",
      "Ordering converted to RING\n",
      "NSIDE = 512\n",
      "ORDERING = NESTED in fits file\n",
      "INDXSCHM = IMPLICIT\n",
      "Ordering converted to RING\n",
      "NSIDE = 512\n",
      "ORDERING = NESTED in fits file\n",
      "INDXSCHM = IMPLICIT\n",
      "Ordering converted to RING\n",
      "NSIDE = 512\n",
      "ORDERING = NESTED in fits file\n",
      "INDXSCHM = IMPLICIT\n",
      "Ordering converted to RING\n",
      "NSIDE = 512\n",
      "ORDERING = NESTED in fits file\n",
      "INDXSCHM = IMPLICIT\n",
      "Ordering converted to RING\n",
      "NSIDE = 512\n",
      "ORDERING = NESTED in fits file\n",
      "INDXSCHM = IMPLICIT\n",
      "Ordering converted to RING\n",
      "NSIDE = 512\n",
      "ORDERING = NESTED in fits file\n",
      "INDXSCHM = IMPLICIT\n",
      "Ordering converted to RING\n",
      "NSIDE = 512\n",
      "ORDERING = NESTED in fits file\n",
      "INDXSCHM = IMPLICIT\n",
      "Ordering converted to RING\n",
      "NSIDE = 512\n",
      "ORDERING = NESTED in fits file\n",
      "INDXSCHM = IMPLICIT\n",
      "Ordering converted to RING\n",
      "NSIDE = 512\n",
      "ORDERING = NESTED in fits file\n",
      "INDXSCHM = IMPLICIT\n",
      "Ordering converted to RING\n",
      "NSIDE = 512\n",
      "ORDERING = NESTED in fits file\n",
      "INDXSCHM = IMPLICIT\n",
      "Ordering converted to RING\n",
      "NSIDE = 512\n",
      "ORDERING = NESTED in fits file\n",
      "INDXSCHM = IMPLICIT\n",
      "Ordering converted to RING\n",
      "NSIDE = 512\n",
      "ORDERING = NESTED in fits file\n",
      "INDXSCHM = IMPLICIT\n",
      "Ordering converted to RING\n",
      "NSIDE = 512\n",
      "ORDERING = NESTED in fits file\n",
      "INDXSCHM = IMPLICIT\n",
      "Ordering converted to RING\n",
      "NSIDE = 512\n",
      "ORDERING = NESTED in fits file\n",
      "INDXSCHM = IMPLICIT\n",
      "Ordering converted to RING\n",
      "NSIDE = 512\n",
      "ORDERING = NESTED in fits file\n",
      "INDXSCHM = IMPLICIT\n",
      "Ordering converted to RING\n",
      "NSIDE = 512\n",
      "ORDERING = NESTED in fits file\n",
      "INDXSCHM = IMPLICIT\n",
      "Ordering converted to RING\n",
      "NSIDE = 512\n",
      "ORDERING = NESTED in fits file\n",
      "INDXSCHM = IMPLICIT\n",
      "Ordering converted to RING\n",
      "NSIDE = 512\n",
      "ORDERING = NESTED in fits file\n",
      "INDXSCHM = IMPLICIT\n",
      "Ordering converted to RING\n",
      "NSIDE = 512\n",
      "ORDERING = NESTED in fits file\n",
      "INDXSCHM = IMPLICIT\n",
      "Ordering converted to RING\n",
      "NSIDE = 512\n",
      "ORDERING = NESTED in fits file\n",
      "INDXSCHM = IMPLICIT\n",
      "Ordering converted to RING\n",
      "NSIDE = 512\n",
      "ORDERING = NESTED in fits file\n",
      "INDXSCHM = IMPLICIT\n",
      "Ordering converted to RING\n",
      "NSIDE = 512\n",
      "ORDERING = NESTED in fits file\n",
      "INDXSCHM = IMPLICIT\n",
      "Ordering converted to RING\n",
      "NSIDE = 512\n",
      "ORDERING = NESTED in fits file\n",
      "INDXSCHM = IMPLICIT\n",
      "Ordering converted to RING\n",
      "NSIDE = 512\n",
      "ORDERING = NESTED in fits file\n",
      "INDXSCHM = IMPLICIT\n",
      "Ordering converted to RING\n",
      "NSIDE = 512\n",
      "ORDERING = NESTED in fits file\n",
      "INDXSCHM = IMPLICIT\n",
      "Ordering converted to RING\n",
      "NSIDE = 512\n",
      "ORDERING = NESTED in fits file\n",
      "INDXSCHM = IMPLICIT\n",
      "Ordering converted to RING\n",
      "NSIDE = 512\n",
      "ORDERING = NESTED in fits file\n",
      "INDXSCHM = IMPLICIT\n",
      "Ordering converted to RING\n",
      "NSIDE = 512\n",
      "ORDERING = NESTED in fits file\n",
      "INDXSCHM = IMPLICIT\n",
      "Ordering converted to RING\n",
      "NSIDE = 512\n",
      "ORDERING = NESTED in fits file\n",
      "INDXSCHM = IMPLICIT\n",
      "Ordering converted to RING\n",
      "NSIDE = 512\n",
      "ORDERING = NESTED in fits file\n",
      "INDXSCHM = IMPLICIT\n",
      "Ordering converted to RING\n",
      "NSIDE = 512\n",
      "ORDERING = NESTED in fits file\n",
      "INDXSCHM = IMPLICIT\n",
      "Ordering converted to RING\n",
      "NSIDE = 512\n",
      "ORDERING = NESTED in fits file\n",
      "INDXSCHM = IMPLICIT\n",
      "Ordering converted to RING\n",
      "NSIDE = 512\n",
      "ORDERING = NESTED in fits file\n",
      "INDXSCHM = IMPLICIT\n",
      "Ordering converted to RING\n",
      "10 loops, best of 3: 113 ms per loop\n"
     ]
    }
   ],
   "source": [
    "%timeit ap.bg_408_temp(l=10,b=10,size=[1e-4,1e-2,1e-3,1e-2], average=True, load_on_the_fly=True, verbose=False)"
   ]
  },
  {
   "cell_type": "code",
   "execution_count": 25,
   "metadata": {},
   "outputs": [
    {
     "name": "stdout",
     "output_type": "stream",
     "text": [
      "100 loops, best of 3: 7.98 ms per loop\n"
     ]
    }
   ],
   "source": [
    "%timeit ap.bg_408_temp(l=10,b=10,size=[1e-4,1e-2,1e-3,1e-2], average=True)"
   ]
  },
  {
   "cell_type": "markdown",
   "metadata": {},
   "source": [
    "## 5. Check Haslem map angular resolution"
   ]
  },
  {
   "cell_type": "code",
   "execution_count": 26,
   "metadata": {},
   "outputs": [
    {
     "data": {
      "text/latex": [
       "$6.8709728 \\; \\mathrm{{}^{\\prime}}$"
      ],
      "text/plain": [
       "<Quantity 6.87097282 arcmin>"
      ]
     },
     "execution_count": 26,
     "metadata": {},
     "output_type": "execute_result"
    }
   ],
   "source": [
    "import astropy_healpix\n",
    "astropy_healpix.nside_to_pixel_resolution(nside=512)"
   ]
  },
  {
   "cell_type": "code",
   "execution_count": 27,
   "metadata": {},
   "outputs": [
    {
     "data": {
      "text/plain": [
       "0.002007128639793479"
      ]
     },
     "execution_count": 27,
     "metadata": {},
     "output_type": "execute_result"
    }
   ],
   "source": [
    "6.9/60/180*np.pi"
   ]
  },
  {
   "cell_type": "markdown",
   "metadata": {},
   "source": [
    "## 6. Noise for different SKA modes"
   ]
  },
  {
   "cell_type": "code",
   "execution_count": 28,
   "metadata": {},
   "outputs": [
    {
     "data": {
      "text/plain": [
       "2.3972700942468044e-16"
      ]
     },
     "execution_count": 28,
     "metadata": {},
     "output_type": "execute_result"
    }
   ],
   "source": [
    "ap.P_noise(T_noise=100, \n",
    "           delnu=0.05e-3, \n",
    "           tobs=100, \n",
    "           Omega_obs=1.5e-4, \n",
    "           Omega_res=1e-3, \n",
    "           nu=0.05, \n",
    "           correlation_mode=\"single dish\")"
   ]
  },
  {
   "cell_type": "code",
   "execution_count": 32,
   "metadata": {},
   "outputs": [
    {
     "data": {
      "text/plain": [
       "array(1.40083611e-12)"
      ]
     },
     "execution_count": 32,
     "metadata": {},
     "output_type": "execute_result"
    }
   ],
   "source": [
    "ap.P_noise(T_noise=100, \n",
    "           delnu=0.05e-3, \n",
    "           tobs=100, \n",
    "           Omega_obs=1.5e-4, \n",
    "           Omega_res=None,\n",
    "           nu=0.05, \n",
    "           correlation_mode=\"interferometry\")"
   ]
  }
 ],
 "metadata": {
  "kernelspec": {
   "display_name": "Python 2",
   "language": "python",
   "name": "python2"
  },
  "language_info": {
   "codemirror_mode": {
    "name": "ipython",
    "version": 2
   },
   "file_extension": ".py",
   "mimetype": "text/x-python",
   "name": "python",
   "nbconvert_exporter": "python",
   "pygments_lexer": "ipython2",
   "version": "2.7.16"
  },
  "nteract": {
   "version": "0.28.0"
  }
 },
 "nbformat": 4,
 "nbformat_minor": 4
}
