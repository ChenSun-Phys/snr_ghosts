{
 "cells": [
  {
   "cell_type": "markdown",
   "metadata": {},
   "source": [
    "# Workspace \\#5: ``routines.py``"
   ]
  },
  {
   "cell_type": "code",
   "execution_count": 1,
   "metadata": {},
   "outputs": [],
   "source": [
    "# %load firstcell.py\n",
    "# autoreloading for imported modules\n",
    "%load_ext autoreload\n",
    "%autoreload 2\n",
    "\n",
    "# getting future division\n",
    "from __future__ import division\n",
    "\n",
    "# numpy\n",
    "import numpy as np\n",
    "from numpy import pi, sqrt, log, log10, power, exp\n",
    "\n",
    "#scipy\n",
    "from scipy.interpolate import interp1d\n",
    "\n",
    "# matplotlib\n",
    "import matplotlib.pyplot as plt\n",
    "from matplotlib import rcParams\n",
    "from matplotlib import rc\n",
    "from matplotlib.lines import Line2D\n",
    "\n",
    "# other\n",
    "import os\n",
    "from tqdm import tqdm\n",
    "\n",
    "# matplotlib style\n",
    "%matplotlib inline\n",
    "\n",
    "%config InlineBackend.figure_format = \"retina\"\n",
    "rcParams['figure.figsize'] = (13, 8)\n",
    "rcParams['font.family'] = 'serif'\n",
    "rcParams['font.serif'] = ['New Times Roman']\n",
    "rc('text', usetex=True)\n",
    "\n",
    "# current directory\n",
    "current_dir = os.getcwd()"
   ]
  },
  {
   "cell_type": "code",
   "execution_count": 2,
   "metadata": {},
   "outputs": [],
   "source": [
    "from random import random\n",
    "\n",
    "import sys\n",
    "sys.path.insert(0, '../')\n",
    "\n",
    "import constants as ct\n",
    "import particle as pt\n",
    "import astro as ap\n",
    "import echo as ec\n",
    "import routines as rt"
   ]
  },
  {
   "cell_type": "code",
   "execution_count": 3,
   "metadata": {},
   "outputs": [
    {
     "data": {
      "text/plain": [
       "['SKA_rescaled_specs',\n",
       " 'Snu_rescale_axion',\n",
       " '__builtins__',\n",
       " '__cached__',\n",
       " '__doc__',\n",
       " '__file__',\n",
       " '__loader__',\n",
       " '__name__',\n",
       " '__package__',\n",
       " '__spec__',\n",
       " 'ap',\n",
       " 'ax_in',\n",
       " 'ct',\n",
       " 'def_A',\n",
       " 'def_D',\n",
       " 'def_L0',\n",
       " 'def_S0',\n",
       " 'def_alpha',\n",
       " 'def_b',\n",
       " 'def_l',\n",
       " 'def_nu_pivot',\n",
       " 'def_solid',\n",
       " 'def_t0',\n",
       " 'def_tmin',\n",
       " 'def_tpk',\n",
       " 'def_tt',\n",
       " 'default_Snu_echo_kwargs',\n",
       " 'default_data',\n",
       " 'default_source_input',\n",
       " 'division',\n",
       " 'ec',\n",
       " 'exp',\n",
       " 'fixed_axion_routine',\n",
       " 'full_routine',\n",
       " 'log',\n",
       " 'log10',\n",
       " 'np',\n",
       " 'pi',\n",
       " 'power',\n",
       " 'pt',\n",
       " 'rescale_routine',\n",
       " 'sqrt',\n",
       " 'trapz']"
      ]
     },
     "execution_count": 3,
     "metadata": {},
     "output_type": "execute_result"
    }
   ],
   "source": [
    "# The contents of routines.py\n",
    "dir(rt)"
   ]
  },
  {
   "cell_type": "code",
   "execution_count": 4,
   "metadata": {},
   "outputs": [
    {
     "data": {
      "text/plain": [
       "0.19245008972987523"
      ]
     },
     "execution_count": 4,
     "metadata": {},
     "output_type": "execute_result"
    }
   ],
   "source": [
    "# rescale factor for spectral irradiance:\n",
    "rt.Snu_rescale_axion(3.e-6, 1.e-10, 1.e-6, 1.e-10)"
   ]
  },
  {
   "cell_type": "code",
   "execution_count": 5,
   "metadata": {},
   "outputs": [
    {
     "data": {
      "text/plain": [
       "(8.27133561166016e-06,\n",
       " 1e-10,\n",
       " {'source_t-nu-Snu': (array([1.00000000e-04, 1.00345985e-04, 1.00693167e-04, ...,\n",
       "          9.93116048e+10, 9.96552080e+10, 1.00000000e+11]),\n",
       "   1.0,\n",
       "   array([0.00000000e+00, 0.00000000e+00, 0.00000000e+00, ...,\n",
       "          1.60250724e-13, 1.59367588e-13, 1.58489319e-13])),\n",
       "  'echo_Snu': 8.462336769267926e-09,\n",
       "  'signal_nu': 1.0,\n",
       "  'signal_delnu': 0.001,\n",
       "  'signal_Omega': 1e-06,\n",
       "  'signal_Snu': 8.462336769267926e-09,\n",
       "  'signal_S_echo': 1.3536882890405862e-38,\n",
       "  'signal_power': 2.005261243400817e-19,\n",
       "  'noise_nu': 1.0,\n",
       "  'noise_delnu': 0.001,\n",
       "  'noise_Omega_res': 7.209937878656228e-08,\n",
       "  'noise_Omega_obs': 1e-06,\n",
       "  'noise_T408': 38.776005,\n",
       "  'noise_Tnu': 29.66777100881154,\n",
       "  'noise_power': 5.2363230695025524e-17,\n",
       "  'S/N': 0.0038295216257374963})"
      ]
     },
     "execution_count": 5,
     "metadata": {},
     "output_type": "execute_result"
    }
   ],
   "source": [
    "# echo computation at fixed axion properties\n",
    "test_out = {}\n",
    "rt.fixed_axion_routine(1.e-10, test_out)"
   ]
  },
  {
   "cell_type": "code",
   "execution_count": 21,
   "metadata": {},
   "outputs": [
    {
     "name": "stdout",
     "output_type": "stream",
     "text": [
      "dict_keys(['source_t-nu-Snu', 'echo_Snu', 'signal_nu', 'signal_delnu', 'signal_Omega', 'signal_Snu', 'signal_S_echo', 'signal_power', 'noise_nu', 'noise_delnu', 'noise_Omega_res', 'noise_Omega_obs', 'noise_T408', 'noise_Tnu', 'noise_power', 'S/N'])\n",
      "dict_keys(['echo_Snu', 'signal_nu', 'signal_delnu', 'signal_Omega', 'signal_Snu', 'signal_S_echo', 'signal_power', 'noise_nu', 'noise_delnu', 'noise_Omega_res', 'noise_Omega_obs', 'noise_T408', 'noise_Tnu', 'noise_power', 'S/N', 'ma', 'ga'])\n"
     ]
    }
   ],
   "source": [
    "# full routine for an array of axion masses:\n",
    "test_out = {}\n",
    "\n",
    "new_out = rt.full_routine(np.logspace(-7, -3), 1.e-9, 1.e-10, test_out)\n",
    "\n",
    "print(test_out.keys())\n",
    "print(new_out.keys())"
   ]
  },
  {
   "cell_type": "code",
   "execution_count": 47,
   "metadata": {},
   "outputs": [
    {
     "name": "stdout",
     "output_type": "stream",
     "text": [
      "{'source_t-nu-Snu': (array([1.00000000e-04, 1.00345985e-04, 1.00693167e-04, ...,\n",
      "       9.93116048e+10, 9.96552080e+10, 1.00000000e+11]), 1.0, array([0.00000000e+00, 0.00000000e+00, 0.00000000e+00, ...,\n",
      "       1.60250724e-13, 1.59367588e-13, 1.58489319e-13])), 'echo_Snu': 8.462336769267926e-09, 'signal_nu': 1.0, 'signal_delnu': 0.001, 'signal_Omega': 1e-06, 'signal_Snu': 8.462336769267926e-09, 'signal_S_echo': 1.3536882890405862e-38, 'signal_power': 2.005261243400817e-19, 'noise_nu': 1.0, 'noise_delnu': 0.001, 'noise_Omega_res': 7.209937878656228e-08, 'noise_Omega_obs': 1e-06, 'noise_T408': array(38.776005, dtype=float32), 'noise_Tnu': 29.66777100881154, 'noise_power': 5.2363230695025524e-17, 'S/N': 0.0038295216257374963}\n"
     ]
    }
   ],
   "source": [
    "print(test_out)"
   ]
  },
  {
   "cell_type": "markdown",
   "metadata": {},
   "source": [
    "Comparing ``routines.py`` with the pedestrian ``echo.py`` method:"
   ]
  },
  {
   "cell_type": "code",
   "execution_count": 49,
   "metadata": {},
   "outputs": [
    {
     "name": "stdout",
     "output_type": "stream",
     "text": [
      "original output (computing by hand w/ echo.py only):\n",
      " {'source_t-nu-Snu': (array([1.00000000e-04, 1.00345985e-04, 1.00693167e-04, ...,\n",
      "       9.93116048e+10, 9.96552080e+10, 1.00000000e+11]), 1.2089945892055125, array([0.00000000e+00, 0.00000000e+00, 0.00000000e+00, ...,\n",
      "       1.45743039e-13, 1.44939855e-13, 1.44141096e-13])), 'echo_Snu': 6.365811417620257e-07, 'signal_nu': 1.2089945892055125, 'signal_delnu': 0.0012089945892055126, 'signal_Omega': 1e-06, 'signal_Snu': 6.365811417620257e-07, 'signal_S_echo': 1.2311373106880787e-36, 'signal_power': 1.8237226061674945e-17, 'noise_nu': 1.2089945892055125, 'noise_delnu': 0.0012089945892055126, 'noise_Omega_res': 4.93267847087994e-08, 'noise_Omega_obs': 1e-06, 'noise_T408': array(38.776005, dtype=float32), 'noise_Tnu': 28.155265523086356, 'noise_power': 6.605986458203018e-17, 'S/N': 0.27607119961665644}\n",
      "\n",
      "using routines.py:\n",
      "pivot values output:\n",
      " {'source_t-nu-Snu': (array([1.00000000e-04, 1.00345985e-04, 1.00693167e-04, ...,\n",
      "       9.93116048e+10, 9.96552080e+10, 1.00000000e+11]), 1.0, array([0.00000000e+00, 0.00000000e+00, 0.00000000e+00, ...,\n",
      "       1.60250724e-13, 1.59367588e-13, 1.58489319e-13])), 'echo_Snu': 8.462336769267926e-09, 'signal_nu': 1.0, 'signal_delnu': 0.001, 'signal_Omega': 1e-06, 'signal_Snu': 8.462336769267926e-09, 'signal_S_echo': 1.3536882890405862e-38, 'signal_power': 2.005261243400817e-19, 'noise_nu': 1.0, 'noise_delnu': 0.001, 'noise_Omega_res': 7.209937878656228e-08, 'noise_Omega_obs': 1e-06, 'noise_T408': array(38.776005, dtype=float32), 'noise_Tnu': 29.66777100881154, 'noise_power': 5.2363230695025524e-17, 'S/N': 0.0038295216257374963}\n",
      "\n",
      "new output (w/ routines.py):\n",
      " {'echo_Snu': 6.365811417620257e-07, 'signal_nu': 1.2089945892055125, 'signal_delnu': 0.0012089945892055126, 'signal_Omega': 1e-06, 'signal_Snu': 6.365811417620257e-07, 'signal_S_echo': 1.2311373106880783e-36, 'signal_power': 1.8237226061674945e-17, 'noise_nu': 1.2089945892055125, 'noise_delnu': 0.0012089945892055126, 'noise_Omega_res': array(4.93267847e-08), 'noise_Omega_obs': 1e-06, 'noise_T408': array(725.22614, dtype=float32), 'noise_Tnu': 71.16931169145859, 'noise_power': 1.6698244557058202e-16, 'S/N': 0.10921642690857722, 'ma': 1e-05, 'ga': 1e-09}\n",
      "\n",
      "\n",
      "Do they match?: False\n",
      " ratio: [1.0, 1.0, 1.0, 1.0, 1.0, 1.0000000000000002, 1.0, 1.0, 1.0, 1.0, 1.0, 0.053467467, 0.39560963642796365, 0.39560963642796365, 2.527744291138089]\n"
     ]
    }
   ],
   "source": [
    "ma_new, ga_new = 1.e-5, 1.e-9\n",
    "ga_ref = 1.e-10\n",
    "nu_ma = pt.nu_from_ma(ma_new)\n",
    "\n",
    "ori_out = {}\n",
    "\n",
    "ec.Snu_source(ap.t_arr_default, nu_ma, rt.default_source_input, output=ori_out)\n",
    "ec.Snu_echo(rt.default_source_input, rt.ax_in(ma_new, ga_new), rt.default_data,\n",
    "            recycle_output=(True, ori_out),\n",
    "            **rt.default_Snu_echo_kwargs)\n",
    "ec.signal(rt.default_source_input, rt.ax_in(ma_new, ga_new), rt.default_data,\n",
    "          recycle_output=(True, ori_out),\n",
    "          **rt.default_Snu_echo_kwargs)\n",
    "ec.noise(rt.default_source_input, rt.ax_in(ma_new, ga_new), rt.default_data,\n",
    "         recycle_output=(True, ori_out))\n",
    "ec.sn_ratio(ori_out['signal_power'], ori_out['noise_power'], output=ori_out)\n",
    "\n",
    "print('original output (computing by hand w/ echo.py only):\\n', ori_out)\n",
    "\n",
    "routine_out = {}\n",
    "new_out = rt.full_routine(ma_new, ga_new, ga_ref, routine_out)\n",
    "print('\\nusing routines.py:\\npivot values output:\\n', routine_out)\n",
    "print('\\nnew output (w/ routines.py):\\n', new_out)\n",
    "\n",
    "compare = [ori_out[key]/new_out[key] for key in new_out.keys() if key in ori_out.keys()]\n",
    "answer = bool(int(np.product(compare)))\n",
    "\n",
    "print('\\n\\nDo they match?: {}\\n'.format(answer), 'ratio:', compare)"
   ]
  },
  {
   "cell_type": "markdown",
   "metadata": {},
   "source": [
    "### $(m_a, g_{a\\gamma\\gamma})$ constraints"
   ]
  },
  {
   "cell_type": "code",
   "execution_count": 50,
   "metadata": {},
   "outputs": [],
   "source": [
    "# Cassiopeia A again:\n",
    "D = 3.4 # [kpc] Cas A\n",
    "A = 4.*pi*(D*ct._kpc_over_cm_)**2. # [cm^2] area\n",
    "SnuCasA = 2723. # [Jy] Cas A\n",
    "LumCasA = (SnuCasA*ct._Jy_over_cgs_irrad_)*A # [erg * s^-1 * Hz^-1] spectral luminosity\n",
    "\n",
    "source_input = {'longitude':111.734745, # Cas A\n",
    "                'latitude':-02.129570, # Cas A\n",
    "                'distance':D, # Cas A\n",
    "                'size':ct._casA_solid_angle_,\n",
    "                't_age':340., # Cas A\n",
    "                'alpha':0.77,\n",
    "                'nu_pivot':1.,\n",
    "                'gamma':2.032, # Cas A experiment\n",
    "#                 'gamma':(2.032 * 1.3/0.7), # a detected 1.3% decay rather than 0.7%\n",
    "#                 'model':'eff', 'L_today':LumCasA, 'L_peak':1.e30,\n",
    "                'model':'eff', 'L_today':LumCasA, 't_trans':10.,\n",
    "                't_peak':100.\n",
    "               }\n",
    "\n",
    "ma_ref, ga_ref = pt.ma_from_nu(source_input['nu_pivot']), 1.e-10\n",
    "axion_input = rt.ax_in(ma_ref, ga_ref)\n",
    "\n",
    "data = {'deltaE_over_E':1.e-3,\n",
    "        'f_Delta':0.721,\n",
    "        'exper':'SKA',\n",
    "        'total_observing_time':100.,\n",
    "        'average':True,\n",
    "        'verbose':0\n",
    "       }\n",
    "\n",
    "t_peak = source_input['t_peak']\n",
    "t_age = source_input['t_age']\n",
    "\n",
    "Snu_echo_kwargs = {'tmin_default':None,\n",
    "                   'Nt':10001,\n",
    "                   'xmin':ct._au_over_kpc_,\n",
    "                   'xmax_default':100.,\n",
    "                   'use_quad':False,\n",
    "                   'lin_space':False,\n",
    "                   'Nint':int(30*(t_age)+1),\n",
    "                   't_extra_old':0.}"
   ]
  },
  {
   "cell_type": "code",
   "execution_count": 51,
   "metadata": {},
   "outputs": [
    {
     "name": "stderr",
     "output_type": "stream",
     "text": [
      "/home/chen/Code/axion_laser/github/workspace_notebooks/../astro.py:887: RuntimeWarning: divide by zero encountered in true_divide\n",
      "  \n"
     ]
    }
   ],
   "source": [
    "Nma = 101\n",
    "nulow = np.logspace(log10(ct._nu_min_ska_low_), log10(ct._nu_max_ska_low_), Nma//2)\n",
    "numid = np.logspace(log10(ct._nu_min_ska_mid_), log10(ct._nu_max_ska_mid_), Nma - Nma//2)\n",
    "\n",
    "ma_new = pt.ma_from_nu(np.concatenate((nulow, numid)))\n",
    "ga_new = ga_ref\n",
    "\n",
    "routine_out = {}\n",
    "bounds_out = rt.full_routine(ma_new, ga_new, ga_ref, routine_out,\n",
    "                             source_input=source_input,\n",
    "                             data=data,\n",
    "                             Snu_echo_kwargs=Snu_echo_kwargs)"
   ]
  },
  {
   "cell_type": "code",
   "execution_count": 55,
   "metadata": {},
   "outputs": [
    {
     "name": "stdout",
     "output_type": "stream",
     "text": [
      "419000.0 419000.0 1000000.0\n",
      "1.0 1.0 1.0\n",
      "40.0 40.0 20.0\n",
      "1.4046929321368749e-06 1.4046929321368749e-06 5.058914316442196e-07\n"
     ]
    }
   ],
   "source": [
    "area, window, Tr, Omega_res = rt.SKA_rescaled_specs(ma_new, ma_ref, data=data)\n",
    "print('%s %s %s' %(area[Nma//2 -1], area[Nma//2], area[Nma//2 +1]))\n",
    "print('%s %s %s' %(window[Nma//2 -1], window[Nma//2], window[Nma//2 +1]))\n",
    "print('%s %s %s' %(Tr[Nma//2 -1], Tr[Nma//2], Tr[Nma//2 +1]))\n",
    "print('%s %s %s' %(Omega_res[Nma//2 -1], Omega_res[Nma//2], Omega_res[Nma//2 +1]))"
   ]
  },
  {
   "cell_type": "code",
   "execution_count": 56,
   "metadata": {},
   "outputs": [
    {
     "data": {
      "text/plain": [
       "array([0., 1., 1., 1., 1., 1., 1., 1., 1., 1., 1., 1., 1., 1., 1., 1., 1.,\n",
       "       1., 1., 1., 1., 1., 1., 1., 1., 1., 1., 1., 1., 1., 1., 1., 1., 1.,\n",
       "       1., 1., 1., 1., 1., 1., 1., 1., 1., 1., 1., 1., 1., 1., 1., 1., 1.,\n",
       "       1., 1., 1., 1., 1., 1., 1., 1., 1., 1., 1., 1., 1., 1., 1., 1., 1.,\n",
       "       1., 1., 1., 1., 1., 1., 1., 1., 1., 1., 1., 1., 1., 1., 1., 1., 1.,\n",
       "       1., 1., 1., 1., 1., 1., 1., 1., 1., 1., 1., 1., 1., 1., 1., 1.])"
      ]
     },
     "execution_count": 56,
     "metadata": {},
     "output_type": "execute_result"
    }
   ],
   "source": [
    "window"
   ]
  },
  {
   "cell_type": "code",
   "execution_count": 57,
   "metadata": {},
   "outputs": [
    {
     "name": "stderr",
     "output_type": "stream",
     "text": [
      "/home/chen/Code/axion_laser/github/workspace_notebooks/../echo.py:1142: RuntimeWarning: divide by zero encountered in true_divide\n",
      "  return ga_ref * sqrt(sn_val/sn_ref)\n"
     ]
    },
    {
     "data": {
      "image/png": "[encoded data removed]",
      "text/plain": [
       "<Figure size 936x576 with 1 Axes>"
      ]
     },
     "metadata": {
      "image/png": {
       "height": 468,
       "width": 770
      },
      "needs_background": "light"
     },
     "output_type": "display_data"
    }
   ],
   "source": [
    "ghosh = np.loadtxt(\"../data/cygA_bounds.csv\", delimiter=\",\")\n",
    "\n",
    "z_val = 2.\n",
    "ga_reach = ec.ga_reach(z_val, bounds_out['S/N'], bounds_out['ga'])\n",
    "ma_ga = np.vstack((ma_new, ga_reach)).T\n",
    "\n",
    "plt.axhline(6.e-11, color='k', ls=':')\n",
    "plt.plot(ghosh[:,0], ghosh[:,1]*sqrt(z_val), color='C1', ls='--')\n",
    "plt.loglog(ma_ga[:,0], ma_ga[:,1])\n",
    "# plt.axvline(ma_ref, color='k', ls=':')\n",
    "\n",
    "plt.xscale(\"log\");plt.yscale(\"log\");\n",
    "plt.ylim(1.e-13, 1.e-8);"
   ]
  },
  {
   "cell_type": "code",
   "execution_count": null,
   "metadata": {},
   "outputs": [],
   "source": []
  }
 ],
 "metadata": {
  "kernelspec": {
   "display_name": "Python 3",
   "language": "python",
   "name": "python3"
  },
  "language_info": {
   "codemirror_mode": {
    "name": "ipython",
    "version": 3
   },
   "file_extension": ".py",
   "mimetype": "text/x-python",
   "name": "python",
   "nbconvert_exporter": "python",
   "pygments_lexer": "ipython3",
   "version": "3.8.11"
  },
  "nteract": {
   "version": "0.28.0"
  }
 },
 "nbformat": 4,
 "nbformat_minor": 2
}
