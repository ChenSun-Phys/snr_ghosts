{
  "cells": [
    {
      "cell_type": "markdown",
      "source": [
        "# Workspace \\#7: ``model.py``"
      ],
      "metadata": {}
    },
    {
      "cell_type": "code",
      "source": [
        "# %load firstcell.py\n",
        "# autoreloading for imported modules\n",
        "%load_ext autoreload\n",
        "%autoreload 2\n",
        "\n",
        "# getting future division\n",
        "from __future__ import division\n",
        "\n",
        "# numpy\n",
        "import numpy as np\n",
        "from numpy import pi, sqrt, log, log10, power, exp\n",
        "\n",
        "#scipy\n",
        "from scipy.interpolate import interp1d\n",
        "\n",
        "# matplotlib\n",
        "import matplotlib.pyplot as plt\n",
        "from matplotlib import rcParams\n",
        "from matplotlib import rc\n",
        "from matplotlib.lines import Line2D\n",
        "\n",
        "# other\n",
        "import os\n",
        "from tqdm import tqdm\n",
        "\n",
        "# matplotlib style\n",
        "%matplotlib inline\n",
        "\n",
        "%config InlineBackend.figure_format = \"retina\"\n",
        "rcParams['figure.figsize'] = (13, 8)\n",
        "rcParams['font.family'] = 'serif'\n",
        "rcParams['font.serif'] = ['New Times Roman']\n",
        "rc('text', usetex=True)\n",
        "\n",
        "# current directory\n",
        "current_dir = os.getcwd()"
      ],
      "outputs": [],
      "execution_count": 1,
      "metadata": {}
    },
    {
      "cell_type": "code",
      "source": [
        "from random import random\n",
        "\n",
        "import sys\n",
        "sys.path.insert(0, '../')\n",
        "\n",
        "import constants as ct\n",
        "import particle as pt\n",
        "import astro as ap\n",
        "import echo as ec\n",
        "import routines as rt\n",
        "import data as dt\n",
        "import model as md"
      ],
      "outputs": [
        {
          "output_type": "stream",
          "name": "stderr",
          "text": [
            "/home/buenabad/anaconda2/lib/python2.7/site-packages/healpy/fitsfunc.py:352: UserWarning: If you are not specifying the input dtype and using the default np.float64 dtype of read_map(), please consider that it will change in a future version to None as to keep the same dtype of the input file: please explicitly set the dtype if it is important to you.\n",
            "  \"If you are not specifying the input dtype and using the default \"\n",
            "/home/buenabad/anaconda2/lib/python2.7/site-packages/healpy/fitsfunc.py:403: UserWarning: No INDXSCHM keyword in header file : assume IMPLICIT\n",
            "  warnings.warn(\"No INDXSCHM keyword in header file : \" \"assume {}\".format(schm))\n"
          ]
        }
      ],
      "execution_count": 2,
      "metadata": {}
    },
    {
      "cell_type": "code",
      "source": [
        "# The contents of model.py\n",
        "dir(md)"
      ],
      "outputs": [
        {
          "output_type": "execute_result",
          "execution_count": 3,
          "data": {
            "text/plain": "['__builtins__',\n '__doc__',\n '__file__',\n '__name__',\n '__package__',\n 'ap',\n 'ct',\n 'ec',\n 'np',\n 'pt',\n 'rt',\n 'snr_routine']"
          },
          "metadata": {}
        }
      ],
      "execution_count": 3,
      "metadata": {}
    },
    {
      "cell_type": "code",
      "source": [
        "# defining a test SNR\n",
        "test_snr = dt.SuperNovaRemnant()\n",
        "test_snr.__dict__ = {\n",
        "    'Lpk': 10**(25.5+1.6*2),\n",
        "    'age': 1.e4,\n",
        "    'alpha': 0.5,\n",
        "    'ang_size': None,\n",
        "    'b': 0.,\n",
        "    'distance': 0.1,\n",
        "    'is_complete': False,\n",
        "    'is_flux_certain': False,\n",
        "    'is_spectral_certain': False,\n",
        "    'is_type_certain': True,\n",
        "    #'l': 178.,\n",
        "    'l': 2.,\n",
        "    'name': 'test',\n",
        "    'no_dist': False,\n",
        "    'no_flux': False,\n",
        " #'snu_at_1GHz': 160.0,\n",
        " #'snu_at_1GHz': 50,\n",
        "    'sr': 1e-05,\n",
        "    'tpk': 10**1.7,\n",
        "    'type': 'S'}"
      ],
      "outputs": [],
      "execution_count": 8,
      "metadata": {}
    },
    {
      "cell_type": "code",
      "source": [
        "# t_extra_old = 5.e4\n",
        "t_extra_arr = [0., 2000., 1.e4, 5.e4]\n",
        "t_age = None #set in snr.__dict__\n",
        "t_trans_over_t_peak = 30.\n",
        "ma_arr = np.logspace(np.log10(3e-6), np.log10(2e-4), 10)\n",
        "sig_noi_thres = 2.\n",
        "ga_ref = 1.e-10 # doesn't matter, will be rescaled\n",
        "\n",
        "counter = 0\n",
        "best_snr = None\n",
        "best_ga = 1.# at first ma point\n",
        "\n",
        "plt.subplots()\n",
        "#for _, snr in tqdm(snrs_dct.items(), total=len(snrs_dct.keys())):\n",
        "\n",
        "for idx, t_extra_old in enumerate(t_extra_arr):\n",
        "    color = 'C'+str(idx)\n",
        "    for snr in [test_snr]:\n",
        "        \n",
        "        try:\n",
        "            distance = snr.get_distance()\n",
        "\n",
        "        except:\n",
        "            continue\n",
        "        \n",
        "        L_peak = snr.Lpk\n",
        "        t_peak = snr.tpk\n",
        "        \n",
        "        tage = snr.age\n",
        "        snu_echo_kwargs = {'tmin_default':None,\n",
        "                           'Nt':int(30*tage + 1), # for a fine enough array\n",
        "                           'xmin':ct._au_over_kpc_,\n",
        "                           'xmax_default':100.,\n",
        "                           'use_quad':False,\n",
        "                           'lin_space':False,\n",
        "                           'Nint':int(30*tage + 1), # for a fine enough array\n",
        "                           't_extra_old':t_extra_old\n",
        "                          }\n",
        "        # data:\n",
        "        data = {'deltaE_over_E':1.e-3,\n",
        "                'f_Delta':0.721,\n",
        "                'exp':'SKA',\n",
        "                'total_observing_time':100.,\n",
        "                'verbose':0, \n",
        "                'average':True\n",
        "               }\n",
        "        \n",
        "        t_trans=t_trans_over_t_peak*(t_peak/365)\n",
        "        \n",
        "        lightcurve_params = {'t_peak':t_peak,\n",
        "                             'L_peak':L_peak,\n",
        "                             't_age':tage,\n",
        "                             't_trans':t_trans\n",
        "                            }\n",
        "        \n",
        "        sig_noi = md.snr_routine(ma_arr, ga_ref,\n",
        "                                 snr,\n",
        "                                 lightcurve_params=lightcurve_params,\n",
        "                                 snu_echo_kwargs=snu_echo_kwargs,\n",
        "                                 data=data,\n",
        "                                 output_all=False)\n",
        "        \n",
        "        ga_arr = ec.ga_reach(sig_noi_thres, sig_noi, ga_ref)\n",
        "        \n",
        "        plt.plot(ma_arr, ga_arr, lw='2.', color=color, alpha=1., label='t extra: %d' %t_extra_old)\n",
        "        counter += 1\n",
        "\n",
        "        if best_ga > ga_arr[0]:\n",
        "            best_snr = snr\n",
        "            best_ga = ga_arr[0]\n",
        "    #     if counter == 2:\n",
        "    #         break\n",
        "\n",
        "ga_cast = 6.5e-11\n",
        "plt.fill_between([1e-7, 1e-2], ga_cast, 1, color='grey', alpha=0.2)\n",
        "\n",
        "plt.xscale('log')\n",
        "plt.yscale('log')\n",
        "plt.ylim(1e-15, 1e-9)\n",
        "plt.xlim(1e-7, 1e-2)\n",
        "plt.xlabel('$m_a$ [eV]')\n",
        "plt.ylabel('$g_{a\\gamma}$ [GeV]$^{-1}$')\n",
        "plt.legend(loc='best')\n",
        "\n",
        "\n",
        "title_str = r\"SNR: D={D:.3f} kpc, Lpk=10$^{{{log10Lpk:.1f}}}$, tpk=10$^{{{log10tpk:.1f}}}$,\\\\$\\ell$={ell:.1f},$b$={b:.1f}, $\\alpha$={alpha:.1f}, sr={sr:.1e}, S/N={sn:.0f}\"\n",
        "title = title_str.format(D=snr.distance,\n",
        "                         log10Lpk=np.log10(snr.Lpk), \n",
        "                         log10tpk=np.log10(snr.tpk),\n",
        "                         ell=snr.l,\n",
        "                         b=snr.b,\n",
        "                         alpha=snr.alpha,\n",
        "                         sr=snr.sr,\n",
        "                         sn=sig_noi_thres)\n",
        "\n",
        "plt.title(title)\n",
        "\n",
        "print 'ga_arr:',  ga_arr"
      ],
      "outputs": [
        {
          "output_type": "stream",
          "name": "stderr",
          "text": [
            "echo.py:105: RuntimeWarning: divide by zero encountered in log10\n",
            "  def fn(x): return 10**interp1d(log10(array[:,0]), log10(array[:,1]), fill_value='extrapolate')(log10(x))\n",
            "echo.py:957: RuntimeWarning: divide by zero encountered in true_divide\n",
            "  return ga_ref * sqrt(sn_val/sn_ref)\n"
          ]
        },
        {
          "output_type": "stream",
          "name": "stdout",
          "text": [
            "ga_arr: [1.39851600e-11 1.27948025e-11 1.37535979e-11 1.63328787e-11\n",
            " 2.02104897e-11 2.53600938e-11 3.19620165e-11 4.03371034e-11\n",
            " 5.09277511e-11            inf]\n"
          ]
        },
        {
          "output_type": "display_data",
          "data": {
            "image/png": "[encoded data removed]",
            "text/plain": "<Figure size 432x288 with 1 Axes>"
          },
          "metadata": {
            "image/png": {
              "height": 289,
              "width": 405
            },
            "needs_background": "light"
          }
        }
      ],
      "execution_count": 10,
      "metadata": {}
    },
    {
      "cell_type": "markdown",
      "source": [
        "### Studying Green's Catalogue"
      ],
      "metadata": {}
    },
    {
      "cell_type": "code",
      "source": [
        "# first let's parse snrs.list.html\n",
        "# names:\n",
        "path = './data/snr_website/www.mrao.cam.ac.uk/surveys/snrs/snrs.list.html'\n",
        "snr_name_arr = dt.load_Green_catalogue_names(path=path)\n",
        "\n",
        "# catalogue:\n",
        "pathroot = './data/snr_website/www.mrao.cam.ac.uk/surveys/snrs/'\n",
        "snrs_dct = dt.load_Green_catalogue(snr_name_arr, pathroot=pathroot, verbose=0)"
      ],
      "outputs": [],
      "execution_count": 11,
      "metadata": {}
    },
    {
      "cell_type": "code",
      "source": [
        "for name, snr in snrs_dct.items():\n",
        "    try:\n",
        "        print sn_remnant.age\n",
        "    except:\n",
        "        continue"
      ],
      "outputs": [],
      "execution_count": 12,
      "metadata": {}
    },
    {
      "cell_type": "code",
      "source": [
        "snrs_cut = {}\n",
        "for name, snr in snrs_dct.items():\n",
        "    \n",
        "    try:\n",
        "        snr.distance\n",
        "    except:\n",
        "#         print \"no distance:\", name\n",
        "        continue\n",
        "    \n",
        "    try:\n",
        "        snr.alpha\n",
        "    except:\n",
        "        continue\n",
        "    \n",
        "    if snr.get_flux_density() == -1:\n",
        "        print \"no flux density:\", name\n",
        "        continue\n",
        "    \n",
        "    if not snr.is_flux_certain:\n",
        "        print \"uncertain flux:\", name\n",
        "        continue\n",
        "    \n",
        "    snrs_cut[name] = snr\n",
        "    \n",
        "print len(snrs_cut)"
      ],
      "outputs": [
        {
          "output_type": "stream",
          "name": "stdout",
          "text": [
            "uncertain flux: G49.2-0.7\n",
            "uncertain flux: G39.7-2.0\n",
            "no flux density: G85.9-0.6\n",
            "no flux density: G181.1+9.5\n",
            "uncertain flux: G344.7-0.1\n",
            "uncertain flux: G32.8-0.1\n",
            "uncertain flux: G327.4+0.4\n",
            "uncertain flux: G330.2+1.0\n",
            "uncertain flux: G82.2+5.3\n",
            "uncertain flux: G316.3-0.0\n",
            "uncertain flux: G350.1-0.3\n",
            "uncertain flux: G320.4-1.2\n",
            "uncertain flux: G5.4-1.2\n",
            "no flux density: G85.4+0.7\n",
            "61\n"
          ]
        }
      ],
      "execution_count": 13,
      "metadata": {}
    },
    {
      "cell_type": "code",
      "source": [
        "snrs_age = {}\n",
        "for name, snr in snrs_cut.items():\n",
        "    try:\n",
        "        sn_remnant.age\n",
        "    except:\n",
        "        continue\n",
        "    \n",
        "    snrs_age[name] = sn_remnant.age\n",
        "\n",
        "print snrs_age"
      ],
      "outputs": [
        {
          "output_type": "stream",
          "name": "stdout",
          "text": [
            "{}\n"
          ]
        }
      ],
      "execution_count": 14,
      "metadata": {}
    },
    {
      "cell_type": "code",
      "source": [
        "snrs_dct['G85.9-0.6'].__dict__"
      ],
      "outputs": [
        {
          "output_type": "execute_result",
          "execution_count": 15,
          "data": {
            "text/plain": "{'alpha': 0.2,\n 'ang_size': 24.0,\n 'b': -0.6,\n 'distance': 4.8,\n 'is_complete': False,\n 'is_flux_certain': False,\n 'is_spectral_certain': True,\n 'is_type_certain': True,\n 'l': 85.9,\n 'name': 'G85.9-0.6',\n 'no_dist': False,\n 'no_flux': True,\n 'sr': 3.827931505771323e-05,\n 'type': 'S'}"
          },
          "metadata": {}
        }
      ],
      "execution_count": 15,
      "metadata": {}
    },
    {
      "cell_type": "code",
      "source": [
        "# computing the mean, std, min, and max of the SNR distances\n",
        "\n",
        "dists = np.array([snr.distance for name, snr in snrs_dct.items() if not snr.no_dist])\n",
        "\n",
        "print \"No. of distances: {}\".format(len(dists))\n",
        "print \"mean:\\t{} kpc\\nstd:\\t{} kpc\\nmin:\\t{} kpc\\nmax:\\t{} kpc\".format(dists.mean(), dists.std(), dists.min(), dists.max())"
      ],
      "outputs": [
        {
          "output_type": "stream",
          "name": "stdout",
          "text": [
            "No. of distances: 90\n",
            "mean:\t4.74627777778 kpc\n",
            "std:\t3.26770727993 kpc\n",
            "min:\t0.275 kpc\n",
            "max:\t17.4 kpc\n"
          ]
        }
      ],
      "execution_count": 16,
      "metadata": {}
    },
    {
      "cell_type": "code",
      "source": [
        "# computing the mean, std, min, and max of the SNR distances with certain flux\n",
        "\n",
        "dists = np.array([snr.distance for name, snr in snrs_cut.items()])\n",
        "\n",
        "print \"No. of distances: {}\".format(len(dists))\n",
        "print \"mean:\\t{} kpc\\nstd:\\t{} kpc\\nmin:\\t{} kpc\\nmax:\\t{} kpc\".format(dists.mean(), dists.std(), dists.min(), dists.max())"
      ],
      "outputs": [
        {
          "output_type": "stream",
          "name": "stdout",
          "text": [
            "No. of distances: 61\n",
            "mean:\t5.08114754098 kpc\n",
            "std:\t3.60414337989 kpc\n",
            "min:\t0.7 kpc\n",
            "max:\t17.4 kpc\n"
          ]
        }
      ],
      "execution_count": 17,
      "metadata": {}
    },
    {
      "cell_type": "code",
      "source": [
        "snrs_cut['G108.2-0.6'].__dict__"
      ],
      "outputs": [
        {
          "output_type": "execute_result",
          "execution_count": 18,
          "data": {
            "text/plain": "{'alpha': 0.5,\n 'ang_size': 61.48170459575759,\n 'b': -0.6,\n 'distance': 3.2,\n 'is_complete': False,\n 'is_flux_certain': True,\n 'is_spectral_certain': True,\n 'is_type_certain': True,\n 'l': 108.2,\n 'name': 'G108.2-0.6',\n 'no_dist': False,\n 'no_flux': False,\n 'snu_at_1GHz': 8.0,\n 'sr': 0.0002512065862179927,\n 'type': 'S'}"
          },
          "metadata": {}
        }
      ],
      "execution_count": 18,
      "metadata": {}
    },
    {
      "cell_type": "code",
      "source": [
        "snrs_cut['G108.2-0.6'].get_flux_density()"
      ],
      "outputs": [
        {
          "output_type": "execute_result",
          "execution_count": 19,
          "data": {
            "text/plain": "8.0"
          },
          "metadata": {}
        }
      ],
      "execution_count": 19,
      "metadata": {}
    },
    {
      "cell_type": "code",
      "source": [
        "snr.__dict__"
      ],
      "outputs": [
        {
          "output_type": "execute_result",
          "execution_count": 20,
          "data": {
            "text/plain": "{'alpha': 0.36,\n 'ang_size': 45.0,\n 'b': 3.0,\n 'distance': 1.9,\n 'is_complete': False,\n 'is_flux_certain': True,\n 'is_spectral_certain': True,\n 'is_type_certain': True,\n 'l': 189.1,\n 'name': 'G189.1+3.0',\n 'no_dist': False,\n 'no_flux': False,\n 'snu_at_1GHz': 165.0,\n 'sr': 0.00013457537324746528,\n 'type': 'C'}"
          },
          "metadata": {}
        }
      ],
      "execution_count": 20,
      "metadata": {}
    },
    {
      "cell_type": "code",
      "source": [
        "snr_results = {}\n",
        "\n",
        "ga_ref = 1.e-10\n",
        "\n",
        "tpk = 10.**(1.7)\n",
        "Lpk = 10.**(28.)\n",
        "t_trans_over_t_peak = 30.\n",
        "t_trans = (tpk/365.)*t_trans_over_t_peak\n",
        "\n",
        "for name, snr in snrs_cut.items():\n",
        "    \n",
        "    lightcurve_params = {'t_peak':tpk,\n",
        "                         'L_peak':Lpk,\n",
        "                         't_trans':t_trans}\n",
        "    \n",
        "    snu_echo_kwargs = {'tmin_default':None,\n",
        "                       'Nt':int(30001),\n",
        "                       'xmin':ct._au_over_kpc_,\n",
        "                       'xmax_default':100.,\n",
        "                       'use_quad':False,\n",
        "                       'lin_space':False,\n",
        "                       'Nint':int(30001),\n",
        "                       't_extra_old':0.\n",
        "                      }\n",
        "    # data:\n",
        "    data = {'deltaE_over_E':1.e-3,\n",
        "            'f_Delta':0.721,\n",
        "            'exper':'SKA',\n",
        "            'total_observing_time':100.,\n",
        "            'verbose':0,\n",
        "            'average':True\n",
        "           }\n",
        "    \n",
        "    z, new_output = md.snr_routine(pt.ma_from_nu(1.), ga_ref,\n",
        "                                   snr,\n",
        "                                   lightcurve_params=lightcurve_params,\n",
        "                                   snu_echo_kwargs=snu_echo_kwargs,\n",
        "                                   data=data,\n",
        "                                   output_all=True)\n",
        "    \n",
        "    snr_results[name] = new_output\n",
        "    \n",
        "    # obtaining L_today\n",
        "    area = 4.*pi*(snr.distance*ct._kpc_over_cm_)**2. # [cm^2]\n",
        "    L0 = (snr.snu_at_1GHz*ct._Jy_over_cgs_irrad_)*area # [cgs]\n",
        "    # computing t_age [years]\n",
        "    print ap.tage_compute(Lpk,\n",
        "                          tpk,\n",
        "                          t_trans,\n",
        "                          L0,\n",
        "                          ap.gamma_from_alpha(snr.alpha))"
      ],
      "outputs": [
        {
          "output_type": "stream",
          "name": "stdout",
          "text": [
            "201.24038422609357\n",
            "64.69820769988002\n",
            "202.57146849074974\n",
            "264.83602763931225\n",
            "97.34612327216263\n",
            "337.2560003630851\n",
            "670.7018688892801\n",
            "104.95535659444904\n",
            "425.3801630341203\n",
            "185.40234248434965\n",
            "359.67168970471306\n",
            "142.63373256190948\n",
            "282.14456427025357\n",
            "196.27856610217586\n",
            "1424.5424719854752\n",
            "2115.001385586476\n",
            "306.3828925166706\n",
            "41.30822687878141\n",
            "259.86559600025\n",
            "882.5866523016851\n",
            "61145.58525757094\n",
            "100.02616249374331\n",
            "1174.2439174222943\n",
            "567.59633530868\n",
            "402.5566527057589\n",
            "151.71965826347864\n",
            "910.7909060266397\n",
            "104.58490402882731\n",
            "298.9240751618232\n",
            "11.916084527149861\n",
            "95.54465141993039\n",
            "67.37884170131456\n",
            "394.8224549222964\n",
            "457.8756623347964\n",
            "91.62878680863763\n",
            "269.9183501414079\n",
            "153.28073363466925\n",
            "184.66003560028332\n",
            "83.47552456077946\n",
            "1940.6087359339465\n",
            "1114.5294159384498\n",
            "4795.225847712455\n",
            "798.5739332017274\n",
            "413.5713373346009\n",
            "1412.2788158563108\n",
            "108.6893471869087\n",
            "195.06907069639098\n",
            "82.1149315080227\n",
            "108.74495136194452\n",
            "188.50643235624412\n",
            "546.5733833240877\n",
            "799.1332176800914\n",
            "924.1910164758948\n",
            "1678.7688149771234\n",
            "90.20640934679717\n",
            "217.87898038396057\n",
            "48.884268933394\n",
            "517.012460677801\n",
            "983.8708717945508\n",
            "683.1931395976181\n",
            "299.3088791997375\n"
          ]
        }
      ],
      "execution_count": 21,
      "metadata": {}
    },
    {
      "cell_type": "code",
      "source": [
        "max([res['S/N'] for name, res in snr_results.items()])"
      ],
      "outputs": [
        {
          "output_type": "execute_result",
          "execution_count": 22,
          "data": {
            "text/plain": "1.3246221946436656"
          },
          "metadata": {}
        }
      ],
      "execution_count": 22,
      "metadata": {}
    }
  ],
  "metadata": {
    "kernelspec": {
      "display_name": "Python 3",
      "language": "python",
      "name": "python3"
    },
    "language_info": {
      "codemirror_mode": {
        "name": "ipython",
        "version": 3
      },
      "file_extension": ".py",
      "mimetype": "text/x-python",
      "name": "python",
      "nbconvert_exporter": "python",
      "pygments_lexer": "ipython3",
      "version": "3.8.11"
    },
    "nteract": {
      "version": "0.28.0"
    }
  },
  "nbformat": 4,
  "nbformat_minor": 2
}