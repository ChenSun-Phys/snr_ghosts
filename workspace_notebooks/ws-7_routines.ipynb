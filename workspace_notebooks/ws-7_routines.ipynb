{
 "cells": [
  {
   "cell_type": "markdown",
   "metadata": {},
   "source": [
    "# Workspace \\#7: ``routines.py``"
   ]
  },
  {
   "cell_type": "code",
   "execution_count": 1,
   "metadata": {},
   "outputs": [],
   "source": [
    "# getting future division\n",
    "from __future__ import division\n",
    "\n",
    "# autoreloading for imported modules\n",
    "%load_ext autoreload\n",
    "%autoreload 2\n",
    "\n",
    "# numpy\n",
    "import numpy as np\n",
    "from numpy import pi, sqrt, log, log10, power, exp\n",
    "\n",
    "#scipy\n",
    "from scipy.interpolate import interp1d\n",
    "\n",
    "# matplotlib\n",
    "import matplotlib.pyplot as plt\n",
    "from matplotlib import rcParams\n",
    "from matplotlib import rc\n",
    "from matplotlib.lines import Line2D\n",
    "\n",
    "# other\n",
    "import os\n",
    "from tqdm import tqdm\n",
    "\n",
    "# matplotlib style\n",
    "%matplotlib inline\n",
    "\n",
    "%config InlineBackend.figure_format = \"retina\"\n",
    "rcParams['figure.figsize'] = (13, 8)\n",
    "rcParams['font.family'] = 'serif'\n",
    "rcParams['font.serif'] = ['New Times Roman']\n",
    "rc('text', usetex=True)\n",
    "\n",
    "# current directory\n",
    "current_dir = os.getcwd()"
   ]
  },
  {
   "cell_type": "code",
   "execution_count": 2,
   "metadata": {},
   "outputs": [],
   "source": [
    "from random import random\n",
    "\n",
    "import sys\n",
    "sys.path.insert(0, '../')\n",
    "\n",
    "import tools as tl\n",
    "import constants as ct\n",
    "import particle as pt\n",
    "import ska as sk\n",
    "import astro as ap\n",
    "import echo as ec\n",
    "import routines as rt"
   ]
  },
  {
   "cell_type": "code",
   "execution_count": 3,
   "metadata": {},
   "outputs": [
    {
     "data": {
      "text/plain": [
       "['Omdisp_kwargs',\n",
       " 'SKA_rescaled_specs',\n",
       " 'Snu_rescale_axion',\n",
       " '__builtins__',\n",
       " '__cached__',\n",
       " '__doc__',\n",
       " '__file__',\n",
       " '__loader__',\n",
       " '__name__',\n",
       " '__package__',\n",
       " '__spec__',\n",
       " 'age_steps',\n",
       " 'ap',\n",
       " 'ax_in',\n",
       " 'ct',\n",
       " 'def_A',\n",
       " 'def_D',\n",
       " 'def_L0',\n",
       " 'def_S0',\n",
       " 'def_alpha',\n",
       " 'def_b',\n",
       " 'def_l',\n",
       " 'def_nu_pivot',\n",
       " 'def_t0',\n",
       " 'def_tmin',\n",
       " 'def_tpk',\n",
       " 'def_tt',\n",
       " 'default_Snu_echo_kwargs',\n",
       " 'default_data',\n",
       " 'default_source_input',\n",
       " 'division',\n",
       " 'ec',\n",
       " 'exp',\n",
       " 'fixed_axion_routine',\n",
       " 'full_routine',\n",
       " 'log',\n",
       " 'log10',\n",
       " 'max_steps',\n",
       " 'np',\n",
       " 'pi',\n",
       " 'power',\n",
       " 'pt',\n",
       " 'rescale_routine',\n",
       " 'sk',\n",
       " 'sqrt',\n",
       " 'trapz']"
      ]
     },
     "execution_count": 3,
     "metadata": {},
     "output_type": "execute_result"
    }
   ],
   "source": [
    "# The contents of routines.py\n",
    "dir(rt)"
   ]
  },
  {
   "cell_type": "code",
   "execution_count": 4,
   "metadata": {},
   "outputs": [
    {
     "data": {
      "text/plain": [
       "0.19245008972987523"
      ]
     },
     "execution_count": 4,
     "metadata": {},
     "output_type": "execute_result"
    }
   ],
   "source": [
    "# rescale factor for spectral irradiance:\n",
    "rt.Snu_rescale_axion(3.e-6, 1.e-10, 1.e-6, 1.e-10)"
   ]
  },
  {
   "cell_type": "code",
   "execution_count": 5,
   "metadata": {},
   "outputs": [
    {
     "data": {
      "text/plain": [
       "(8.27133561166016e-06,\n",
       " 1e-10,\n",
       " {'source_t-nu-Snu': (array([1.00000000e-04, 1.00069101e-04, 1.00138251e-04, ...,\n",
       "          9.98619403e+10, 9.99309463e+10, 1.00000000e+11]),\n",
       "   1.0,\n",
       "   array([0.00000000e+00, 0.00000000e+00, 0.00000000e+00, ...,\n",
       "          1.58840044e-13, 1.58664585e-13, 1.58489319e-13])),\n",
       "  'echo_Snu': 5.82301059103829e-09,\n",
       "  'signal_nu': 1.0,\n",
       "  'signal_delnu': 0.00145326,\n",
       "  'signal_Omega': 2.017539113239555e-06,\n",
       "  'signal_Snu': 5.82301059103829e-09,\n",
       "  'signal_S_echo': 1.353690145011321e-38,\n",
       "  'signal_Tant': 2.4535431217203164e-10,\n",
       "  'signal_power': 7.968412985419008e-21,\n",
       "  'noise_nu': 1.0,\n",
       "  'noise_delnu': 0.00145326,\n",
       "  'noise_Omega_res': 2.017539113239555e-06,\n",
       "  'noise_Omega_obs': 2.017539113239555e-06,\n",
       "  'noise_T408': array(38.776005, dtype=float32),\n",
       "  'noise_Tsys': array(19.31885069),\n",
       "  'noise_Trms': 3.422366266777405e-07,\n",
       "  'noise_power': array(1.11148761e-17),\n",
       "  'S/N_power': 0.0007169142430890778})"
      ]
     },
     "execution_count": 5,
     "metadata": {},
     "output_type": "execute_result"
    }
   ],
   "source": [
    "# echo computation at fixed axion properties\n",
    "test_out = {}\n",
    "rt.fixed_axion_routine(1.e-10, test_out)"
   ]
  },
  {
   "cell_type": "code",
   "execution_count": 6,
   "metadata": {},
   "outputs": [
    {
     "name": "stdout",
     "output_type": "stream",
     "text": [
      "dict_keys(['source_t-nu-Snu', 'echo_Snu', 'signal_nu', 'signal_delnu', 'signal_Omega', 'signal_Snu', 'signal_S_echo', 'signal_Tant', 'signal_power', 'noise_nu', 'noise_delnu', 'noise_Omega_res', 'noise_Omega_obs', 'noise_T408', 'noise_Tsys', 'noise_Trms', 'noise_power', 'S/N_power'])\n",
      "dict_keys(['echo_Snu', 'signal_nu', 'signal_delnu', 'signal_Omega', 'signal_Snu', 'signal_S_echo', 'signal_Tant', 'signal_power', 'noise_nu', 'noise_delnu', 'noise_Omega_res', 'noise_Omega_obs', 'noise_T408', 'noise_Tsys', 'noise_Trms', 'noise_power', 'S/N_power', 'S/N_temp', 'ma', 'ga'])\n"
     ]
    },
    {
     "name": "stderr",
     "output_type": "stream",
     "text": [
      "../routines.py:329: RuntimeWarning: invalid value encountered in true_divide\n",
      "  area_dish = area/number_of_dishes\n",
      "../routines.py:395: RuntimeWarning: invalid value encountered in true_divide\n",
      "  new_output['noise_power']\n"
     ]
    }
   ],
   "source": [
    "# full routine for an array of axion masses:\n",
    "test_out = {}\n",
    "\n",
    "new_out = rt.full_routine(np.logspace(-7, -3), 1.e-9, 1.e-10, test_out)\n",
    "\n",
    "print(test_out.keys())\n",
    "print(new_out.keys())"
   ]
  },
  {
   "cell_type": "code",
   "execution_count": 7,
   "metadata": {},
   "outputs": [
    {
     "name": "stdout",
     "output_type": "stream",
     "text": [
      "{'source_t-nu-Snu': (array([1.00000000e-04, 1.00069101e-04, 1.00138251e-04, ...,\n",
      "       9.98619403e+10, 9.99309463e+10, 1.00000000e+11]), 1.0, array([0.00000000e+00, 0.00000000e+00, 0.00000000e+00, ...,\n",
      "       1.58840044e-13, 1.58664585e-13, 1.58489319e-13])), 'echo_Snu': 5.82301059103829e-09, 'signal_nu': 1.0, 'signal_delnu': 0.00145326, 'signal_Omega': 2.017539113239555e-06, 'signal_Snu': 5.82301059103829e-09, 'signal_S_echo': 1.353690145011321e-38, 'signal_Tant': 2.4535431217203164e-10, 'signal_power': 7.968412985419008e-21, 'noise_nu': 1.0, 'noise_delnu': 0.00145326, 'noise_Omega_res': 2.017539113239555e-06, 'noise_Omega_obs': 2.017539113239555e-06, 'noise_T408': array(38.776005, dtype=float32), 'noise_Tsys': array(19.31885069), 'noise_Trms': 3.422366266777405e-07, 'noise_power': array(1.11148761e-17), 'S/N_power': 0.0007169142430890778}\n"
     ]
    }
   ],
   "source": [
    "print(test_out)"
   ]
  },
  {
   "cell_type": "markdown",
   "metadata": {},
   "source": [
    "Comparing ``routines.py`` with the pedestrian ``echo.py`` method (i.e. re-compute echo at new axion mass):"
   ]
  },
  {
   "cell_type": "code",
   "execution_count": 8,
   "metadata": {},
   "outputs": [
    {
     "name": "stdout",
     "output_type": "stream",
     "text": [
      "original output (computing by hand w/ echo.py only):\n",
      "{'source_t-nu-Snu': (array([1.00000000e-04, 1.00069101e-04, 1.00138251e-04, ...,\n",
      "       9.98619403e+10, 9.99309463e+10, 1.00000000e+11]), 1.2089945892055125, array([0.00000000e+00, 0.00000000e+00, 0.00000000e+00, ...,\n",
      "       1.44460070e-13, 1.44300495e-13, 1.44141096e-13])), 'echo_Snu': 4.3803725041968513e-07, 'signal_nu': 1.2089945892055125, 'signal_delnu': 0.0017569834767088032, 'signal_Omega': 2.017539113239555e-06, 'signal_Snu': 4.3803725041968513e-07, 'signal_S_echo': 1.2311389986356204e-36, 'signal_Tant': 1.871525691180086e-08, 'signal_power': 7.34849308311732e-19, 'noise_nu': 1.2089945892055125, 'noise_delnu': 0.0017569834767088032, 'noise_Omega_res': 2.017539113239555e-06, 'noise_Omega_obs': 2.017539113239555e-06, 'noise_T408': array(38.776005, dtype=float32), 'noise_Tsys': array(17.75656906), 'noise_Trms': 3.214648564447229e-07, 'noise_power': array(1.26222273e-17), 'S/N_power': 0.05821867161090133}\n",
      "\n",
      "using routines.py:\n",
      "pivot values output:\n",
      "{'source_t-nu-Snu': (array([1.00000000e-04, 1.00069101e-04, 1.00138251e-04, ...,\n",
      "       9.98619403e+10, 9.99309463e+10, 1.00000000e+11]), 1.0, array([0.00000000e+00, 0.00000000e+00, 0.00000000e+00, ...,\n",
      "       1.58840044e-13, 1.58664585e-13, 1.58489319e-13])), 'echo_Snu': 5.82301059103829e-09, 'signal_nu': 1.0, 'signal_delnu': 0.00145326, 'signal_Omega': 2.017539113239555e-06, 'signal_Snu': 5.82301059103829e-09, 'signal_S_echo': 1.353690145011321e-38, 'signal_Tant': 2.4535431217203164e-10, 'signal_power': 7.968412985419008e-21, 'noise_nu': 1.0, 'noise_delnu': 0.00145326, 'noise_Omega_res': 2.017539113239555e-06, 'noise_Omega_obs': 2.017539113239555e-06, 'noise_T408': array(38.776005, dtype=float32), 'noise_Tsys': array(19.31885069), 'noise_Trms': 3.422366266777405e-07, 'noise_power': array(1.11148761e-17), 'S/N_power': 0.0007169142430890778}\n",
      "\n",
      "new output (obtained from pivot w/ routines.py):\n",
      "{'echo_Snu': 4.38037250419685e-07, 'signal_nu': 1.2089945892055125, 'signal_delnu': 0.0017569834767088032, 'signal_Omega': 2.017539113239555e-06, 'signal_Snu': 4.38037250419685e-07, 'signal_S_echo': 1.2311389986356199e-36, 'signal_Tant': 1.8715256911800853e-08, 'signal_power': 7.348493083117317e-19, 'noise_nu': 1.2089945892055125, 'noise_delnu': 0.0017569834767088032, 'noise_Omega_res': array(2.01753911e-06), 'noise_Omega_obs': 2.017539113239555e-06, 'noise_T408': array(38.776005, dtype=float32), 'noise_Tsys': array(17.75656906), 'noise_Trms': 3.214648564447229e-07, 'noise_power': array(1.26222273e-17), 'S/N_power': 0.05821867161090131, 'S/N_temp': 0.05821867161090131, 'ma': 1e-05, 'ga': 1e-09}\n",
      "\n",
      "\n",
      "Do they match?: True\n",
      "ratio:[1.0000000000000002, 1.0, 1.0, 1.0, 1.0000000000000002, 1.0000000000000004, 1.0000000000000004, 1.0000000000000004, 1.0, 1.0, 1.0, 1.0, 1.0, 1.0, 1.0, 1.0, 1.0000000000000004]\n"
     ]
    }
   ],
   "source": [
    "ma_new, ga_new = 1.e-5, 1.e-9\n",
    "ga_ref = 1.e-10\n",
    "nu_ma = pt.nu_from_ma(ma_new)\n",
    "\n",
    "ori_out = {}\n",
    "\n",
    "ec.Snu_source(ap.t_arr_default, nu_ma, rt.default_source_input, output=ori_out)\n",
    "ec.Snu_echo(rt.default_source_input, rt.ax_in(ma_new, ga_new), rt.default_data,\n",
    "            recycle_output=(True, ori_out),\n",
    "            **rt.default_Snu_echo_kwargs)\n",
    "ec.signal(rt.default_source_input, rt.ax_in(ma_new, ga_new), rt.default_data,\n",
    "          recycle_output=(True, ori_out),\n",
    "          **rt.default_Snu_echo_kwargs)\n",
    "\n",
    "Omdisp_kwargs = {key: value\n",
    "                 for key, value in rt.default_Snu_echo_kwargs.items()\n",
    "                 if key in ['tmin_default', 'xmax_default', 't_extra_old']}\n",
    "ec.noise(rt.default_source_input, rt.ax_in(ma_new, ga_new), rt.default_data,\n",
    "         recycle_output=(True, ori_out), **Omdisp_kwargs)\n",
    "\n",
    "ec.sn_ratio(ori_out['signal_power'], ori_out['noise_power'], output=ori_out)\n",
    "\n",
    "print('original output (computing by hand w/ echo.py only):\\n'+str(ori_out))\n",
    "\n",
    "routine_out = {}\n",
    "new_out = rt.full_routine(ma_new, ga_new, ga_ref, routine_out)\n",
    "print('\\nusing routines.py:\\npivot values output:\\n'+str(routine_out))\n",
    "print('\\nnew output (obtained from pivot w/ routines.py):\\n'+str(new_out))\n",
    "\n",
    "compare = [ori_out[key]/new_out[key] for key in new_out.keys() if key in ori_out.keys()]\n",
    "answer = bool(int(np.product(compare)))\n",
    "\n",
    "print('\\n\\nDo they match?: {}\\n'.format(answer)+'ratio:'+str(compare))"
   ]
  },
  {
   "cell_type": "markdown",
   "metadata": {},
   "source": [
    "### $(m_a, g_{a\\gamma\\gamma})$ constraints"
   ]
  },
  {
   "cell_type": "code",
   "execution_count": 9,
   "metadata": {},
   "outputs": [],
   "source": [
    "# Cassiopeia A again:\n",
    "D = 3.4 # [kpc] Cas A\n",
    "A = 4.*pi*(D*ct._kpc_over_cm_)**2. # [cm^2] area\n",
    "SnuCasA = 2723. # [Jy] Cas A\n",
    "LumCasA = (SnuCasA*ct._Jy_over_cgs_irrad_)*A # [erg * s^-1 * Hz^-1] spectral luminosity\n",
    "\n",
    "source_input = {'longitude':111.734745, # Cas A\n",
    "                'latitude':-02.129570, # Cas A\n",
    "                'distance':D, # Cas A\n",
    "                'size':ct._casA_solid_angle_,\n",
    "                't_age':340., # Cas A\n",
    "                'alpha':0.77,\n",
    "                'nu_pivot':1.,\n",
    "                'gamma':2.032, # Cas A experiment\n",
    "#                 'gamma':(2.032 * 1.3/0.7), # a detected 1.3% decay rather than 0.7%\n",
    "#                 'model':'eff', 'L_today':LumCasA, 'L_peak':1.e30,\n",
    "                'model':'eff', 'L_today':LumCasA, 't_trans':10.,\n",
    "                't_peak':100.\n",
    "               }\n",
    "\n",
    "ma_ref, ga_ref = pt.ma_from_nu(source_input['nu_pivot']), 1.e-10\n",
    "axion_input = rt.ax_in(ma_ref, ga_ref)\n",
    "\n",
    "data = {'deltaE_over_E':1.e-3,\n",
    "        'f_Delta':0.721,\n",
    "        'exper':'SKA',\n",
    "        'total_observing_time':100.,\n",
    "        'average':True,\n",
    "        'correlation_mode':'interferometry',\n",
    "        'verbose':0\n",
    "       }\n",
    "\n",
    "t_peak = source_input['t_peak']\n",
    "t_age = source_input['t_age']\n",
    "\n",
    "Snu_echo_kwargs = {'tmin_default':None,\n",
    "                   'Nt':10001,\n",
    "                   'xmin':ct._au_over_kpc_,\n",
    "                   'xmax_default':100.,\n",
    "                   'use_quad':False,\n",
    "                   'lin_space':False,\n",
    "                   'Nint':10001,\n",
    "                   't_extra_old':0.}"
   ]
  },
  {
   "cell_type": "code",
   "execution_count": 10,
   "metadata": {},
   "outputs": [],
   "source": [
    "Nma = 101\n",
    "nulow = np.logspace(log10(ct._nu_min_ska_low_), log10(ct._nu_max_ska_low_), Nma//2)\n",
    "numid = np.logspace(log10(ct._nu_min_ska_mid_), log10(ct._nu_max_ska_mid_), Nma - Nma//2)\n",
    "\n",
    "ma_new = pt.ma_from_nu(np.concatenate((nulow, numid)))\n",
    "ga_new = ga_ref\n",
    "\n",
    "routine_out = {}\n",
    "bounds_out = rt.full_routine(ma_new, ga_new, ga_ref, routine_out,\n",
    "                             source_input=source_input,\n",
    "                             data=data,\n",
    "                             Snu_echo_kwargs=Snu_echo_kwargs)"
   ]
  },
  {
   "cell_type": "code",
   "execution_count": 11,
   "metadata": {},
   "outputs": [
    {
     "name": "stdout",
     "output_type": "stream",
     "text": [
      "580667.0 580667.0 32663.9\n",
      "1.0 1.0 1.0\n",
      "40.0 40.0 19.162296199150227\n",
      "0.08356197057046831 0.08356197057046831 0.7037640740921237\n",
      "1.6614302187698022e-06 1.6614302187698022e-06 1.6614302187698022e-06\n"
     ]
    }
   ],
   "source": [
    "area, window, Tr, eta, Omega_res, _, _ = rt.SKA_rescaled_specs(ma_new, data=data, theta_sig=ct.solid_angle_to_angle(source_input[\"size\"]))\n",
    "print('%s %s %s' %(area[Nma//2 -1], area[Nma//2], area[Nma//2 +1]))\n",
    "print('%s %s %s' %(window[Nma//2 -1], window[Nma//2], window[Nma//2 +1]))\n",
    "print('%s %s %s' %(Tr[Nma//2 -1], Tr[Nma//2], Tr[Nma//2 +1]))\n",
    "print('%s %s %s' %(eta[Nma//2 -1], eta[Nma//2], eta[Nma//2 +1]))\n",
    "print('%s %s %s' %(Omega_res[Nma//2 -1], Omega_res[Nma//2], Omega_res[Nma//2 +1]))"
   ]
  },
  {
   "cell_type": "code",
   "execution_count": 12,
   "metadata": {},
   "outputs": [
    {
     "data": {
      "text/plain": [
       "array([1., 1., 1., 1., 1., 1., 1., 1., 1., 1., 1., 1., 1., 1., 1., 1., 1.,\n",
       "       1., 1., 1., 1., 1., 1., 1., 1., 1., 1., 1., 1., 1., 1., 1., 1., 1.,\n",
       "       1., 1., 1., 1., 1., 1., 1., 1., 1., 1., 1., 1., 1., 1., 1., 1., 1.,\n",
       "       1., 1., 1., 1., 1., 1., 1., 1., 1., 1., 1., 1., 1., 1., 1., 1., 1.,\n",
       "       1., 1., 1., 1., 1., 1., 1., 1., 1., 1., 1., 1., 1., 1., 1., 1., 1.,\n",
       "       1., 1., 1., 1., 1., 1., 1., 1., 1., 1., 1., 1., 1., 1., 1., 0.])"
      ]
     },
     "execution_count": 12,
     "metadata": {},
     "output_type": "execute_result"
    }
   ],
   "source": [
    "window"
   ]
  },
  {
   "cell_type": "markdown",
   "metadata": {},
   "source": [
    "Comparing the Cas A reach we derived with Ghosh et al.'s values for Cyg A:"
   ]
  },
  {
   "cell_type": "code",
   "execution_count": 13,
   "metadata": {},
   "outputs": [
    {
     "data": {
      "image/png": "[encoded data removed]",
      "text/plain": [
       "<Figure size 936x576 with 1 Axes>"
      ]
     },
     "metadata": {
      "image/png": {
       "height": 468,
       "width": 770
      },
      "needs_background": "light"
     },
     "output_type": "display_data"
    }
   ],
   "source": [
    "ghosh = np.loadtxt(\"../data/cygA_bounds.csv\", delimiter=\",\")\n",
    "\n",
    "z_val = 2.\n",
    "ga_reach = ec.ga_reach(z_val, bounds_out['S/N_power'], bounds_out['ga'])\n",
    "ma_ga = np.vstack((ma_new, ga_reach)).T\n",
    "\n",
    "plt.axhline(6.e-11, color='k', ls=':')\n",
    "plt.plot(ghosh[:,0], ghosh[:,1]*sqrt(z_val), color='C1', ls='--')\n",
    "plt.loglog(ma_ga[:,0], ma_ga[:,1])\n",
    "# plt.axvline(ma_ref, color='k', ls=':')\n",
    "\n",
    "plt.xscale(\"log\");plt.yscale(\"log\");\n",
    "plt.ylim(1.e-13, 1.e-8);"
   ]
  }
 ],
 "metadata": {
  "kernelspec": {
   "display_name": "Python 3",
   "language": "python",
   "name": "python3"
  },
  "language_info": {
   "codemirror_mode": {
    "name": "ipython",
    "version": 3
   },
   "file_extension": ".py",
   "mimetype": "text/x-python",
   "name": "python",
   "nbconvert_exporter": "python",
   "pygments_lexer": "ipython3",
   "version": "3.7.5"
  },
  "nteract": {
   "version": "0.28.0"
  }
 },
 "nbformat": 4,
 "nbformat_minor": 4
}
