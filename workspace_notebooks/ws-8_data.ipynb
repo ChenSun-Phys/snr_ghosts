{
 "cells": [
  {
   "cell_type": "markdown",
   "metadata": {},
   "source": [
    "# Workspace \\#8: ``data.py``"
   ]
  },
  {
   "cell_type": "code",
   "execution_count": 1,
   "metadata": {
    "execution": {
     "iopub.execute_input": "2021-09-03T15:46:39.534Z",
     "iopub.status.busy": "2021-09-03T15:46:39.519Z",
     "shell.execute_reply": "2021-09-03T15:46:39.469Z"
    }
   },
   "outputs": [],
   "source": [
    "# %load firstcell.py\n",
    "# autoreloading for imported modules\n",
    "%load_ext autoreload\n",
    "%autoreload 2\n",
    "\n",
    "# getting future division\n",
    "from __future__ import division\n",
    "\n",
    "# numpy\n",
    "import numpy as np\n",
    "from numpy import pi, sqrt, log, log10, power, exp\n",
    "\n",
    "#scipy\n",
    "from scipy.interpolate import interp1d\n",
    "\n",
    "# matplotlib\n",
    "import matplotlib.pyplot as plt\n",
    "from matplotlib import rcParams\n",
    "from matplotlib import rc\n",
    "from matplotlib.lines import Line2D\n",
    "\n",
    "# other\n",
    "import os\n",
    "from tqdm import tqdm\n",
    "\n",
    "# matplotlib style\n",
    "%matplotlib inline\n",
    "\n",
    "%config InlineBackend.figure_format = \"retina\"\n",
    "rcParams['figure.figsize'] = (13, 8)\n",
    "rcParams['font.family'] = 'serif'\n",
    "rcParams['font.serif'] = ['New Times Roman']\n",
    "rc('text', usetex=True)\n",
    "\n",
    "# current directory\n",
    "current_dir = os.getcwd()"
   ]
  },
  {
   "cell_type": "code",
   "execution_count": 2,
   "metadata": {
    "execution": {
     "iopub.execute_input": "2021-09-03T15:46:39.940Z",
     "iopub.status.busy": "2021-09-03T15:46:39.922Z"
    }
   },
   "outputs": [
    {
     "name": "stderr",
     "output_type": "stream",
     "text": [
      "/home/buenabad/anaconda2/lib/python2.7/site-packages/healpy/fitsfunc.py:352: UserWarning: If you are not specifying the input dtype and using the default np.float64 dtype of read_map(), please consider that it will change in a future version to None as to keep the same dtype of the input file: please explicitly set the dtype if it is important to you.\n",
      "  \"If you are not specifying the input dtype and using the default \"\n",
      "/home/buenabad/anaconda2/lib/python2.7/site-packages/healpy/fitsfunc.py:403: UserWarning: No INDXSCHM keyword in header file : assume IMPLICIT\n",
      "  warnings.warn(\"No INDXSCHM keyword in header file : \" \"assume {}\".format(schm))\n"
     ]
    },
    {
     "name": "stdout",
     "output_type": "stream",
     "text": [
      "NSIDE = 512\n",
      "ORDERING = NESTED in fits file\n",
      "INDXSCHM = IMPLICIT\n",
      "Ordering converted to RING\n"
     ]
    }
   ],
   "source": [
    "from random import random\n",
    "\n",
    "import sys\n",
    "sys.path.insert(0, '../')\n",
    "\n",
    "import tools as tl\n",
    "import constants as ct\n",
    "import particle as pt\n",
    "import ska as sk\n",
    "import astro as ap\n",
    "import echo as ec\n",
    "import routines as rt\n",
    "import data as dt"
   ]
  },
  {
   "cell_type": "code",
   "execution_count": 3,
   "metadata": {},
   "outputs": [
    {
     "data": {
      "text/plain": [
       "['LR',\n",
       " 'R',\n",
       " 'Simbad',\n",
       " 'SkyCoord',\n",
       " 'SuperNova',\n",
       " 'SuperNovaRemnant',\n",
       " 'TR_arr',\n",
       " '__builtins__',\n",
       " '__doc__',\n",
       " '__file__',\n",
       " '__name__',\n",
       " '__package__',\n",
       " 'age_from_radius',\n",
       " 'ap',\n",
       " 'clean_white_spaces',\n",
       " 'ct',\n",
       " 'curve_fit',\n",
       " 'data_path',\n",
       " 'datetime',\n",
       " 'division',\n",
       " 'exp',\n",
       " 'found_age',\n",
       " 'gen_SN_with_table2',\n",
       " 'lin_reg_pred',\n",
       " 'load_Bietenholz',\n",
       " 'load_Green_catalogue',\n",
       " 'load_Green_catalogue_names',\n",
       " 'load_table2',\n",
       " 'log',\n",
       " 'log10',\n",
       " 'lumin',\n",
       " 'name',\n",
       " 'name_expand',\n",
       " 'new_name',\n",
       " 'np',\n",
       " 'os',\n",
       " 'pd',\n",
       " 'pheno_age',\n",
       " 'physics_age',\n",
       " 'pi',\n",
       " 'power',\n",
       " 're',\n",
       " 'reg_lin',\n",
       " 'reg_log',\n",
       " 'simbad_to_galactic',\n",
       " 'snr',\n",
       " 'snr_ages',\n",
       " 'snr_cat',\n",
       " 'snr_name_arr',\n",
       " 'snrs_age',\n",
       " 'snrs_age_only',\n",
       " 'snrs_cut',\n",
       " 'snrs_dct',\n",
       " 'sorted_age_idx',\n",
       " 'sqrt',\n",
       " 'test2',\n",
       " 'update_Bietenholz_with_coord',\n",
       " 'update_Bietenholz_with_table2']"
      ]
     },
     "execution_count": 3,
     "metadata": {},
     "output_type": "execute_result"
    }
   ],
   "source": [
    "# The contents of data.py\n",
    "dir(dt)"
   ]
  },
  {
   "cell_type": "code",
   "execution_count": 4,
   "metadata": {},
   "outputs": [
    {
     "name": "stdout",
     "output_type": "stream",
     "text": [
      "294\n",
      "72\n",
      "60\n",
      "128\n"
     ]
    }
   ],
   "source": [
    "print(len(dt.snrs_dct))\n",
    "print(len(dt.snrs_cut))\n",
    "print(len(dt.snrs_age))\n",
    "print(len(dt.snrs_age_only))"
   ]
  },
  {
   "cell_type": "code",
   "execution_count": 5,
   "metadata": {},
   "outputs": [
    {
     "data": {
      "text/plain": [
       "['G352.7-0.1',\n",
       " 'G349.7+0.2',\n",
       " 'G11.2-0.3',\n",
       " 'G292.0+1.8',\n",
       " 'G316.3-0.0',\n",
       " 'G82.2+5.3',\n",
       " 'G296.8-0.3',\n",
       " 'G18.1-0.1',\n",
       " 'G53.6-2.2',\n",
       " 'G54.4-0.3',\n",
       " 'G18.9-1.1',\n",
       " 'G39.2-0.3',\n",
       " 'G89.0+4.7',\n",
       " 'G34.7-0.4',\n",
       " 'G94.0+1.0',\n",
       " 'G4.5+6.8',\n",
       " 'G337.2-0.7',\n",
       " 'G114.3+0.3',\n",
       " 'G18.6-0.2',\n",
       " 'G260.4-3.4',\n",
       " 'G18.8+0.3',\n",
       " 'G327.4+0.4',\n",
       " 'G15.4+0.1',\n",
       " 'G20.0-0.2',\n",
       " 'G54.1+0.3',\n",
       " 'G304.6+0.1',\n",
       " 'G116.5+1.1',\n",
       " 'G108.2-0.6',\n",
       " 'G344.7-0.1',\n",
       " 'G109.1-1.0',\n",
       " 'G33.6+0.1',\n",
       " 'G350.1-0.3',\n",
       " 'G32.8-0.1',\n",
       " 'G290.1-0.8',\n",
       " 'G205.5+0.5',\n",
       " 'G39.7-2.0',\n",
       " 'G111.7-2.1',\n",
       " 'G23.3-0.3',\n",
       " 'G21.8-0.6',\n",
       " 'G113.0+0.2',\n",
       " 'G119.5+10.2',\n",
       " 'G24.7-0.6',\n",
       " 'G46.8-0.3',\n",
       " 'G332.4-0.4',\n",
       " 'G29.7-0.3',\n",
       " 'G292.2-0.5',\n",
       " 'G348.5+0.1',\n",
       " 'G127.1+0.5',\n",
       " 'G93.3+6.9',\n",
       " 'G49.2-0.7',\n",
       " 'G35.6-0.4',\n",
       " 'G327.6+14.6',\n",
       " 'G11.0-0.0',\n",
       " 'G22.7-0.2',\n",
       " 'G120.1+1.4',\n",
       " 'G41.1-0.3',\n",
       " 'G27.4+0.0',\n",
       " 'G315.4-2.3',\n",
       " 'G57.2+0.8',\n",
       " 'G330.2+1.0',\n",
       " 'G5.4-1.2',\n",
       " 'G166.0+4.3',\n",
       " 'G116.9+0.2',\n",
       " 'G156.2+5.7',\n",
       " 'G78.2+2.1',\n",
       " 'G93.7-0.2',\n",
       " 'G43.3-0.2',\n",
       " 'G328.4+0.2',\n",
       " 'G67.7+1.8',\n",
       " 'G65.3+5.7',\n",
       " 'G189.1+3.0',\n",
       " 'G320.4-1.2']"
      ]
     },
     "execution_count": 5,
     "metadata": {},
     "output_type": "execute_result"
    }
   ],
   "source": [
    "dt.snrs_cut.keys()"
   ]
  },
  {
   "cell_type": "code",
   "execution_count": 6,
   "metadata": {},
   "outputs": [
    {
     "data": {
      "text/plain": [
       "{'age': 321.0,\n",
       " 'alpha': 0.77,\n",
       " 'ang_size': 5.0,\n",
       " 'b': -2.1,\n",
       " 'distance': 3.3,\n",
       " 'is_complete': False,\n",
       " 'is_flux_certain': True,\n",
       " 'is_spectral_certain': True,\n",
       " 'is_type_certain': True,\n",
       " 'l': 111.7,\n",
       " 'name': 'G111.7-2.1',\n",
       " 'no_dist': False,\n",
       " 'no_flux': False,\n",
       " 'radius': 2.3998277214922035,\n",
       " 'snu_at_1GHz': 2300.0,\n",
       " 'sr': 1.6614302187698022e-06,\n",
       " 'type': 'S'}"
      ]
     },
     "execution_count": 6,
     "metadata": {},
     "output_type": "execute_result"
    }
   ],
   "source": [
    "# Also called Cassiopeia A\n",
    "CasA = 'G111.7-2.1'\n",
    "dt.snrs_cut[CasA].__dict__"
   ]
  },
  {
   "cell_type": "code",
   "execution_count": 7,
   "metadata": {},
   "outputs": [
    {
     "data": {
      "text/plain": [
       "{'age': 54772.25575051661,\n",
       " 'alpha': 0.7,\n",
       " 'ang_size': 84.8528137423857,\n",
       " 'b': -2.0,\n",
       " 'distance': 4.9,\n",
       " 'is_complete': False,\n",
       " 'is_flux_certain': False,\n",
       " 'is_spectral_certain': False,\n",
       " 'is_type_certain': False,\n",
       " 'l': 39.7,\n",
       " 'name': 'G39.7-2.0',\n",
       " 'no_dist': False,\n",
       " 'no_flux': False,\n",
       " 'radius': 60.47257332493333,\n",
       " 'snu_at_1GHz': 85.0,\n",
       " 'sr': 0.0004784858509023251}"
      ]
     },
     "execution_count": 7,
     "metadata": {},
     "output_type": "execute_result"
    }
   ],
   "source": [
    "# Also called W50\n",
    "W50 = 'G39.7-2.0'\n",
    "dt.snrs_cut[W50].__dict__"
   ]
  },
  {
   "cell_type": "code",
   "execution_count": 8,
   "metadata": {},
   "outputs": [
    {
     "data": {
      "text/plain": [
       "{'age': 34467.37587922817,\n",
       " 'ang_size': 48.0,\n",
       " 'b': -0.1,\n",
       " 'distance': 1.9,\n",
       " 'is_complete': False,\n",
       " 'is_flux_certain': True,\n",
       " 'is_spectral_certain': False,\n",
       " 'is_type_certain': True,\n",
       " 'l': 6.4,\n",
       " 'name': 'G6.4-0.1',\n",
       " 'no_dist': False,\n",
       " 'no_flux': False,\n",
       " 'radius': 13.264502315156903,\n",
       " 'snu_at_1GHz': 310.0,\n",
       " 'sr': 0.00015311679381005744,\n",
       " 'type': 'C'}"
      ]
     },
     "execution_count": 8,
     "metadata": {},
     "output_type": "execute_result"
    }
   ],
   "source": [
    "# Also called W28\n",
    "W28 = 'G6.4-0.1'\n",
    "dt.snrs_dct[W28].__dict__"
   ]
  },
  {
   "cell_type": "markdown",
   "metadata": {},
   "source": [
    "## 1. Data Exploration"
   ]
  },
  {
   "cell_type": "markdown",
   "metadata": {},
   "source": [
    "### 1.1 SN data (Bietenholz)\n",
    "\n",
    "Warning: \n",
    "\n",
    "it seems that Bietenholz only published 108 new SNe in machine readable format. The rest is just collected from old measurements. Perhaps it is easier to just use their $t_{peak}$ $L_{peak}$ fit rather than re-inventing the wheel. Large portion of this section will not to be used. Stop now and proceed with fitted $L_{peak}$ $t_{peak}$ as Manuel did"
   ]
  },
  {
   "cell_type": "markdown",
   "metadata": {},
   "source": [
    "Loading Bietenholz's Table 1:"
   ]
  },
  {
   "cell_type": "code",
   "execution_count": 9,
   "metadata": {},
   "outputs": [
    {
     "name": "stdout",
     "output_type": "stream",
     "text": [
      "['SN1008in', 'SN1995X', 'SN2011cb', 'SN1992ad', 'SN2000P', 'SN2006ov', 'SN1997dq', 'SN2012A', 'SN2009hd']\n",
      "108\n"
     ]
    }
   ],
   "source": [
    "# Bietenholz Table 1\n",
    "table1_path = '../data/Table1_complete_ascii.txt'\n",
    "SNe = dt.load_Bietenholz(table1_path)\n",
    "\n",
    "print('%s' %(list(SNe.keys())[1:10]))\n",
    "print(len(SNe.keys())) # SN1008in seems a typo: ought to be SN2008in; see, v.g., arXiv:1306.5122"
   ]
  },
  {
   "cell_type": "code",
   "execution_count": 10,
   "metadata": {
    "scrolled": true
   },
   "outputs": [
    {
     "name": "stdout",
     "output_type": "stream",
     "text": [
      "['SN2008X', 'SN1008in', 'SN2008ax', 'SN2008bo', 'SN2008jb']\n"
     ]
    }
   ],
   "source": [
    "print([key for key in SNe.keys() if '008' in key])"
   ]
  },
  {
   "cell_type": "markdown",
   "metadata": {},
   "source": [
    "Loading Bietenholz's Table 2:"
   ]
  },
  {
   "cell_type": "code",
   "execution_count": 11,
   "metadata": {},
   "outputs": [
    {
     "name": "stdout",
     "output_type": "stream",
     "text": [
      "SN1008in failed updating\n",
      "SN1988S failed updating\n",
      "294\n"
     ]
    }
   ],
   "source": [
    "# Bietenholz Table 2\n",
    "table2_path = '../data/Table2_extended_SN_info.txt'\n",
    "table2 = dt.load_table2(table2_path)\n",
    "# table2['SN1979C']\n",
    "\n",
    "dt.update_Bietenholz_with_table2(SNe, table2)\n",
    "print(len(table2.keys()))"
   ]
  },
  {
   "cell_type": "code",
   "execution_count": 12,
   "metadata": {},
   "outputs": [
    {
     "data": {
      "text/plain": [
       "{'comment': array(['Weiler', 'Weiler', 'Weiler', 'Weiler'], dtype='|S32'),\n",
       " 'day': array([15.,  9., 17., 17.]),\n",
       " 'detected': None,\n",
       " 'dflux': array([0.112, 0.048, 0.034, 0.059]),\n",
       " 'dist': None,\n",
       " 'distance': 25.5,\n",
       " 'explosion_date': '1995 08 03',\n",
       " 'flux': array([-0.336, -0.143, -0.102, -0.177]),\n",
       " 'freq': array([8.46, 8.46, 8.46, 4.86]),\n",
       " 'galaxy': 'UGC 12160',\n",
       " 'has_explosion_time': False,\n",
       " 'is_limit': array([ True,  True,  True,  True]),\n",
       " 'month': array([ 9.,  6.,  6., 10.]),\n",
       " 'name': 'SN1995X',\n",
       " 'number_of_measurements': None,\n",
       " 't': array([], dtype=float64),\n",
       " 'telescope': array(['VLA    ', 'VLA    ', 'VLA    ', 'VLA    '], dtype='|S32'),\n",
       " 'type': 'II',\n",
       " 'year': array([1995., 1998., 1998., 2000.])}"
      ]
     },
     "execution_count": 12,
     "metadata": {},
     "output_type": "execute_result"
    }
   ],
   "source": [
    "list(SNe.items())[2][1].__dict__"
   ]
  },
  {
   "cell_type": "code",
   "execution_count": 13,
   "metadata": {},
   "outputs": [],
   "source": [
    "freqs = []\n",
    "for name, data in SNe.items():\n",
    "    sn_dict = data.__dict__\n",
    "    \n",
    "    try:\n",
    "        freq = sn_dict['freq']\n",
    "        freqs.append(freq)\n",
    "    except:\n",
    "        continue\n",
    "\n",
    "factors = [(1./nu)**-0.8 for nu in freqs]"
   ]
  },
  {
   "cell_type": "code",
   "execution_count": 14,
   "metadata": {},
   "outputs": [
    {
     "name": "stdout",
     "output_type": "stream",
     "text": [
      "(108, 7.99524358974359, 2.5289175433962154)\n"
     ]
    }
   ],
   "source": [
    "avg_freqs = np.array([f_arr.mean() for f_arr in freqs])\n",
    "# avg_freqs = np.array([np.median(f_arr) for f_arr in freqs])\n",
    "\n",
    "print(len(avg_freqs), avg_freqs.mean(), avg_freqs.std())"
   ]
  },
  {
   "cell_type": "code",
   "execution_count": 15,
   "metadata": {},
   "outputs": [
    {
     "name": "stdout",
     "output_type": "stream",
     "text": [
      "(108, 5.226613554986191, 1.2050365767568738)\n",
      "0.23055781034495434\n"
     ]
    }
   ],
   "source": [
    "avg_factors = np.array([ft_arr.mean() for ft_arr in factors])\n",
    "print(len(avg_factors), avg_factors.mean(), avg_factors.std())\n",
    "print(avg_factors.std()/avg_factors.mean())"
   ]
  },
  {
   "cell_type": "markdown",
   "metadata": {},
   "source": [
    "Finding the coordinates:"
   ]
  },
  {
   "cell_type": "code",
   "execution_count": 16,
   "metadata": {},
   "outputs": [
    {
     "name": "stderr",
     "output_type": "stream",
     "text": [
      "/home/buenabad/anaconda2/lib/python2.7/site-packages/astroquery/simbad/core.py:138: UserWarning: Warning: The script line number 4 raised an error (recorded in the `errors` attribute of the result table): Identifier not found in the database : SN 1008in\n",
      "  (error.line, error.msg))\n"
     ]
    },
    {
     "name": "stdout",
     "output_type": "stream",
     "text": [
      "SN1987K failed the query\n",
      "SN1987K failed the query\n"
     ]
    }
   ],
   "source": [
    "# query the coord of the galaxies from Simbad\n",
    "dt.update_Bietenholz_with_coord(SNe, use_Simbad=True)\n",
    "\n",
    "# reuse local cache from query of Simbad\n",
    "dt.update_Bietenholz_with_coord(SNe, use_Simbad=False)"
   ]
  },
  {
   "cell_type": "code",
   "execution_count": 17,
   "metadata": {},
   "outputs": [
    {
     "data": {
      "text/plain": [
       "{'comment': array([''], dtype='|S32'),\n",
       " 'day': array([31.36]),\n",
       " 'detected': None,\n",
       " 'dflux': array([0.076]),\n",
       " 'dist': None,\n",
       " 'explosion_date': None,\n",
       " 'flux': array([-0.227]),\n",
       " 'freq': array([8.46]),\n",
       " 'galaxy': None,\n",
       " 'has_explosion_time': False,\n",
       " 'is_limit': array([ True]),\n",
       " 'month': array([12.]),\n",
       " 'name': 'SN1008in',\n",
       " 'number_of_measurements': None,\n",
       " 't': array([], dtype=float64),\n",
       " 'telescope': array(['VLA    '], dtype='|S32'),\n",
       " 'type': None,\n",
       " 'year': array([2008.])}"
      ]
     },
     "execution_count": 17,
     "metadata": {},
     "output_type": "execute_result"
    }
   ],
   "source": [
    "# example:\n",
    "# SNe['SN2010as'].__dict__\n",
    "SNe['SN1008in'].__dict__ # note the year of SN1008in"
   ]
  },
  {
   "cell_type": "markdown",
   "metadata": {},
   "source": [
    "Plotting lightcurves:"
   ]
  },
  {
   "cell_type": "code",
   "execution_count": 18,
   "metadata": {},
   "outputs": [],
   "source": [
    "import numpy.ma as ma"
   ]
  },
  {
   "cell_type": "code",
   "execution_count": 19,
   "metadata": {},
   "outputs": [],
   "source": [
    "for name, SN in SNe.items():\n",
    "    SN.gen_time_axis()"
   ]
  },
  {
   "cell_type": "code",
   "execution_count": 20,
   "metadata": {},
   "outputs": [
    {
     "name": "stdout",
     "output_type": "stream",
     "text": [
      "None\n",
      "None\n"
     ]
    },
    {
     "data": {
      "text/plain": [
       "106"
      ]
     },
     "execution_count": 20,
     "metadata": {},
     "output_type": "execute_result"
    },
    {
     "name": "stderr",
     "output_type": "stream",
     "text": [
      "/home/buenabad/.local/lib/python2.7/site-packages/matplotlib/font_manager.py:1331: UserWarning: findfont: Font family [u'serif'] not found. Falling back to DejaVu Sans\n",
      "  (prop.get_family(), self.defaultFamily[fontext]))\n"
     ]
    },
    {
     "data": {
      "image/png": "[encoded data removed]",
      "text/plain": [
       "<Figure size 432x288 with 1 Axes>"
      ]
     },
     "metadata": {
      "image/png": {
       "height": 250,
       "width": 378
      },
      "needs_background": "light"
     },
     "output_type": "display_data"
    }
   ],
   "source": [
    "plt.subplots()\n",
    "n = 0\n",
    "\n",
    "for name, SN in SNe.items():\n",
    "    if not SN.has_explosion_time:\n",
    "        print(SN.explosion_date)\n",
    "        continue\n",
    "    n += 1\n",
    "    mask = SN.is_limit\n",
    "    t = ma.masked_array(SN.t, mask=mask)\n",
    "    flux = ma.masked_array(SN.flux, mask=mask)\n",
    "    plt.loglog(t, flux)\n",
    "    #plt.loglog((SN.t), (SN.flux))\n",
    "    #plt.loglog(np.abs(SN.t), np.abs(SN.flux))\n",
    "n"
   ]
  },
  {
   "cell_type": "markdown",
   "metadata": {},
   "source": [
    "### 1.2 Green's Catalogue"
   ]
  },
  {
   "cell_type": "code",
   "execution_count": 21,
   "metadata": {},
   "outputs": [],
   "source": [
    "# first let's parse snrs.list.html\n",
    "# names:\n",
    "path = '../data/snr_website/www.mrao.cam.ac.uk/surveys/snrs/snrs.list.html'\n",
    "snr_name_arr = dt.load_Green_catalogue_names(path=path)\n",
    "\n",
    "# catalogue:\n",
    "pathroot = '../data/snr_website/www.mrao.cam.ac.uk/surveys/snrs/'\n",
    "snrs_dct = dt.load_Green_catalogue(snr_name_arr, pathroot=pathroot, verbose=0)"
   ]
  },
  {
   "cell_type": "code",
   "execution_count": 22,
   "metadata": {},
   "outputs": [
    {
     "name": "stdout",
     "output_type": "stream",
     "text": [
      "0.6\n",
      "True\n",
      "S\n",
      "True\n"
     ]
    }
   ],
   "source": [
    "name = 'G8.9+0.4'\n",
    "\n",
    "print(snrs_dct[name].get_spectral_index())\n",
    "print(snrs_dct[name].is_spectral_certain)\n",
    "print(snrs_dct[name].get_type())\n",
    "print(snrs_dct[name].is_type_certain)\n",
    "\n",
    "del name"
   ]
  },
  {
   "cell_type": "code",
   "execution_count": 23,
   "metadata": {},
   "outputs": [],
   "source": [
    "# luminosity v. diameter\n",
    "path = '../data/Green_2005_lum_diam.csv'\n",
    "green2005_lum_diam_arr = np.loadtxt(path, delimiter=',')\n",
    "\n",
    "# surface brightness v. diameter\n",
    "path = '../data/Green_2005_SB_diam.csv'\n",
    "green2005_SB_diam_arr = np.loadtxt(path, delimiter=',')"
   ]
  },
  {
   "cell_type": "code",
   "execution_count": 24,
   "metadata": {},
   "outputs": [
    {
     "name": "stdout",
     "output_type": "stream",
     "text": [
      "294\n",
      "47\n",
      "47\n"
     ]
    }
   ],
   "source": [
    "# length of catalogues\n",
    "print(len(snrs_dct))\n",
    "print(len(green2005_lum_diam_arr))\n",
    "print(len(green2005_SB_diam_arr))"
   ]
  },
  {
   "cell_type": "code",
   "execution_count": 25,
   "metadata": {},
   "outputs": [
    {
     "data": {
      "text/plain": [
       "['__class__',\n",
       " '__delattr__',\n",
       " '__dict__',\n",
       " '__doc__',\n",
       " '__format__',\n",
       " '__getattribute__',\n",
       " '__hash__',\n",
       " '__init__',\n",
       " '__module__',\n",
       " '__new__',\n",
       " '__reduce__',\n",
       " '__reduce_ex__',\n",
       " '__repr__',\n",
       " '__setattr__',\n",
       " '__sizeof__',\n",
       " '__str__',\n",
       " '__subclasshook__',\n",
       " '__weakref__',\n",
       " 'alpha',\n",
       " 'ang_size',\n",
       " 'b',\n",
       " 'get_SB',\n",
       " 'get_age',\n",
       " 'get_coord',\n",
       " 'get_diameter',\n",
       " 'get_distance',\n",
       " 'get_flux_density',\n",
       " 'get_latitude',\n",
       " 'get_longitude',\n",
       " 'get_luminosity',\n",
       " 'get_radius',\n",
       " 'get_size',\n",
       " 'get_spectral_index',\n",
       " 'get_type',\n",
       " 'is_complete',\n",
       " 'is_flux_certain',\n",
       " 'is_spectral_certain',\n",
       " 'is_type_certain',\n",
       " 'l',\n",
       " 'name',\n",
       " 'no_dist',\n",
       " 'no_flux',\n",
       " 'set_age',\n",
       " 'set_coord',\n",
       " 'set_distance',\n",
       " 'set_flux_density',\n",
       " 'set_name',\n",
       " 'set_size',\n",
       " 'set_spectral',\n",
       " 'set_sr',\n",
       " 'set_type',\n",
       " 'snu_at_1GHz',\n",
       " 'sr',\n",
       " 'type']"
      ]
     },
     "execution_count": 25,
     "metadata": {},
     "output_type": "execute_result"
    }
   ],
   "source": [
    "dir(snrs_dct['G337.0-0.1'])"
   ]
  },
  {
   "cell_type": "markdown",
   "metadata": {},
   "source": [
    "## 2. Scatter plots"
   ]
  },
  {
   "cell_type": "markdown",
   "metadata": {},
   "source": [
    "#### $L_\\nu$ vs diameter"
   ]
  },
  {
   "cell_type": "code",
   "execution_count": 26,
   "metadata": {},
   "outputs": [
    {
     "name": "stderr",
     "output_type": "stream",
     "text": [
      "/home/buenabad/.local/lib/python2.7/site-packages/matplotlib/ticker.py:2207: UserWarning: Data has no positive values, and therefore cannot be log-scaled.\n",
      "  \"Data has no positive values, and therefore cannot be \"\n"
     ]
    },
    {
     "data": {
      "text/plain": [
       "294"
      ]
     },
     "execution_count": 26,
     "metadata": {},
     "output_type": "execute_result"
    },
    {
     "data": {
      "image/png": "[encoded data removed]",
      "text/plain": [
       "<Figure size 432x288 with 1 Axes>"
      ]
     },
     "metadata": {
      "image/png": {
       "height": 264,
       "width": 390
      },
      "needs_background": "light"
     },
     "output_type": "display_data"
    }
   ],
   "source": [
    "counter = 0\n",
    "\n",
    "# lum plot and compare with Green 2005\n",
    "plt.subplots()\n",
    "plt.yscale('log')\n",
    "plt.xscale('log')\n",
    "plt.xlabel('Diameter [pc]')\n",
    "plt.ylabel(r'L$_{1\\mathrm{GHz}}$ [erg s$^{-1}$ Hz$^{-1}$]')\n",
    "plt.xlim(1, 300)\n",
    "\n",
    "for _, snr in snrs_dct.items():\n",
    "        diam = snr.get_diameter()\n",
    "        lum = snr.get_luminosity()\n",
    "        plt.plot(diam, lum, 'k.')\n",
    "        counter += 1\n",
    "plt.plot(diam, lum, 'k.', label='Green 2019')\n",
    "\n",
    "# compare with Green 2005\n",
    "_J_over_erg_ = 1.e7\n",
    "plt.plot(green2005_lum_diam_arr[:,0], green2005_lum_diam_arr[:,1]*_J_over_erg_, 'ro', markersize=5, zorder=0)\n",
    "plt.plot(green2005_lum_diam_arr[1,0], green2005_lum_diam_arr[1,1]*_J_over_erg_, 'ro', markersize=5, zorder=0, label='Green 2005')\n",
    "\n",
    "plt.legend(loc='best')\n",
    "\n",
    "counter"
   ]
  },
  {
   "cell_type": "markdown",
   "metadata": {},
   "source": [
    "#### $\\Sigma_\\nu$ vs diameter"
   ]
  },
  {
   "cell_type": "code",
   "execution_count": 27,
   "metadata": {},
   "outputs": [
    {
     "data": {
      "text/plain": [
       "84"
      ]
     },
     "execution_count": 27,
     "metadata": {},
     "output_type": "execute_result"
    },
    {
     "data": {
      "image/png": "[encoded data removed]",
      "text/plain": [
       "<Figure size 432x288 with 1 Axes>"
      ]
     },
     "metadata": {
      "image/png": {
       "height": 264,
       "width": 386
      },
      "needs_background": "light"
     },
     "output_type": "display_data"
    }
   ],
   "source": [
    "counter = 0\n",
    "\n",
    "# Sigma plot\n",
    "plt.subplots()\n",
    "plt.yscale('log')\n",
    "plt.xscale('log')\n",
    "# plt.xlabel('Distance [kpc]')\n",
    "plt.xlabel('Diameter [pc]')\n",
    "plt.ylabel(r'$\\Sigma_{1\\;\\mathrm{GHz}}$ [Jy sr$^{-1}$]')\n",
    "\n",
    "for _, snr in snrs_dct.items():\n",
    "    if snr.no_dist is False and snr.no_flux is False:        \n",
    "        diam = snr.get_diameter()\n",
    "        Sigma = snr.get_SB()\n",
    "        plt.plot(diam, Sigma, 'k.')\n",
    "        counter += 1\n",
    "        \n",
    "plt.plot(green2005_SB_diam_arr[:,0], green2005_SB_diam_arr[:,1]/ct._Jy_over_SI_, 'ro', markersize=5, zorder=0)\n",
    "\n",
    "# completeness cut\n",
    "plt.hlines(1e-20 / ct._Jy_over_SI_, 2, 300, linestyles=\":\", label='Completeness')\n",
    "\n",
    "# labels\n",
    "plt.plot(diam, Sigma, 'k.', label='Green 2019')\n",
    "plt.plot(green2005_SB_diam_arr[0,0], green2005_SB_diam_arr[0,1]/ct._Jy_over_SI_, 'ro', markersize=5, zorder=0, label='Green 2005')\n",
    "plt.legend(loc='best')\n",
    "\n",
    "counter"
   ]
  },
  {
   "cell_type": "markdown",
   "metadata": {},
   "source": [
    "#### $S_\\nu$ vs distance"
   ]
  },
  {
   "cell_type": "code",
   "execution_count": 28,
   "metadata": {},
   "outputs": [
    {
     "data": {
      "text/plain": [
       "84"
      ]
     },
     "execution_count": 28,
     "metadata": {},
     "output_type": "execute_result"
    },
    {
     "data": {
      "image/png": "[encoded data removed]",
      "text/plain": [
       "<Figure size 432x288 with 1 Axes>"
      ]
     },
     "metadata": {
      "image/png": {
       "height": 264,
       "width": 385
      },
      "needs_background": "light"
     },
     "output_type": "display_data"
    }
   ],
   "source": [
    "counter = 0\n",
    "\n",
    "plt.subplots()\n",
    "plt.yscale('log')\n",
    "plt.xlabel('Distance [kpc]')\n",
    "plt.ylabel(r'S$_\\nu$ [Jy]')\n",
    "plt.ylim(0.2, 4000)\n",
    "\n",
    "for _, snr in snrs_dct.items():\n",
    "    if snr.no_dist is False and snr.no_flux is False:\n",
    "        snr.get_SB()\n",
    "        if snr.is_complete:        \n",
    "            plt.plot(snr.distance, snr.snu_at_1GHz, 'k.')\n",
    "        else:\n",
    "            plt.plot(snr.distance, snr.snu_at_1GHz, 'b.')\n",
    "        counter += 1\n",
    "        \n",
    "# labels\n",
    "plt.plot([1,0.01], 'k.', label='$\\Sigma_{1\\;\\mathrm{GHz}} > 10^{-20} \\;\\mathrm{Wm^{-2} Hz^{-1}sr^{-1}}$')\n",
    "plt.plot([1,0.01], 'b.', label='$\\Sigma_{1\\;\\mathrm{GHz}} < 10^{-20} \\;\\mathrm{Wm^{-2} Hz^{-1}sr^{-1}}$')\n",
    "plt.legend(loc='best')\n",
    "counter"
   ]
  },
  {
   "cell_type": "markdown",
   "metadata": {},
   "source": [
    "#### $L_\\nu$ vs distance"
   ]
  },
  {
   "cell_type": "code",
   "execution_count": 29,
   "metadata": {},
   "outputs": [
    {
     "data": {
      "text/plain": [
       "34"
      ]
     },
     "execution_count": 29,
     "metadata": {},
     "output_type": "execute_result"
    },
    {
     "data": {
      "image/png": "[encoded data removed]",
      "text/plain": [
       "<Figure size 432x288 with 1 Axes>"
      ]
     },
     "metadata": {
      "image/png": {
       "height": 266,
       "width": 390
      },
      "needs_background": "light"
     },
     "output_type": "display_data"
    }
   ],
   "source": [
    "# lum plot\n",
    "plt.subplots()\n",
    "plt.yscale('log')\n",
    "#plt.xscale('log')\n",
    "plt.xlabel('Distance [kpc]')\n",
    "plt.ylabel(r'L$_{1\\mathrm{GHz}}$ [erg s$^{-1}$ Hz$^{-1}$]')\n",
    "plt.ylim(1e21, 1e26)\n",
    "\n",
    "counter = 0\n",
    "for _, snr in snrs_dct.items():\n",
    "    if snr.no_dist is False and snr.no_flux is False:\n",
    "        dist = snr.distance\n",
    "        snu = snr.snu_at_1GHz\n",
    "        lum = snr.get_luminosity()\n",
    "        snr.get_SB()\n",
    "        if snr.is_complete:\n",
    "            plt.plot(snr.distance, lum, 'k.')\n",
    "            counter += 1\n",
    "        else:\n",
    "            plt.plot(snr.distance, lum, 'b.')\n",
    "\n",
    "# labels\n",
    "plt.plot([1,0.01], 'k.', label='$\\Sigma_{1\\;\\mathrm{GHz}} > 10^{-20} \\;\\mathrm{Wm^{-2} Hz^{-1}sr^{-1}}$')\n",
    "plt.plot([1,0.01], 'b.', label='$\\Sigma_{1\\;\\mathrm{GHz}} < 10^{-20} \\;\\mathrm{Wm^{-2} Hz^{-1}sr^{-1}}$')\n",
    "plt.legend(loc='best')\n",
    "\n",
    "counter"
   ]
  },
  {
   "cell_type": "markdown",
   "metadata": {},
   "source": [
    "## 3. Histograms"
   ]
  },
  {
   "cell_type": "code",
   "execution_count": 30,
   "metadata": {},
   "outputs": [],
   "source": [
    "# These are already loaded in dt. This is just to show you how to do it.\n",
    "\n",
    "# # first let's parse snrs.list.html\n",
    "# # names:\n",
    "# path = '../data/snr_website/www.mrao.cam.ac.uk/surveys/snrs/snrs.list.html'\n",
    "# snr_name_arr = dt.load_Green_catalogue_names(path=path)\n",
    "\n",
    "# # catalogue:\n",
    "# pathroot = '../data/snr_website/www.mrao.cam.ac.uk/surveys/snrs/'\n",
    "# snrs_dct = dt.load_Green_catalogue(snr_name_arr, pathroot=pathroot, verbose=0)"
   ]
  },
  {
   "cell_type": "code",
   "execution_count": 31,
   "metadata": {},
   "outputs": [
    {
     "name": "stdout",
     "output_type": "stream",
     "text": [
      "G352.7-0.1 size:  \t3.2e-06\n",
      "G349.7+0.2 size:  \t3.3e-07\n",
      "G11.2-0.3 size:  \t1.1e-06\n",
      "G292.0+1.8 size:  \t6.4e-06\n",
      "G316.3-0.0 size:  \t2.7e-05\n",
      "G82.2+5.3 size:  \t4.1e-04\n",
      "G296.8-0.3 size:  \t1.9e-05\n",
      "G18.1-0.1 size:  \t4.3e-06\n",
      "G53.6-2.2 size:  \t6.1e-05\n",
      "G54.4-0.3 size:  \t1.1e-04\n",
      "G18.9-1.1 size:  \t7.2e-05\n",
      "G39.2-0.3 size:  \t3.2e-06\n",
      "G89.0+4.7 size:  \t7.2e-04\n",
      "G34.7-0.4 size:  \t6.3e-05\n",
      "G94.0+1.0 size:  \t5.0e-05\n",
      "G4.5+6.8 size:  \t6.0e-07\n",
      "G337.2-0.7 size:  \t2.4e-06\n",
      "G114.3+0.3 size:  \t3.3e-04\n",
      "G18.6-0.2 size:  \t2.4e-06\n",
      "G260.4-3.4 size:  \t2.0e-04\n",
      "G18.8+0.3 size:  \t1.2e-05\n",
      "G327.4+0.4 size:  \t2.9e-05\n",
      "G15.4+0.1 size:  \t1.4e-05\n",
      "G20.0-0.2 size:  \t6.6e-06\n",
      "G54.1+0.3 size:  \t9.6e-06\n",
      "G304.6+0.1 size:  \t4.3e-06\n",
      "G116.5+1.1 size:  \t3.2e-04\n",
      "G108.2-0.6 size:  \t2.5e-04\n",
      "G344.7-0.1 size:  \t4.3e-06\n",
      "G109.1-1.0 size:  \t5.2e-05\n",
      "G33.6+0.1 size:  \t6.6e-06\n",
      "G350.1-0.3 size:  \t1.1e-06\n",
      "G32.8-0.1 size:  \t2.2e-05\n",
      "G290.1-0.8 size:  \t1.8e-05\n",
      "G205.5+0.5 size:  \t3.2e-03\n",
      "G39.7-2.0 size:  \t4.8e-04\n",
      "G111.7-2.1 size:  \t1.7e-06\n",
      "G23.3-0.3 size:  \t4.8e-05\n",
      "G21.8-0.6 size:  \t2.7e-05\n",
      "G113.0+0.2 size:  \t4.5e-05\n",
      "G119.5+10.2 size:  \t5.4e-04\n",
      "G24.7-0.6 size:  \t1.5e-05\n",
      "G46.8-0.3 size:  \t1.5e-05\n",
      "G332.4-0.4 size:  \t6.6e-06\n",
      "G29.7-0.3 size:  \t6.0e-07\n",
      "G292.2-0.5 size:  \t2.0e-05\n",
      "G348.5+0.1 size:  \t1.5e-05\n",
      "G127.1+0.5 size:  \t1.3e-04\n",
      "G93.3+6.9 size:  \t3.6e-05\n",
      "G49.2-0.7 size:  \t6.0e-05\n",
      "G35.6-0.4 size:  \t1.1e-05\n",
      "G327.6+14.6 size:  \t6.0e-05\n",
      "G11.0-0.0 size:  \t6.6e-06\n",
      "G22.7-0.2 size:  \t4.5e-05\n",
      "G120.1+1.4 size:  \t4.3e-06\n",
      "G41.1-0.3 size:  \t7.5e-07\n",
      "G27.4+0.0 size:  \t1.1e-06\n",
      "G315.4-2.3 size:  \t1.2e-04\n",
      "G57.2+0.8 size:  \t9.6e-06\n",
      "G330.2+1.0 size:  \t8.0e-06\n",
      "G5.4-1.2 size:  \t8.1e-05\n",
      "G166.0+4.3 size:  \t1.3e-04\n",
      "G116.9+0.2 size:  \t7.7e-05\n",
      "G156.2+5.7 size:  \t8.0e-04\n",
      "G78.2+2.1 size:  \t2.4e-04\n",
      "G93.7-0.2 size:  \t4.3e-04\n",
      "G43.3-0.2 size:  \t8.0e-07\n",
      "G328.4+0.2 size:  \t1.7e-06\n",
      "G67.7+1.8 size:  \t1.2e-05\n",
      "G65.3+5.7 size:  \t4.9e-03\n",
      "G189.1+3.0 size:  \t1.3e-04\n",
      "G320.4-1.2 size:  \t8.1e-05\n"
     ]
    }
   ],
   "source": [
    "for name, snr in dt.snrs_cut.items():\n",
    "    print(name+\" size:  \\t%.1e\" % snr.get_size())"
   ]
  },
  {
   "cell_type": "code",
   "execution_count": 32,
   "metadata": {},
   "outputs": [
    {
     "name": "stdout",
     "output_type": "stream",
     "text": [
      "G352.7-0.1 dist:  \t7.6e+00\n",
      "G349.7+0.2 dist:  \t1.2e+01\n",
      "G11.2-0.3 dist:  \t4.4e+00\n",
      "G292.0+1.8 dist:  \t6.0e+00\n",
      "G316.3-0.0 dist:  \t7.2e+00\n",
      "G82.2+5.3 dist:  \t3.2e+00\n",
      "G296.8-0.3 dist:  \t9.6e+00\n",
      "G18.1-0.1 dist:  \t6.4e+00\n",
      "G53.6-2.2 dist:  \t2.8e+00\n",
      "G54.4-0.3 dist:  \t6.6e+00\n",
      "G18.9-1.1 dist:  \t1.8e+00\n",
      "G39.2-0.3 dist:  \t8.5e+00\n",
      "G89.0+4.7 dist:  \t1.4e+00\n",
      "G34.7-0.4 dist:  \t2.5e+00\n",
      "G94.0+1.0 dist:  \t5.2e+00\n",
      "G4.5+6.8 dist:  \t3.1e+00\n",
      "G337.2-0.7 dist:  \t5.7e+00\n",
      "G114.3+0.3 dist:  \t7.0e-01\n",
      "G18.6-0.2 dist:  \t4.4e+00\n",
      "G260.4-3.4 dist:  \t1.3e+00\n",
      "G18.8+0.3 dist:  \t1.4e+01\n",
      "G327.4+0.4 dist:  \t4.8e+00\n",
      "G15.4+0.1 dist:  \t4.8e+00\n",
      "G20.0-0.2 dist:  \t1.1e+01\n",
      "G54.1+0.3 dist:  \t6.5e+00\n",
      "G304.6+0.1 dist:  \t9.7e+00\n",
      "G116.5+1.1 dist:  \t1.6e+00\n",
      "G108.2-0.6 dist:  \t3.2e+00\n",
      "G344.7-0.1 dist:  \t6.3e+00\n",
      "G109.1-1.0 dist:  \t3.2e+00\n",
      "G33.6+0.1 dist:  \t5.7e+00\n",
      "G350.1-0.3 dist:  \t7.6e+00\n",
      "G32.8-0.1 dist:  \t4.8e+00\n",
      "G290.1-0.8 dist:  \t7.0e+00\n",
      "G205.5+0.5 dist:  \t1.8e+00\n",
      "G39.7-2.0 dist:  \t4.9e+00\n",
      "G111.7-2.1 dist:  \t3.3e+00\n",
      "G23.3-0.3 dist:  \t4.5e+00\n",
      "G21.8-0.6 dist:  \t5.4e+00\n",
      "G113.0+0.2 dist:  \t3.1e+00\n",
      "G119.5+10.2 dist:  \t1.4e+00\n",
      "G24.7-0.6 dist:  \t3.8e+00\n",
      "G46.8-0.3 dist:  \t8.6e+00\n",
      "G332.4-0.4 dist:  \t3.1e+00\n",
      "G29.7-0.3 dist:  \t5.6e+00\n",
      "G292.2-0.5 dist:  \t8.4e+00\n",
      "G348.5+0.1 dist:  \t8.0e+00\n",
      "G127.1+0.5 dist:  \t1.2e+00\n",
      "G93.3+6.9 dist:  \t2.2e+00\n",
      "G49.2-0.7 dist:  \t5.6e+00\n",
      "G35.6-0.4 dist:  \t3.8e+00\n",
      "G327.6+14.6 dist:  \t1.9e+00\n",
      "G11.0-0.0 dist:  \t2.4e+00\n",
      "G22.7-0.2 dist:  \t4.6e+00\n",
      "G120.1+1.4 dist:  \t2.3e+00\n",
      "G41.1-0.3 dist:  \t8.5e+00\n",
      "G27.4+0.0 dist:  \t8.7e+00\n",
      "G315.4-2.3 dist:  \t2.3e+00\n",
      "G57.2+0.8 dist:  \t1.2e+01\n",
      "G330.2+1.0 dist:  \t4.9e+00\n",
      "G5.4-1.2 dist:  \t4.3e+00\n",
      "G166.0+4.3 dist:  \t4.5e+00\n",
      "G116.9+0.2 dist:  \t1.6e+00\n",
      "G156.2+5.7 dist:  \t1.7e+00\n",
      "G78.2+2.1 dist:  \t2.1e+00\n",
      "G93.7-0.2 dist:  \t1.5e+00\n",
      "G43.3-0.2 dist:  \t1.1e+01\n",
      "G328.4+0.2 dist:  \t1.7e+01\n",
      "G67.7+1.8 dist:  \t3.6e+00\n",
      "G65.3+5.7 dist:  \t8.0e-01\n",
      "G189.1+3.0 dist:  \t1.9e+00\n",
      "G320.4-1.2 dist:  \t5.2e+00\n"
     ]
    }
   ],
   "source": [
    "for name, snr in dt.snrs_cut.items():\n",
    "    print(name+\" dist:  \\t%.1e\" % snr.get_distance())"
   ]
  },
  {
   "cell_type": "code",
   "execution_count": 33,
   "metadata": {},
   "outputs": [],
   "source": [
    "alphas = []\n",
    "sizes = []\n",
    "dists = []\n",
    "radii = []\n",
    "for name, snr in dt.snrs_cut.items():\n",
    "    \n",
    "    alpha = snr.alpha\n",
    "    alphas.append(alpha)\n",
    "    \n",
    "    sz = snr.get_size()\n",
    "    sizes.append(sz)\n",
    "    \n",
    "    d = snr.get_distance()\n",
    "    dists.append(d)\n",
    "    \n",
    "    r = snr.get_radius()\n",
    "    radii.append(r)\n",
    "    \n",
    "alphas = np.array(alphas)\n",
    "sizes = np.array(sizes)\n",
    "dists = np.array(dists)\n",
    "radii = np.array(radii)"
   ]
  },
  {
   "cell_type": "code",
   "execution_count": 34,
   "metadata": {},
   "outputs": [
    {
     "name": "stdout",
     "output_type": "stream",
     "text": [
      "/home/buenabad/Documents/codes/git_codes/snr_ghosts/workspace_notebooks/plots/snr_properties/GC_alpha_dist.pdf\n"
     ]
    },
    {
     "data": {
      "image/png": "[encoded data removed]",
      "text/plain": [
       "<Figure size 720x720 with 1 Axes>"
      ]
     },
     "metadata": {
      "image/png": {
       "height": 616,
       "width": 609
      },
      "needs_background": "light"
     },
     "output_type": "display_data"
    }
   ],
   "source": [
    "# figure properties\n",
    "title_sz = 20.\n",
    "label_sz = 15.\n",
    "legend_sz = 15.\n",
    "rcParams['figure.figsize'] = (10, 10)\n",
    "\n",
    "bins = np.linspace(0., 1., 11);\n",
    "plt.hist(alphas,\n",
    "         bins=bins,\n",
    "         alpha=0.3,\n",
    "         color='forestgreen',\n",
    "         ec='grey'\n",
    "        )\n",
    "\n",
    "title = \"Green's Catalogue\";\n",
    "plt.title(title, fontsize=title_sz);\n",
    "\n",
    "plt.ylabel(r\"\\# SNR\", fontsize=label_sz);\n",
    "plt.xlabel(r\"$\\alpha$\", fontsize=label_sz);\n",
    "plt.tick_params(\"both\", which=\"both\", labelsize=label_sz, direction=\"in\", length=10.);\n",
    "plt.legend(loc='best');\n",
    "\n",
    "file_name = current_dir+\"/plots/snr_properties/GC_alpha_dist.pdf\"\n",
    "print(file_name)\n",
    "\n",
    "# plt.savefig(file_name, bbox_inches=\"tight\")"
   ]
  },
  {
   "cell_type": "code",
   "execution_count": 35,
   "metadata": {},
   "outputs": [
    {
     "name": "stdout",
     "output_type": "stream",
     "text": [
      "/home/buenabad/Documents/codes/git_codes/snr_ghosts/workspace_notebooks/plots/snr_properties/GC_nu-fac_dist.pdf\n"
     ]
    },
    {
     "data": {
      "image/png": "[encoded data removed]",
      "text/plain": [
       "<Figure size 720x720 with 1 Axes>"
      ]
     },
     "metadata": {
      "image/png": {
       "height": 630,
       "width": 609
      },
      "needs_background": "light"
     },
     "output_type": "display_data"
    }
   ],
   "source": [
    "# figure properties\n",
    "title_sz = 20.\n",
    "label_sz = 15.\n",
    "legend_sz = 15.\n",
    "rcParams['figure.figsize'] = (10, 10)\n",
    "\n",
    "bins = np.linspace(0., 6., 13);\n",
    "\n",
    "nu_facs = ap.nu_factor(1., 8., alphas)\n",
    "\n",
    "plt.hist(nu_facs,\n",
    "         bins=bins,\n",
    "         alpha=0.3,\n",
    "         color='tomato',\n",
    "         ec='grey'\n",
    "        )\n",
    "\n",
    "title = \"Green's Catalogue\";\n",
    "plt.title(title, fontsize=title_sz);\n",
    "\n",
    "plt.ylabel(r\"\\# SNR\", fontsize=label_sz);\n",
    "plt.xlabel(r\"$\\bigg( \\frac{1\\,\\mathrm{GHz}}{8\\,\\mathrm{GHz}} \\bigg)^{-\\alpha}$\", fontsize=label_sz);\n",
    "plt.tick_params(\"both\", which=\"both\", labelsize=label_sz, direction=\"in\", length=10.);\n",
    "plt.legend(loc='best');\n",
    "\n",
    "file_name = current_dir+\"/plots/snr_properties/GC_nu-fac_dist.pdf\"\n",
    "print(file_name)\n",
    "\n",
    "# plt.savefig(file_name, bbox_inches=\"tight\")"
   ]
  },
  {
   "cell_type": "code",
   "execution_count": 36,
   "metadata": {},
   "outputs": [
    {
     "name": "stdout",
     "output_type": "stream",
     "text": [
      "No. of distances: 90\n",
      "mean:\t4.74627777778 kpc\n",
      "std:\t3.26770727993 kpc\n",
      "min:\t0.275 kpc\n",
      "max:\t17.4 kpc\n"
     ]
    }
   ],
   "source": [
    "# computing the mean, std, min, and max of the SNR distances\n",
    "\n",
    "dists = np.array([snr.distance for name, snr in dt.snrs_dct.items() if not snr.no_dist])\n",
    "\n",
    "print(\"No. of distances: {}\".format(len(dists)))\n",
    "print(\"mean:\\t{} kpc\\nstd:\\t{} kpc\\nmin:\\t{} kpc\\nmax:\\t{} kpc\".format(dists.mean(), dists.std(), dists.min(), dists.max()))"
   ]
  },
  {
   "cell_type": "code",
   "execution_count": 37,
   "metadata": {},
   "outputs": [
    {
     "name": "stdout",
     "output_type": "stream",
     "text": [
      "No. of distances: 72\n",
      "mean:\t5.12152777778 kpc\n",
      "std:\t3.35237091048 kpc\n",
      "min:\t0.7 kpc\n",
      "max:\t17.4 kpc\n"
     ]
    }
   ],
   "source": [
    "# computing the mean, std, min, and max of the SNR distances with certain flux\n",
    "\n",
    "dists = np.array([snr.distance for name, snr in dt.snrs_cut.items()])\n",
    "\n",
    "print(\"No. of distances: {}\".format(len(dists)))\n",
    "print(\"mean:\\t{} kpc\\nstd:\\t{} kpc\\nmin:\\t{} kpc\\nmax:\\t{} kpc\".format(dists.mean(), dists.std(), dists.min(), dists.max()))"
   ]
  },
  {
   "cell_type": "code",
   "execution_count": 38,
   "metadata": {},
   "outputs": [
    {
     "name": "stdout",
     "output_type": "stream",
     "text": [
      "/home/buenabad/Documents/codes/git_codes/snr_ghosts/workspace_notebooks/plots/snr_properties/GC_D_dist.pdf\n"
     ]
    },
    {
     "data": {
      "image/png": "[encoded data removed]",
      "text/plain": [
       "<Figure size 720x720 with 1 Axes>"
      ]
     },
     "metadata": {
      "image/png": {
       "height": 616,
       "width": 609
      },
      "needs_background": "light"
     },
     "output_type": "display_data"
    }
   ],
   "source": [
    "# figure properties\n",
    "title_sz = 20.\n",
    "label_sz = 15.\n",
    "legend_sz = 15.\n",
    "rcParams['figure.figsize'] = (10, 10)\n",
    "\n",
    "bins = np.linspace(0., 20., 21);\n",
    "plt.hist(dists,\n",
    "         bins=bins,\n",
    "         alpha=0.3,\n",
    "         color='dodgerblue',\n",
    "         ec='grey'\n",
    "        )\n",
    "\n",
    "title = \"Green's Catalogue\";\n",
    "plt.title(title, fontsize=title_sz);\n",
    "\n",
    "plt.ylabel(r\"\\# SNR\", fontsize=label_sz);\n",
    "plt.xlabel(r\"$D$\", fontsize=label_sz);\n",
    "plt.tick_params(\"both\", which=\"both\", labelsize=label_sz, direction=\"in\", length=10.);\n",
    "plt.legend(loc='best');\n",
    "\n",
    "file_name = current_dir+\"/plots/snr_properties/GC_D_dist.pdf\"\n",
    "print(file_name)\n",
    "\n",
    "# plt.savefig(file_name, bbox_inches=\"tight\")"
   ]
  },
  {
   "cell_type": "code",
   "execution_count": 39,
   "metadata": {},
   "outputs": [
    {
     "name": "stdout",
     "output_type": "stream",
     "text": [
      "/home/buenabad/Documents/codes/git_codes/snr_ghosts/workspace_notebooks/plots/snr_properties/GC_size_dist.pdf\n"
     ]
    },
    {
     "data": {
      "image/png": "[encoded data removed]",
      "text/plain": [
       "<Figure size 720x720 with 1 Axes>"
      ]
     },
     "metadata": {
      "image/png": {
       "height": 616,
       "width": 609
      },
      "needs_background": "light"
     },
     "output_type": "display_data"
    }
   ],
   "source": [
    "# figure properties\n",
    "title_sz = 20.\n",
    "label_sz = 15.\n",
    "legend_sz = 15.\n",
    "rcParams['figure.figsize'] = (10, 10)\n",
    "\n",
    "bins = np.linspace(-9, -2, 20);\n",
    "plt.hist(log10(sizes),\n",
    "         bins=bins,\n",
    "         alpha=0.3,\n",
    "         color='indigo',\n",
    "         ec='grey'\n",
    "        )\n",
    "\n",
    "title = \"Green's Catalogue\";\n",
    "plt.title(title, fontsize=title_sz);\n",
    "\n",
    "plt.ylabel(r\"\\# SNR\", fontsize=label_sz);\n",
    "plt.xlabel(r\"$\\log_{10} \\Omega$\", fontsize=label_sz);\n",
    "plt.tick_params(\"both\", which=\"both\", labelsize=label_sz, direction=\"in\", length=10.);\n",
    "plt.legend(loc='best');\n",
    "\n",
    "file_name = current_dir+\"/plots/snr_properties/GC_size_dist.pdf\"\n",
    "print(file_name)\n",
    "\n",
    "# plt.savefig(file_name, bbox_inches=\"tight\")"
   ]
  },
  {
   "cell_type": "code",
   "execution_count": 40,
   "metadata": {},
   "outputs": [
    {
     "name": "stdout",
     "output_type": "stream",
     "text": [
      "/home/buenabad/Documents/codes/git_codes/snr_ghosts/workspace_notebooks/plots/snr_properties/GC_radii_dist.pdf\n"
     ]
    },
    {
     "data": {
      "image/png": "[encoded data removed]",
      "text/plain": [
       "<Figure size 720x720 with 1 Axes>"
      ]
     },
     "metadata": {
      "image/png": {
       "height": 616,
       "width": 609
      },
      "needs_background": "light"
     },
     "output_type": "display_data"
    }
   ],
   "source": [
    "# figure properties\n",
    "title_sz = 20.\n",
    "label_sz = 15.\n",
    "legend_sz = 15.\n",
    "rcParams['figure.figsize'] = (10, 10)\n",
    "\n",
    "bins = np.linspace(0, 2, 15);\n",
    "plt.hist(log10(radii),\n",
    "         bins=bins,\n",
    "         alpha=0.3,\n",
    "         color='C1',\n",
    "         ec='grey'\n",
    "        )\n",
    "\n",
    "title = \"Green's Catalogue\";\n",
    "plt.title(title, fontsize=title_sz);\n",
    "\n",
    "plt.ylabel(r\"\\# SNR\", fontsize=label_sz);\n",
    "plt.xlabel(r\"$\\log_{10} R$\", fontsize=label_sz);\n",
    "plt.tick_params(\"both\", which=\"both\", labelsize=label_sz, direction=\"in\", length=10.);\n",
    "plt.legend(loc='best');\n",
    "\n",
    "file_name = current_dir+\"/plots/snr_properties/GC_radii_dist.pdf\"\n",
    "print(file_name)"
   ]
  },
  {
   "cell_type": "markdown",
   "metadata": {},
   "source": [
    "## 4. Time estimation"
   ]
  },
  {
   "cell_type": "code",
   "execution_count": 9,
   "metadata": {},
   "outputs": [
    {
     "data": {
      "text/plain": [
       "{'age': 321.0,\n",
       " 'alpha': 0.77,\n",
       " 'ang_size': 5.0,\n",
       " 'b': -2.1,\n",
       " 'distance': 3.3,\n",
       " 'is_complete': False,\n",
       " 'is_flux_certain': True,\n",
       " 'is_spectral_certain': True,\n",
       " 'is_type_certain': True,\n",
       " 'l': 111.7,\n",
       " 'name': 'G111.7-2.1',\n",
       " 'no_dist': False,\n",
       " 'no_flux': False,\n",
       " 'radius': 2.3998277214922035,\n",
       " 'snu_at_1GHz': 2300.0,\n",
       " 'sr': 1.6614302187698022e-06,\n",
       " 'type': 'S'}"
      ]
     },
     "execution_count": 9,
     "metadata": {},
     "output_type": "execute_result"
    }
   ],
   "source": [
    "# Also called Cassiopeia A\n",
    "CasA = 'G111.7-2.1'\n",
    "dt.snrs_cut[CasA].__dict__"
   ]
  },
  {
   "cell_type": "code",
   "execution_count": 10,
   "metadata": {},
   "outputs": [
    {
     "data": {
      "text/plain": [
       "{'age': 54772.25575051661,\n",
       " 'alpha': 0.7,\n",
       " 'ang_size': 84.8528137423857,\n",
       " 'b': -2.0,\n",
       " 'distance': 4.9,\n",
       " 'is_complete': False,\n",
       " 'is_flux_certain': False,\n",
       " 'is_spectral_certain': False,\n",
       " 'is_type_certain': False,\n",
       " 'l': 39.7,\n",
       " 'name': 'G39.7-2.0',\n",
       " 'no_dist': False,\n",
       " 'no_flux': False,\n",
       " 'radius': 60.47257332493333,\n",
       " 'snu_at_1GHz': 85.0,\n",
       " 'sr': 0.0004784858509023251}"
      ]
     },
     "execution_count": 10,
     "metadata": {},
     "output_type": "execute_result"
    }
   ],
   "source": [
    "# Also called W50\n",
    "W50 = 'G39.7-2.0'\n",
    "dt.snrs_cut[W50].__dict__"
   ]
  },
  {
   "cell_type": "code",
   "execution_count": 11,
   "metadata": {},
   "outputs": [
    {
     "data": {
      "text/plain": [
       "{'age': 34467.37587922817,\n",
       " 'ang_size': 48.0,\n",
       " 'b': -0.1,\n",
       " 'distance': 1.9,\n",
       " 'is_complete': False,\n",
       " 'is_flux_certain': True,\n",
       " 'is_spectral_certain': False,\n",
       " 'is_type_certain': True,\n",
       " 'l': 6.4,\n",
       " 'name': 'G6.4-0.1',\n",
       " 'no_dist': False,\n",
       " 'no_flux': False,\n",
       " 'radius': 13.264502315156903,\n",
       " 'snu_at_1GHz': 310.0,\n",
       " 'sr': 0.00015311679381005744,\n",
       " 'type': 'C'}"
      ]
     },
     "execution_count": 11,
     "metadata": {},
     "output_type": "execute_result"
    }
   ],
   "source": [
    "# Also called W28\n",
    "W28 = 'G6.4-0.1'\n",
    "dt.snrs_dct[W28].__dict__"
   ]
  },
  {
   "cell_type": "markdown",
   "metadata": {},
   "source": [
    "### 4.1 Age model"
   ]
  },
  {
   "cell_type": "code",
   "execution_count": 13,
   "metadata": {},
   "outputs": [
    {
     "name": "stdout",
     "output_type": "stream",
     "text": [
      "Help on function age_from_radius in module data:\n",
      "\n",
      "age_from_radius(R, method=None, **kwargs)\n",
      "    Computes the age [years] of a SNR based on its radius [pc].\n",
      "\n"
     ]
    }
   ],
   "source": [
    "help(dt.age_from_radius)"
   ]
  },
  {
   "cell_type": "code",
   "execution_count": 14,
   "metadata": {},
   "outputs": [
    {
     "name": "stdout",
     "output_type": "stream",
     "text": [
      "Help on function pheno_age in module astro:\n",
      "\n",
      "pheno_age(R, Rst=3.8, tst=360.0, eta1=1.0, eta2=0.4)\n",
      "    SNR age [years] as deduced from a phenomenological broken power-law function of the SNR blast radius [pc]. The default values are taken from Tables 2 & 3 of the Truelove-McKee '99 paper for n=0 ejecta, with M_ej = 1 M_sun, E_sn = 1.e51 erg, and n0 = 0.2 cm^-3.\n",
      "    \n",
      "    Parameters\n",
      "    ----------\n",
      "    R : SNR radius [pc]\n",
      "    Rst : radius [pc] at the start of the Sedov-Taylor (adiabatic) expansion phase (default: 3.8)\n",
      "    tst : age [years] at the start of the Sedov-Taylor (adiabatic) expansion phase (default 360.)\n",
      "    eta1 : the power scaling R~t^eta1 during the Ejecta-Dominated phase (default: 1.)\n",
      "    eta2 : the power scaling R`t^eta2 during the Sedov-Taylor expansion phase (default: 2/5 = 0.4)\n",
      "\n"
     ]
    }
   ],
   "source": [
    "help(dt.pheno_age)"
   ]
  },
  {
   "cell_type": "code",
   "execution_count": 15,
   "metadata": {},
   "outputs": [
    {
     "name": "stdout",
     "output_type": "stream",
     "text": [
      "Help on function physics_age in module astro:\n",
      "\n",
      "physics_age(R, model='estimate', M_ej=1.0, E_sn=1.0, rho0=1.0)\n",
      "    SNR age [years] as deduced from a physically-motivated a function of the SNR blast radius [pc]. Using either a simple model, or formulas by Truelove & McKee 1999 (TM99).\n",
      "    \n",
      "    Parameters\n",
      "    ----------\n",
      "    R : SNR radius today [pc]\n",
      "    model : 'estimate'/'TM99-simple'/TM99-0'': whether the simple one-phase 'estimate' model is used, or instead the two-phase Truelove-McKee model (ED-ST, or Ejecta-Dominated -- Sedov-Taylor), either in a simplified form, or for n=0 (uniform) ejecta profile.\n",
      "    M_ej : Mass of the ejecta [M_sun] (default: 1.)\n",
      "    E_sn : Energy of the SNR [1.e51 ergs] (default: 1.)\n",
      "    rho0 : Mass density of surrounding medium [m_proton/cm^3] (default: 1.)\n",
      "\n"
     ]
    }
   ],
   "source": [
    "help(dt.physics_age)"
   ]
  },
  {
   "cell_type": "code",
   "execution_count": 17,
   "metadata": {},
   "outputs": [
    {
     "data": {
      "image/png": "[encoded data removed]",
      "text/plain": [
       "<Figure size 432x288 with 1 Axes>"
      ]
     },
     "metadata": {
      "image/png": {
       "height": 250,
       "width": 378
      },
      "needs_background": "light"
     },
     "output_type": "display_data"
    }
   ],
   "source": [
    "R_arr = np.logspace(-1, 2)\n",
    "\n",
    "tarr = np.array([dt.age_from_radius(R, method='TM99-0') for R in R_arr])\n",
    "tarr2 = np.array([dt.age_from_radius(R, method='TM99-simple') for R in R_arr])\n",
    "tarr3 = np.array([dt.age_from_radius(R, method=\"pheno\") for R in R_arr])\n",
    "tarr4 = np.array([dt.age_from_radius(R, method=\"lin\") for R in R_arr])\n",
    "tarr5 = np.array([dt.age_from_radius(R, method=\"log\") for R in R_arr])\n",
    "\n",
    "plt.loglog(tarr, R_arr, label=\"TM99-0\")\n",
    "plt.loglog(tarr2, R_arr, label=\"TM99-simple\")\n",
    "plt.loglog(tarr3, R_arr, label=\"pheno\")\n",
    "plt.loglog(tarr4, R_arr, label=\"lin\")\n",
    "plt.loglog(tarr5, R_arr, label=\"log\")\n",
    "\n",
    "plt.legend();"
   ]
  },
  {
   "cell_type": "markdown",
   "metadata": {},
   "source": [
    "### 4.2 Results"
   ]
  },
  {
   "cell_type": "code",
   "execution_count": 19,
   "metadata": {},
   "outputs": [
    {
     "name": "stdout",
     "output_type": "stream",
     "text": [
      " CasA: R=2.39982772149 pc, age=321.0 years\n",
      "estimate 1001.2986332109173\n",
      "TM99-simple 398.87284747294626\n",
      "TM99-0 414.8788657309189\n",
      "pheno 227.3520999308403\n",
      "TM99-0 414.8788657309189\n",
      "TM99-0 414.8788657309189\n"
     ]
    }
   ],
   "source": [
    "snr = dt.snrs_cut[CasA]\n",
    "\n",
    "RCasA = snr.get_radius()\n",
    "print 'CasA: R={} pc, age={} years'.format(RCasA, snr.age)\n",
    "\n",
    "# rho0 and M_ej values from TM99 Table 1\n",
    "print 'estimate', dt.age_from_radius(RCasA, method='estimate', rho0=3.2, M_ej=3.)\n",
    "print 'TM99-simple', dt.age_from_radius(RCasA, method='TM99-simple', rho0=3.2, M_ej=3.)\n",
    "print 'TM99-0', dt.age_from_radius(RCasA, method='TM99-0', rho0=3.2, M_ej=3.)\n",
    "print 'pheno', dt.age_from_radius(RCasA, method=\"pheno\")\n",
    "print 'TM99-0', dt.age_from_radius(RCasA, method='TM99-0', rho0=3.2, M_ej=3.)\n",
    "print 'TM99-0', dt.age_from_radius(RCasA, method='TM99-0', rho0=3.2, M_ej=3.)\n",
    "\n",
    "del snr"
   ]
  },
  {
   "cell_type": "code",
   "execution_count": 20,
   "metadata": {},
   "outputs": [
    {
     "name": "stdout",
     "output_type": "stream",
     "text": [
      "SNR G292.0+1.8:\n",
      "\tR=8.55033220108 pc, age=2989.39793269 years\n",
      "\n",
      "\testimate 13412.073998874135\n",
      "\tTM99-simple 5342.773842897987\n",
      "\tTM99-0 3931.8989428356535\n",
      "\tpheno 2734.015550048003\n",
      "\tlin 8447.301257246978\n",
      "\tlog 5317.556415296787\n",
      "\n",
      "\n",
      "SNR G18.9-1.1:\n",
      "\tR=8.63937979737 pc, age=4132.79566395 years\n",
      "\n",
      "\testimate 13764.007040744913\n",
      "\tTM99-simple 5482.968316229746\n",
      "\tTM99-0 4033.0866272917515\n",
      "\tpheno 2805.756162956284\n",
      "\tlin 8533.520566028466\n",
      "\tlog 5378.022817486892\n",
      "\n",
      "\n",
      "SNR G323.7-1.0:\n",
      "\tR=22.4099584982 pc, age=13856.4064606 years\n",
      "\n",
      "\testimate 149156.12786234877\n",
      "\tTM99-simple 59417.168330401444\n",
      "\tTM99-0 42960.98929511924\n",
      "\tpheno 30405.079258796373\n",
      "\tlin 21866.72467862528\n",
      "\tlog 15219.095999027879\n",
      "\n",
      "\n",
      "SNR G31.9+0.0:\n",
      "\tR=6.10925836902 pc, age=7884.16133777 years\n",
      "\n",
      "\testimate 5787.749163688724\n",
      "\tTM99-simple 2305.581884174409\n",
      "\tTM99-0 1739.755313716591\n",
      "\tpheno 1179.8172463580672\n",
      "\tlin 6083.759654257245\n",
      "\tlog 3684.5428770112\n",
      "\n",
      "\n",
      "SNR G34.7-0.4:\n",
      "\tR=11.4012431087 pc, age=8385.1058431 years\n",
      "\n",
      "\testimate 27537.149689746137\n",
      "\tTM99-simple 10969.575852526044\n",
      "\tTM99-0 7993.136541694673\n",
      "\tpheno 5613.3745953150465\n",
      "\tlin 11207.662885005422\n",
      "\tlog 7279.390789317865\n",
      "\n",
      "\n",
      "SNR G49.2-0.7:\n",
      "\tR=24.2164433714 pc, age=17181.3852759 years\n",
      "\n",
      "\testimate 181056.6031744196\n",
      "\tTM99-simple 72124.89907269031\n",
      "\tTM99-0 52133.00455324477\n",
      "\tpheno 36907.906156742625\n",
      "\tlin 23615.832836234724\n",
      "\tlog 16562.780821333916\n",
      "\n",
      "\n",
      "SNR G180.0-1.7:\n",
      "\tR=31.4159265359 pc, age=29732.1374946 years\n",
      "\n",
      "\testimate 347066.86390646506\n",
      "\tTM99-simple 138256.00443091465\n",
      "\tTM99-0 99864.22578252722\n",
      "\tpheno 70748.65549551272\n",
      "\tlin 30586.64943170821\n",
      "\tlog 22003.760696238514\n",
      "\n",
      "\n",
      "SNR G304.6+0.1:\n",
      "\tR=11.2864624962 pc, age=11313.708499 years\n",
      "\n",
      "\testimate 26849.30675712\n",
      "\tTM99-simple 10695.569816713409\n",
      "\tTM99-0 7795.368144467893\n",
      "\tpheno 5473.159646161886\n",
      "\tlin 11096.527879919726\n",
      "\tlog 7199.450078140163\n",
      "\n",
      "\n",
      "SNR G109.1-1.0:\n",
      "\tR=13.0317917482 pc, age=11099.5495404 years\n",
      "\n",
      "\testimate 38463.499763024825\n",
      "\tTM99-simple 15322.147824225607\n",
      "\tTM99-0 11134.6774939015\n",
      "\tpheno 7840.681945999189\n",
      "\tlin 12786.422812155723\n",
      "\tlog 8422.654158778472\n",
      "\n",
      "\n",
      "SNR G205.5+0.5:\n",
      "\tR=57.5958653158 pc, age=67082.039325 years\n",
      "\n",
      "\testimate 1579489.4828410863\n",
      "\tTM99-simple 629198.3696752802\n",
      "\tTM99-0 454210.0138858827\n",
      "\tpheno 321974.72274514043\n",
      "\tlin 55935.07341524813\n",
      "\tlog 42636.422933787086\n",
      "\n",
      "\n",
      "SNR G39.7-2.0:\n",
      "\tR=60.4725733249 pc, age=54772.2557505 years\n",
      "\n",
      "\testimate 1784163.2692559066\n",
      "\tTM99-simple 710731.3042889561\n",
      "\tTM99-0 513057.7606222681\n",
      "\tpheno 363696.9287807097\n",
      "\tlin 58720.412789226124\n",
      "\tlog 44965.67788970063\n",
      "\n",
      "\n",
      "SNR G23.3-0.3:\n",
      "\tR=17.6714586764 pc, age=109544.511501 years\n",
      "\n",
      "\testimate 82360.59368092866\n",
      "\tTM99-simple 32808.79792647677\n",
      "\tTM99-0 23755.956997220816\n",
      "\tpheno 16788.987583407798\n",
      "\tlin 17278.726840349736\n",
      "\tlog 11743.500913760761\n",
      "\n",
      "\n",
      "SNR G74.9+1.2:\n",
      "\tR=6.14676451213 pc, age=10583.0052443 years\n",
      "\n",
      "\testimate 5876.9894067138775\n",
      "\tTM99-simple 2341.131228459915\n",
      "\tTM99-0 1765.4136420850016\n",
      "\tpheno 1198.0086321304186\n",
      "\tlin 6120.0745450349705\n",
      "\tlog 3709.235999069629\n",
      "\n",
      "\n",
      "SNR G127.1+0.5:\n",
      "\tR=8.18123086872 pc, age=24494.8974278 years\n",
      "\n",
      "\testimate 12011.163827384822\n",
      "\tTM99-simple 4784.713529399039\n",
      "\tTM99-0 3529.1096632884237\n",
      "\tpheno 2448.4437441219643\n",
      "\tlin 8089.923146316517\n",
      "\tlog 5067.543029820564\n",
      "\n",
      "\n",
      "SNR G6.4-0.1:\n",
      "\tR=13.2645023152 pc, age=34467.3758792 years\n",
      "\n",
      "\testimate 40203.68572998436\n",
      "\tTM99-simple 16015.360526961193\n",
      "\tTM99-0 11635.015250150827\n",
      "\tpheno 8195.414218878246\n",
      "\tlin 13011.742136453853\n",
      "\tlog 8586.928605255423\n",
      "\n",
      "\n",
      "SNR G85.9-0.6:\n",
      "\tR=16.7551608191 pc, age=17708.7548969 years\n",
      "\n",
      "\testimate 72095.80101182437\n",
      "\tTM99-simple 28719.76100497867\n",
      "\tTM99-0 20804.62683484875\n",
      "\tpheno 14696.536946936081\n",
      "\tlin 16391.53200092584\n",
      "\tlog 11080.563327124575\n",
      "\n",
      "\n",
      "SNR G263.9-3.3:\n",
      "\tR=10.1992678163 pc, age=15588.4572681 years\n",
      "\n",
      "\testimate 20843.035072432307\n",
      "\tTM99-simple 8302.938277923666\n",
      "\tTM99-0 6068.446680211296\n",
      "\tpheno 4248.7971661213205\n",
      "\tlin 10043.864161714388\n",
      "\tlog 6446.038281978065\n",
      "\n",
      "\n",
      "SNR G41.1-0.3:\n",
      "\tR=4.14659202874 pc, age=2674.88317502 years\n",
      "\n",
      "\testimate 2196.679722054192\n",
      "\tTM99-simple 875.0595143749404\n",
      "\tTM99-0 707.2520864309118\n",
      "\tpheno 447.78730859041195\n",
      "\tlin 4183.43059122938\n",
      "\tlog 2413.878921420952\n",
      "\n",
      "\n",
      "SNR G69.0+2.7:\n",
      "\tR=35.4883614572 pc, age=613.0 years\n",
      "\n",
      "\testimate 470709.9075733714\n",
      "\tTM99-simple 187509.8945910267\n",
      "\tTM99-0 135414.03725022133\n",
      "\tpheno 95952.96051716436\n",
      "\tlin 34529.737606925526\n",
      "\tlog 25134.355610250692\n",
      "\n",
      "\n",
      "SNR G156.2+5.7:\n",
      "\tR=27.1980475102 pc, age=16006.2487798 years\n",
      "\n",
      "\testimate 242037.5733020111\n",
      "\tTM99-simple 96417.00573267353\n",
      "\tTM99-0 69666.23510839966\n",
      "\tpheno 49338.71444186268\n",
      "\tlin 26502.736678804547\n",
      "\tlog 18800.364305475\n",
      "\n",
      "\n",
      "SNR G78.2+2.1:\n",
      "\tR=18.7622894589 pc, age=11313.708499 years\n",
      "\n",
      "\testimate 95664.99417535632\n",
      "\tTM99-simple 38108.67943347071\n",
      "\tTM99-0 27581.234305516246\n",
      "\tpheno 19501.054176455586\n",
      "\tlin 18334.911172997236\n",
      "\tlog 12536.805315004076\n",
      "\n",
      "\n",
      "SNR G27.4+0.0:\n",
      "\tR=5.03236600992 pc, age=1254.9900398 years\n",
      "\n",
      "\testimate 3564.257077375043\n",
      "\tTM99-simple 1419.8415162309693\n",
      "\tTM99-0 1100.4575244992116\n",
      "\tpheno 726.564308751207\n",
      "\tlin 5041.0710394074085\n",
      "\tlog 2981.780615521683\n",
      "\n",
      "\n",
      "SNR G67.7+1.8:\n",
      "\tR=7.02481473104 pc, age=4415.88043316 years\n",
      "\n",
      "\testimate 8205.889357564662\n",
      "\tTM99-simple 3268.861402121086\n",
      "\tTM99-0 2435.018269442028\n",
      "\tpheno 1672.74868207844\n",
      "\tlin 6970.236549422045\n",
      "\tlog 4291.103240316264\n",
      "\n",
      "\n",
      "SNR G65.3+5.7:\n",
      "\tR=31.7374899464 pc, age=20000.0 years\n",
      "\n",
      "\testimate 356016.3231293785\n",
      "\tTM99-simple 141821.07100065466\n",
      "\tTM99-0 102437.37166018377\n",
      "\tpheno 72572.97891350318\n",
      "\tlin 30897.999497660436\n",
      "\tlog 22249.66886362333\n",
      "\n",
      "\n",
      "SNR G189.1+3.0:\n",
      "\tR=12.4354709205 pc, age=9486.83298051 years\n",
      "\n",
      "\testimate 34213.22870106145\n",
      "\tTM99-simple 13629.028843746484\n",
      "\tTM99-0 9912.64081105789\n",
      "\tpheno 6974.275514279355\n",
      "\tlin 12209.042043641759\n",
      "\tlog 8002.933424304669\n",
      "\n",
      "\n",
      "SNR G349.7+0.2:\n",
      "\tR=3.74006339847 pc, age=2362.2023622 years\n",
      "\n",
      "\testimate 1697.2111645009904\n",
      "\tTM99-simple 676.0934525362389\n",
      "\tTM99-0 563.6450339962274\n",
      "\tpheno 354.3217956445981\n",
      "\tlin 3789.8139304677056\n",
      "\tlog 2156.802255034093\n",
      "\n",
      "\n",
      "SNR G296.8-0.3:\n",
      "\tR=23.3639554925 pc, age=4690.41575982 years\n",
      "\n",
      "\testimate 165540.55062597935\n",
      "\tTM99-simple 65943.99374009241\n",
      "\tTM99-0 47671.833698328934\n",
      "\tpheno 33745.00018512636\n",
      "\tlin 22790.42127297017\n",
      "\tlog 15927.505826541785\n",
      "\n",
      "\n",
      "SNR G54.4-0.3:\n",
      "\tR=38.3972435439 pc, age=61000.0 years\n",
      "\n",
      "\testimate 573176.7832671333\n",
      "\tTM99-simple 228328.14114007395\n",
      "\tTM99-0 164875.28314457362\n",
      "\tpheno 116840.56011847114\n",
      "\tlin 37346.22916065219\n",
      "\tlog 27390.925343970917\n",
      "\n",
      "\n",
      "SNR G35.6-0.4:\n",
      "\tR=7.09940071993 pc, age=2300.0 years\n",
      "\n",
      "\testimate 8425.44204198579\n",
      "\tTM99-simple 3356.3214280321963\n",
      "\tTM99-0 2498.143992547197\n",
      "\tpheno 1717.503911829821\n",
      "\tlin 7042.45357351861\n",
      "\tlog 4340.84923841733\n",
      "\n",
      "\n",
      "SNR G39.2-0.3:\n",
      "\tR=8.56516366444 pc, age=4943.68283772 years\n",
      "\n",
      "\testimate 13470.311369386605\n",
      "\tTM99-simple 5365.973021479861\n",
      "\tTM99-0 3948.6433344382267\n",
      "\tpheno 2745.8870828615263\n",
      "\tlin 8461.661650703698\n",
      "\tlog 5327.623517180366\n",
      "\n",
      "\n",
      "SNR G89.0+4.7:\n",
      "\tR=20.4052428476 pc, age=9295.1600309 years\n",
      "\n",
      "\testimate 118002.95671554936\n",
      "\tTM99-simple 47007.130334755355\n",
      "\tTM99-0 34003.83871030264\n",
      "\tpheno 24054.58832385173\n",
      "\tlin 19925.681855540177\n",
      "\tlog 13739.547115912854\n",
      "\n",
      "\n",
      "SNR G4.5+6.8:\n",
      "\tR=1.37444678595 pc, age=417.0 years\n",
      "\n",
      "\testimate 138.94991803407217\n",
      "\tTM99-simple 108.21609873521848\n",
      "\tTM99-0 107.61600953491259\n",
      "\tpheno 130.21074814220853\n",
      "\tlin 1499.3329105961354\n",
      "\tlog 723.3567457945693\n",
      "\n",
      "\n",
      "SNR G260.4-3.4:\n",
      "\tR=10.3561921839 pc, age=3446.73758792 years\n",
      "\n",
      "\testimate 21654.029436246234\n",
      "\tTM99-simple 8626.002367346851\n",
      "\tTM99-0 6301.6235406306905\n",
      "\tpheno 4414.116206402092\n",
      "\tlin 10195.804371952912\n",
      "\tlog 6554.349852908461\n",
      "\n",
      "\n",
      "SNR G21.5-0.9:\n",
      "\tR=3.19977029532 pc, age=1670.32930885 years\n",
      "\n",
      "\testimate 1149.0408684462598\n",
      "\tTM99-simple 457.72678385690426\n",
      "\tTM99-0 406.0352720638497\n",
      "\tpheno 303.13613324112026\n",
      "\tlin 3266.681360559613\n",
      "\tlog 1819.120567108248\n",
      "\n",
      "\n",
      "SNR G344.7-0.1:\n",
      "\tR=7.33038285838 pc, age=4242.64068712 years\n",
      "\n",
      "\testimate 9127.568791420925\n",
      "\tTM99-simple 3636.01750125666\n",
      "\tTM99-0 2700.0192685723277\n",
      "\tpheno 1860.6305789822281\n",
      "\tlin 7266.099366851469\n",
      "\tlog 4495.206441088696\n",
      "\n",
      "\n",
      "SNR G32.8-0.1:\n",
      "\tR=12.6821921468 pc, age=11198.2141433 years\n",
      "\n",
      "\testimate 35935.54964752208\n",
      "\tTM99-simple 14315.124916777222\n",
      "\tTM99-0 10407.8420218796\n",
      "\tpheno 7325.366050328588\n",
      "\tlin 12447.92702739277\n",
      "\tlog 8176.370285355226\n",
      "\n",
      "\n",
      "SNR G290.1-0.8:\n",
      "\tR=16.6048508841 pc, age=14142.1356237 years\n",
      "\n",
      "\testimate 70489.74175165739\n",
      "\tTM99-simple 28079.978417581322\n",
      "\tTM99-0 20342.853149798648\n",
      "\tpheno 14369.146045874579\n",
      "\tlin 16245.996138697079\n",
      "\tlog 10972.125839119053\n",
      "\n",
      "\n",
      "SNR G111.7-2.1:\n",
      "\tR=2.39982772149 pc, age=321.0 years\n",
      "\n",
      "\testimate 559.7429524093099\n",
      "\tTM99-simple 222.97670033210343\n",
      "\tTM99-0 235.7673620287911\n",
      "\tpheno 227.3520999308403\n",
      "\tlin 2492.146183284783\n",
      "\tlog 1328.9597277490655\n",
      "\n",
      "\n",
      "SNR G292.2-0.5:\n",
      "\tR=21.1609925827 pc, age=5460.76917659 years\n",
      "\n",
      "\testimate 129234.52687091616\n",
      "\tTM99-simple 51481.28841394621\n",
      "\tTM99-0 37233.13645053889\n",
      "\tpheno 26344.11397505273\n",
      "\tlin 20657.427826061656\n",
      "\tlog 14295.824556773212\n",
      "\n",
      "\n",
      "SNR G348.5+0.1:\n",
      "\tR=17.4532925199 pc, age=13416.407865 years\n",
      "\n",
      "\testimate 79842.08852186461\n",
      "\tTM99-simple 31805.537469654035\n",
      "\tTM99-0 23031.83713629001\n",
      "\tpheno 16275.59701694245\n",
      "\tlin 17067.489973820244\n",
      "\tlog 11585.367483742775\n",
      "\n",
      "\n",
      "SNR G93.3+6.9:\n",
      "\tR=7.43559423928 pc, age=5916.0797831 years\n",
      "\n",
      "\testimate 9458.61776645413\n",
      "\tTM99-simple 3767.8926910799496\n",
      "\tTM99-0 2795.2023722874746\n",
      "\tpheno 1928.1140305083852\n",
      "\tlin 7367.969073789642\n",
      "\tlog 4565.663740906967\n",
      "\n",
      "\n",
      "SNR G74.0-8.5:\n",
      "\tR=20.646752445 pc, age=14142.1356237 years\n",
      "\n",
      "\testimate 121525.62024718507\n",
      "\tTM99-simple 48410.4028320391\n",
      "\tTM99-0 35016.673890510145\n",
      "\tpheno 24772.673899124264\n",
      "\tlin 20159.520739649655\n",
      "\tlog 13917.111490498106\n",
      "\n",
      "\n",
      "SNR G315.4-2.3:\n",
      "\tR=14.0499004786 pc, age=1836.0 years\n",
      "\n",
      "\testimate 46421.758689682545\n",
      "\tTM99-simple 18492.364274859956\n",
      "\tTM99-0 13422.833754563804\n",
      "\tpheno 9462.951824514399\n",
      "\tlin 13772.19485596005\n",
      "\tlog 9143.275942879844\n",
      "\n",
      "\n",
      "SNR G57.2+0.8:\n",
      "\tR=21.8166156499 pc, age=38987.1773792 years\n",
      "\n",
      "\testimate 139478.38859409757\n",
      "\tTM99-simple 55561.987377392965\n",
      "\tTM99-0 40178.448553509195\n",
      "\tpheno 28432.29789396567\n",
      "\tlin 21292.227304410233\n",
      "\tlog 14779.87733344044\n",
      "\n",
      "\n",
      "SNR G353.6-0.7:\n",
      "\tR=13.962634016 pc, age=27000.0 years\n",
      "\n",
      "\testimate 45704.2783745139\n",
      "\tTM99-simple 18206.552023824162\n",
      "\tTM99-0 13216.544025844887\n",
      "\tpheno 9316.695373894681\n",
      "\tlin 13687.700109348252\n",
      "\tlog 9081.316218347847\n",
      "\n",
      "\n",
      "SNR G116.9+0.2:\n",
      "\tR=7.91215927571 pc, age=11651.1801977 years\n",
      "\n",
      "\testimate 11047.805580052922\n",
      "\tTM99-simple 4400.954444441932\n",
      "\tTM99-0 3252.125183993664\n",
      "\tpheno 2252.0657321386184\n",
      "\tlin 7829.397677596801\n",
      "\tlog 4885.931157577181\n",
      "\n",
      "\n",
      "SNR G352.7-0.1:\n",
      "\tR=7.65826398232 pc, age=4324.34966209 years\n",
      "\n",
      "\testimate 10182.73170412127\n",
      "\tTM99-simple 4056.3474823203396\n",
      "\tTM99-0 3003.3993981917006\n",
      "\tpheno 2075.722727400055\n",
      "\tlin 7583.566486077924\n",
      "\tlog 4715.0788834150035\n",
      "\n",
      "\n",
      "SNR G82.2+5.3:\n",
      "\tR=36.5733364169 pc, age=17166.5372163 years\n",
      "\n",
      "\testimate 507516.2143843454\n",
      "\tTM99-simple 202171.89043893619\n",
      "\tTM99-0 145996.57573477365\n",
      "\tpheno 103455.82809525011\n",
      "\tlin 35580.25210662053\n",
      "\tlog 25974.122733152148\n",
      "\n",
      "\n",
      "SNR G18.1-0.1:\n",
      "\tR=7.44673814184 pc, age=6774.95387438 years\n",
      "\n",
      "\testimate 9494.097252585932\n",
      "\tTM99-simple 3782.026140573323\n",
      "\tTM99-0 2805.4034236814678\n",
      "\tpheno 1935.3464292261517\n",
      "\tlin 7378.7590290005355\n",
      "\tlog 4573.131876872686\n",
      "\n",
      "\n",
      "SNR G43.3-0.2:\n",
      "\tR=5.69331467107 pc, age=4171.33072292 years\n",
      "\n",
      "\testimate 4852.342412849734\n",
      "\tTM99-simple 1932.9574324101045\n",
      "\tTM99-0 1470.807440453949\n",
      "\tpheno 989.1370724618928\n",
      "\tlin 5681.026962722083\n",
      "\tlog 3411.641725102717\n",
      "\n",
      "\n",
      "SNR G53.6-2.2:\n",
      "\tR=12.379130421 pc, age=27577.1644663 years\n",
      "\n",
      "\testimate 33827.02590740129\n",
      "\tTM99-simple 13475.182825286203\n",
      "\tTM99-0 9801.59989766932\n",
      "\tpheno 6895.549103775848\n",
      "\tlin 12154.491004421761\n",
      "\tlog 7963.37175263446\n",
      "\n",
      "\n",
      "SNR G337.2-0.7:\n",
      "\tR=4.93055513688 pc, age=1816.59021246 years\n",
      "\n",
      "\testimate 3386.7100705688786\n",
      "\tTM99-simple 1349.1146842787714\n",
      "\tTM99-0 1049.4092614394929\n",
      "\tpheno 690.371824463297\n",
      "\tlin 4942.493835026977\n",
      "\tlog 2916.0071564343007\n",
      "\n",
      "\n",
      "SNR G327.4+0.4:\n",
      "\tR=14.8134820263 pc, age=7429.6702484 years\n",
      "\n",
      "\testimate 52988.46721882025\n",
      "\tTM99-simple 21108.248929713292\n",
      "\tTM99-0 15310.891855131467\n",
      "\tpheno 10801.557862089388\n",
      "\tlin 14511.523888813297\n",
      "\tlog 9686.901955754092\n",
      "\n",
      "\n",
      "SNR G15.4+0.1:\n",
      "\tR=10.1168894947 pc, age=4527.69256907 years\n",
      "\n",
      "\testimate 20424.71407206542\n",
      "\tTM99-simple 8136.297794216014\n",
      "\tTM99-0 5948.171149498197\n",
      "\tpheno 4163.523544755174\n",
      "\tlin 9964.10230126352\n",
      "\tlog 6389.240264560449\n",
      "\n",
      "\n",
      "SNR G54.1+0.3:\n",
      "\tR=11.4319066006 pc, age=1897.3665961 years\n",
      "\n",
      "\testimate 27722.67532567325\n",
      "\tTM99-simple 11043.481015508414\n",
      "\tTM99-0 8046.478817847318\n",
      "\tpheno 5651.193501891305\n",
      "\tlin 11237.352457606057\n",
      "\tlog 7300.759321525385\n",
      "\n",
      "\n",
      "SNR G21.8-0.6:\n",
      "\tR=15.7079632679 pc, age=8997.77750336 years\n",
      "\n",
      "\testimate 61353.33324835251\n",
      "\tTM99-simple 24440.439568214264\n",
      "\tTM99-0 17715.95567015289\n",
      "\tpheno 12506.713515176985\n",
      "\tlin 15377.595041584249\n",
      "\tlog 10326.976581183775\n",
      "\n",
      "\n",
      "SNR G347.3-0.5:\n",
      "\tR=11.3051804005 pc, age=1303.84048104 years\n",
      "\n",
      "\testimate 26960.765070458077\n",
      "\tTM99-simple 10739.969852168493\n",
      "\tTM99-0 7827.414605863251\n",
      "\tpheno 5495.880126370543\n",
      "\tlin 11114.651275027292\n",
      "\tlog 7212.481402008279\n",
      "\n",
      "\n",
      "SNR G120.1+1.4:\n",
      "\tR=2.73434916146 pc, age=449.0 years\n",
      "\n",
      "\testimate 775.6635736901013\n",
      "\tTM99-simple 308.9898738068498\n",
      "\tTM99-0 298.68194233947145\n",
      "\tpheno 259.04360476968463\n",
      "\tlin 2816.042711963348\n",
      "\tlog 1532.363774945036\n",
      "\n",
      "\n",
      "SNR G85.4+0.7:\n",
      "\tR=13.7881010908 pc, age=13874.4369255 years\n",
      "\n",
      "\testimate 44289.38166118636\n",
      "\tTM99-simple 17642.920094041823\n",
      "\tTM99-0 12809.733339911276\n",
      "\tpheno 9028.272448680125\n",
      "\tlin 13518.710616124654\n",
      "\tlog 8957.503046365176\n",
      "\n",
      "\n",
      "SNR G330.2+1.0:\n",
      "\tR=7.83943722354 pc, age=3872.98334621 years\n",
      "\n",
      "\testimate 10795.696994848025\n",
      "\tTM99-simple 4300.525595427544\n",
      "\tTM99-0 3179.6389978919565\n",
      "\tpheno 2200.674068753175\n",
      "\tlin 7758.985388753636\n",
      "\tlog 4836.942834151708\n",
      "\n",
      "\n",
      "SNR G166.0+4.3:\n",
      "\tR=28.7160038072 pc, age=13449.9070629 years\n",
      "\n",
      "\testimate 277235.2666775844\n",
      "\tTM99-simple 110438.20152335767\n",
      "\tTM99-0 79786.2655321917\n",
      "\tpheno 56513.670457070824\n",
      "\tlin 27972.480367970187\n",
      "\tlog 19948.33830715147\n",
      "\n",
      "\n",
      "SNR G320.4-1.2:\n",
      "\tR=26.4708269886 pc, age=1836.0 years\n",
      "\n",
      "\testimate 226181.5852549789\n",
      "\tTM99-simple 90100.68521445258\n",
      "\tTM99-0 65107.32609913463\n",
      "\tpheno 46106.513524569775\n",
      "\tlin 25798.61379037288\n",
      "\tlog 18252.444924752184\n",
      "\n",
      "\n",
      "SNR G11.2-0.3:\n",
      "\tR=2.55981623626 pc, age=1635.0 years\n",
      "\n",
      "\testimate 657.7493736374353\n",
      "\tTM99-simple 262.0181001795563\n",
      "\tTM99-0 264.47327769166566\n",
      "\tpheno 242.5089065928963\n",
      "\tlin 2647.053218739749\n",
      "\tlog 1425.9374277416794\n",
      "\n",
      "\n",
      "SNR G33.6+0.1:\n",
      "\tR=8.21759189481 pc, age=5429.5487842 years\n",
      "\n",
      "\testimate 12145.066390505744\n",
      "\tTM99-simple 4838.054355866259\n",
      "\tTM99-0 3567.609288765243\n",
      "\tpheno 2475.739424849242\n",
      "\tlin 8125.1292907381\n",
      "\tlog 5092.127446321994\n",
      "\n",
      "\n",
      "SNR G94.0+1.0:\n",
      "\tR=20.7123843678 pc, age=25000.0 years\n",
      "\n",
      "\testimate 122493.68843506259\n",
      "\tTM99-simple 48796.03814785736\n",
      "\tTM99-0 35295.012570522194\n",
      "\tpheno 24970.01201993887\n",
      "\tlin 20223.068092445537\n",
      "\tlog 13965.398734959848\n",
      "\n",
      "\n",
      "SNR G18.8+0.3:\n",
      "\tR=27.4470713454 pc, age=100000.0 years\n",
      "\n",
      "\testimate 247615.8826164323\n",
      "\tTM99-simple 98639.15609474179\n",
      "\tTM99-0 71270.10895811174\n",
      "\tpheno 50475.83793297115\n",
      "\tlin 26743.851137030317\n",
      "\tlog 18988.299215909094\n",
      "\n",
      "\n",
      "SNR G114.3+0.3:\n",
      "\tR=7.16302985093 pc, age=7700.0 years\n",
      "\n",
      "\testimate 8615.49773026852\n",
      "\tTM99-simple 3432.031162420493\n",
      "\tTM99-0 2552.7887480177556\n",
      "\tpheno 1756.246257509072\n",
      "\tlin 7104.061746240066\n",
      "\tlog 4383.325198073495\n",
      "\n",
      "\n",
      "SNR G116.5+1.1:\n",
      "\tR=16.1226610154 pc, age=27386.1278753 years\n",
      "\n",
      "\testimate 65483.25772926082\n",
      "\tTM99-simple 26085.617822643333\n",
      "\tTM99-0 18903.39033948724\n",
      "\tpheno 13348.587616995615\n",
      "\tlin 15779.121355918473\n",
      "\tlog 10624.870127977529\n",
      "\n",
      "\n",
      "SNR G28.6-0.1:\n",
      "\tR=15.1028978655 pc, age=14496.8962195 years\n",
      "\n",
      "\testimate 55614.64680052448\n",
      "\tTM99-simple 22154.402088207655\n",
      "\tTM99-0 16065.9702343196\n",
      "\tpheno 11336.897572726284\n",
      "\tlin 14791.74743943699\n",
      "\tlog 9893.626497415442\n",
      "\n",
      "\n",
      "SNR G119.5+10.2:\n",
      "\tR=18.3259571459 pc, age=13000.0 years\n",
      "\n",
      "\testimate 90199.70900237648\n",
      "\tTM99-simple 35931.55286314119\n",
      "\tTM99-0 26009.857123634236\n",
      "\tpheno 18386.97035544268\n",
      "\tlin 17912.437439938236\n",
      "\tlog 12218.963793281888\n",
      "\n",
      "\n",
      "SNR G332.4-0.4:\n",
      "\tR=4.50876723432 pc, age=2966.47939484 years\n",
      "\n",
      "\testimate 2708.2141834038325\n",
      "\tTM99-simple 1078.832095712412\n",
      "\tTM99-0 854.3283239683697\n",
      "\tpheno 552.0622456234721\n",
      "\tlin 4534.10255973661\n",
      "\tlog 2644.8644642501717\n",
      "\n",
      "\n",
      "SNR G327.6+14.6:\n",
      "\tR=8.07214779047 pc, age=1015.0 years\n",
      "\n",
      "\testimate 11614.786509034484\n",
      "\tTM99-simple 4626.81443276581\n",
      "\tTM99-0 3415.143373560178\n",
      "\tpheno 2367.643283868976\n",
      "\tlin 7984.304713051766\n",
      "\tlog 4993.849806517202\n",
      "\n",
      "\n",
      "SNR G328.4+0.2:\n",
      "\tR=12.653637077 pc, age=5643.58042381 years\n",
      "\n",
      "\testimate 35733.61099008808\n",
      "\tTM99-simple 14234.681535917636\n",
      "\tTM99-0 10349.780678621524\n",
      "\tpheno 7284.201393048391\n",
      "\tlin 12420.278910171255\n",
      "\tlog 8156.2811279413745\n",
      "\n",
      "\n",
      "SNR G65.7+1.2:\n",
      "\tR=4.79965544298 pc, age=21563.8586528 years\n",
      "\n",
      "\testimate 3166.3842989600157\n",
      "\tTM99-simple 1261.3466948114487\n",
      "\tTM99-0 986.0612605339988\n",
      "\tpheno 645.4590029484806\n",
      "\tlin 4815.751715109277\n",
      "\tlog 2831.6237181760625\n",
      "\n",
      "\n",
      "SNR G29.7-0.3:\n",
      "\tR=2.44346095279 pc, age=1768.19116614 years\n",
      "\n",
      "\testimate 585.5338109748556\n",
      "\tTM99-simple 233.25063145874694\n",
      "\tTM99-0 243.24423022281604\n",
      "\tpheno 231.48577447503737\n",
      "\tlin 2534.3935565906827\n",
      "\tlog 1355.351257632457\n",
      "\n",
      "\n"
     ]
    }
   ],
   "source": [
    "M_ej_bench = 1.\n",
    "rho0_bench = 1.\n",
    "E_sn_bench = 1.\n",
    "\n",
    "for name, snr in dt.snrs_age_only.items():\n",
    "    try:\n",
    "        snr.get_distance()\n",
    "    except:\n",
    "        continue\n",
    "    \n",
    "    Rsnr = snr.get_radius()\n",
    "    print 'SNR {}:\\n\\tR={} pc, age={} years\\n'.format(name, Rsnr, snr.age)\n",
    "    print '\\testimate', dt.age_from_radius(Rsnr, method='estimate', M_ej=M_ej_bench, rho0=rho0_bench, E_sn=E_sn_bench)\n",
    "    print '\\tTM99-simple', dt.age_from_radius(Rsnr, method='TM99-simple', M_ej=M_ej_bench, rho0=rho0_bench, E_sn=E_sn_bench)\n",
    "    print '\\tTM99-0', dt.age_from_radius(Rsnr, method='TM99-0', M_ej=M_ej_bench, rho0=rho0_bench, E_sn=E_sn_bench)\n",
    "    print '\\tpheno', dt.age_from_radius(Rsnr, method=\"pheno\")\n",
    "    print '\\tlin', dt.age_from_radius(Rsnr, method=\"lin\")\n",
    "    print '\\tlog', dt.age_from_radius(Rsnr, method=\"log\")\n",
    "    print '\\n'"
   ]
  }
 ],
 "metadata": {
  "kernelspec": {
   "display_name": "Python 2",
   "language": "python",
   "name": "python2"
  },
  "language_info": {
   "codemirror_mode": {
    "name": "ipython",
    "version": 2
   },
   "file_extension": ".py",
   "mimetype": "text/x-python",
   "name": "python",
   "nbconvert_exporter": "python",
   "pygments_lexer": "ipython2",
   "version": "2.7.16"
  },
  "nteract": {
   "version": "0.28.0"
  }
 },
 "nbformat": 4,
 "nbformat_minor": 4
}
